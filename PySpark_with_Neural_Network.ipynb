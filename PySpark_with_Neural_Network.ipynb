{
  "nbformat": 4,
  "nbformat_minor": 0,
  "metadata": {
    "colab": {
      "provenance": []
    },
    "kernelspec": {
      "name": "python3",
      "display_name": "Python 3"
    },
    "language_info": {
      "name": "python"
    }
  },
  "cells": [
    {
      "cell_type": "markdown",
      "source": [
        "# PySpark with Neural Networks\n",
        "Pyspark implementation of Shallow Neural Network from scratch using MNIST.\n",
        "\n",
        "The goal of this project is to use Spark to build a 3 layer Neural Network from Scratch, using my own mathematical formulas to solve an Image classification Task. I will use the very famous MNIST dataset"
      ],
      "metadata": {
        "id": "srTseLAut4cD"
      }
    },
    {
      "cell_type": "markdown",
      "source": [
        "## Generate Dataset"
      ],
      "metadata": {
        "id": "a3gpvLb-t1AT"
      }
    },
    {
      "cell_type": "code",
      "source": [
        "import numpy as np\n",
        "import os\n",
        "\n",
        "import sys\n",
        "import pyspark\n",
        "import random\n",
        "import matplotlib.pyplot as plt\n",
        "from sklearn.metrics import multilabel_confusion_matrix\n",
        "\n",
        "from pyspark import SparkContext as sc\n",
        "\n",
        "print(\"Pyspark Script:\", sys.argv[0])\n",
        "print(\"PySpark version:\", pyspark.__version__)\n",
        "\n",
        "from keras.datasets import mnist\n",
        "from keras.utils import to_categorical\n",
        "\n",
        "# Initialize SparkContext\n",
        "sc = sc.getOrCreate()"
      ],
      "metadata": {
        "colab": {
          "base_uri": "https://localhost:8080/"
        },
        "id": "ZJyizVz4tzus",
        "outputId": "a1cc88c2-e49a-4bb1-b6c8-e6f2d13a164a"
      },
      "execution_count": 47,
      "outputs": [
        {
          "output_type": "stream",
          "name": "stdout",
          "text": [
            "Pyspark Script: /usr/local/lib/python3.11/dist-packages/colab_kernel_launcher.py\n",
            "PySpark version: 3.5.1\n"
          ]
        }
      ]
    },
    {
      "cell_type": "code",
      "source": [
        "print('Start downloading dataset...')\n",
        "# load MNIST from server\n",
        "(x_train, y_train), (x_test, y_test) = mnist.load_data()"
      ],
      "metadata": {
        "colab": {
          "base_uri": "https://localhost:8080/"
        },
        "id": "fdI5YqVTtzsT",
        "outputId": "19c942b3-97a3-4a85-ab50-dd7b2a9612cd"
      },
      "execution_count": 29,
      "outputs": [
        {
          "output_type": "stream",
          "name": "stdout",
          "text": [
            "Start downloading dataset...\n"
          ]
        }
      ]
    },
    {
      "cell_type": "code",
      "source": [
        "# training data : 60000 samples\n",
        "# reshape and normalize input data\n",
        "x_train = x_train.reshape(x_train.shape[0], 1, 28*28)\n",
        "x_train = x_train.astype('float32')\n",
        "x_train /= 255\n",
        "# encode output which is a number in range [0,9] into a vector of size 10\n",
        "# e.g. number 3 will become [0, 0, 0, 1, 0, 0, 0, 0, 0, 0]\n",
        "y_train = to_categorical(y_train).reshape(-1, 10)\n",
        "\n",
        "# same for test data : 10000 samples\n",
        "x_test = x_test.reshape(x_test.shape[0], 1, 28*28)\n",
        "x_test = x_test.astype('float32')\n",
        "x_test /= 255\n",
        "y_test = to_categorical(y_test)"
      ],
      "metadata": {
        "id": "36QEK37Stzp2"
      },
      "execution_count": 46,
      "outputs": []
    },
    {
      "cell_type": "code",
      "source": [
        "if not os.path.exists('data/'):\n",
        "    os.makedirs('data/')\n",
        "\n",
        "\n",
        "np.savetxt('data/mnist_images_train.csv', x_train.reshape(len(x_train),784).tolist())\n",
        "np.savetxt('data/mnist_images_test.csv', x_test.reshape(len(x_test),784).tolist())\n",
        "np.savetxt('data/mnist_labels_train.csv', y_train.tolist())\n",
        "np.savetxt('data/mnist_labels_test.csv', y_test.tolist())\n",
        "\n",
        "print('Dataset downloaded.')\n",
        "\n",
        "print('Data is located here:', os.getcwd() + '\\data')"
      ],
      "metadata": {
        "colab": {
          "base_uri": "https://localhost:8080/"
        },
        "id": "x-pejRw1tznb",
        "outputId": "9d699a72-7944-4203-9aeb-ef8bec83d429"
      },
      "execution_count": 41,
      "outputs": [
        {
          "output_type": "stream",
          "name": "stdout",
          "text": [
            "Dataset downloaded.\n",
            "Data is located here: /content\\data\n"
          ]
        }
      ]
    },
    {
      "cell_type": "markdown",
      "source": [
        "## Load the dataset"
      ],
      "metadata": {
        "id": "2iE53Mp5w2CG"
      }
    },
    {
      "cell_type": "code",
      "source": [
        "txt_train_images = sc.textFile(\"data/mnist_images_train.csv\", 1)\n",
        "x_train = txt_train_images.map(lambda x : np.fromstring(x, dtype=float, sep=' ').reshape(1, 784)).zipWithIndex().map(lambda x: (str(x[1]), x[0]))\n",
        "\n",
        "txt_train_labels = sc.textFile(\"data/mnist_labels_train.csv\", 1)\n",
        "y_train = txt_train_labels.map(lambda x : np.fromstring(x, dtype=float, sep=' ').reshape(1, 10)).zipWithIndex().map(lambda x: (str(x[1]), x[0]))\n",
        "\n",
        "txt_test_images = sc.textFile(\"data/mnist_images_test.csv\", 1)\n",
        "x_test = txt_test_images.map(lambda x : np.fromstring(x, dtype=float, sep=' ').reshape(1, 784)).zipWithIndex().map(lambda x: (str(x[1]), x[0]))\n",
        "\n",
        "txt_test_labels = sc.textFile(\"data/mnist_labels_test.csv\", 1)\n",
        "y_test = txt_test_labels.map(lambda x : np.fromstring(x, dtype=float, sep=' ').reshape(1, 10)).zipWithIndex().map(lambda x: (str(x[1]), x[0]))"
      ],
      "metadata": {
        "id": "PMb49ekctzlF"
      },
      "execution_count": 48,
      "outputs": []
    },
    {
      "cell_type": "code",
      "source": [
        "train_ds_rdd = x_train.join(y_train).map(lambda x: x[1]).map(lambda x: (x[0], np.array([x[1][0][:2]])))\n",
        "test_ds_rdd = x_test.join(y_test).map(lambda x: x[1]).map(lambda x: (x[0], np.array([x[1][0][:2]])))\n",
        "\n",
        "train_rdd = train_ds_rdd.filter(lambda x: np.array_equal(x[1][0], [1., 0.]) or np.array_equal(x[1][0], [0., 1.]))\n",
        "test_rdd = test_ds_rdd.filter(lambda x: np.array_equal(x[1][0], [1., 0.]) or np.array_equal(x[1][0], [0., 1.]))\n",
        "\n",
        "train_rdd.cache()\n",
        "\n",
        "print(train_rdd.take(1))\n",
        "print(\"Trainset size:\", train_rdd.count())\n",
        "print(\"Testset size:\", test_rdd.count())"
      ],
      "metadata": {
        "colab": {
          "base_uri": "https://localhost:8080/"
        },
        "id": "e1ZACdsHtzii",
        "outputId": "ac26dc73-e483-4150-e59e-d02f706b51d8"
      },
      "execution_count": 50,
      "outputs": [
        {
          "output_type": "stream",
          "name": "stdout",
          "text": [
            "[(array([[0.        , 0.        , 0.        , 0.        , 0.        ,\n",
            "        0.        , 0.        , 0.        , 0.        , 0.        ,\n",
            "        0.        , 0.        , 0.        , 0.        , 0.        ,\n",
            "        0.        , 0.        , 0.        , 0.        , 0.        ,\n",
            "        0.        , 0.        , 0.        , 0.        , 0.        ,\n",
            "        0.        , 0.        , 0.        , 0.        , 0.        ,\n",
            "        0.        , 0.        , 0.        , 0.        , 0.        ,\n",
            "        0.        , 0.        , 0.        , 0.        , 0.        ,\n",
            "        0.        , 0.        , 0.        , 0.        , 0.        ,\n",
            "        0.        , 0.        , 0.        , 0.        , 0.        ,\n",
            "        0.        , 0.        , 0.        , 0.        , 0.        ,\n",
            "        0.        , 0.        , 0.        , 0.        , 0.        ,\n",
            "        0.        , 0.        , 0.        , 0.        , 0.        ,\n",
            "        0.        , 0.        , 0.        , 0.        , 0.        ,\n",
            "        0.        , 0.        , 0.        , 0.        , 0.        ,\n",
            "        0.        , 0.        , 0.        , 0.        , 0.        ,\n",
            "        0.        , 0.        , 0.        , 0.        , 0.        ,\n",
            "        0.        , 0.        , 0.        , 0.        , 0.        ,\n",
            "        0.        , 0.        , 0.        , 0.        , 0.        ,\n",
            "        0.        , 0.        , 0.        , 0.        , 0.        ,\n",
            "        0.        , 0.        , 0.        , 0.        , 0.        ,\n",
            "        0.        , 0.        , 0.        , 0.        , 0.        ,\n",
            "        0.        , 0.        , 0.        , 0.        , 0.        ,\n",
            "        0.        , 0.        , 0.        , 0.        , 0.        ,\n",
            "        0.        , 0.        , 0.        , 0.        , 0.        ,\n",
            "        0.        , 0.        , 0.        , 0.        , 0.25098041,\n",
            "        0.99215686, 1.        , 0.24705882, 0.        , 0.        ,\n",
            "        0.        , 0.        , 0.        , 0.        , 0.        ,\n",
            "        0.        , 0.        , 0.        , 0.        , 0.        ,\n",
            "        0.        , 0.        , 0.        , 0.        , 0.        ,\n",
            "        0.        , 0.        , 0.        , 0.        , 0.        ,\n",
            "        0.        , 0.3764706 , 0.80392158, 0.98431373, 0.99215686,\n",
            "        0.80392158, 0.43529412, 0.01568628, 0.        , 0.        ,\n",
            "        0.        , 0.        , 0.        , 0.        , 0.        ,\n",
            "        0.        , 0.        , 0.        , 0.        , 0.        ,\n",
            "        0.        , 0.        , 0.        , 0.        , 0.        ,\n",
            "        0.        , 0.        , 0.        , 0.3764706 , 0.74117649,\n",
            "        0.98431373, 0.98431373, 0.99215686, 0.98431373, 0.98431373,\n",
            "        0.12156863, 0.        , 0.        , 0.        , 0.        ,\n",
            "        0.        , 0.        , 0.        , 0.        , 0.        ,\n",
            "        0.        , 0.        , 0.        , 0.        , 0.        ,\n",
            "        0.        , 0.        , 0.        , 0.0627451 , 0.25098041,\n",
            "        0.87450981, 0.95686275, 0.98431373, 0.98431373, 0.82745099,\n",
            "        0.83529413, 0.98431373, 0.98431373, 0.12156863, 0.        ,\n",
            "        0.        , 0.        , 0.        , 0.        , 0.        ,\n",
            "        0.        , 0.        , 0.        , 0.        , 0.        ,\n",
            "        0.        , 0.        , 0.        , 0.        , 0.        ,\n",
            "        0.3137255 , 0.70980394, 0.98431373, 0.99215686, 0.98431373,\n",
            "        0.98431373, 0.98431373, 0.36862746, 0.3764706 , 0.98431373,\n",
            "        0.98431373, 0.12156863, 0.        , 0.        , 0.        ,\n",
            "        0.        , 0.        , 0.        , 0.        , 0.        ,\n",
            "        0.        , 0.        , 0.        , 0.        , 0.        ,\n",
            "        0.        , 0.        , 0.36078432, 0.99215686, 0.99215686,\n",
            "        0.99215686, 1.        , 0.99215686, 0.99215686, 0.99215686,\n",
            "        0.37254903, 0.3764706 , 0.99215686, 0.99215686, 0.12156863,\n",
            "        0.        , 0.        , 0.        , 0.        , 0.        ,\n",
            "        0.        , 0.        , 0.        , 0.        , 0.        ,\n",
            "        0.        , 0.        , 0.        , 0.        , 0.36078432,\n",
            "        0.9254902 , 0.98431373, 0.95294118, 0.86274511, 0.9137255 ,\n",
            "        0.98431373, 0.98431373, 0.95294118, 0.32156864, 0.3764706 ,\n",
            "        0.98431373, 0.98431373, 0.12156863, 0.        , 0.        ,\n",
            "        0.        , 0.        , 0.        , 0.        , 0.        ,\n",
            "        0.        , 0.        , 0.        , 0.        , 0.        ,\n",
            "        0.        , 0.3137255 , 0.99215686, 0.98431373, 0.98431373,\n",
            "        0.73725492, 0.        , 0.3764706 , 0.98431373, 0.98431373,\n",
            "        0.42745098, 0.        , 0.3764706 , 0.98431373, 0.98431373,\n",
            "        0.12156863, 0.        , 0.        , 0.        , 0.        ,\n",
            "        0.        , 0.        , 0.        , 0.        , 0.        ,\n",
            "        0.        , 0.        , 0.        , 0.3764706 , 0.94117647,\n",
            "        0.99215686, 0.95294118, 0.73725492, 0.16470589, 0.        ,\n",
            "        0.3764706 , 0.80000001, 0.42745098, 0.01568628, 0.        ,\n",
            "        0.04705882, 0.77254903, 0.98431373, 0.12156863, 0.        ,\n",
            "        0.        , 0.        , 0.        , 0.        , 0.        ,\n",
            "        0.        , 0.        , 0.        , 0.        , 0.        ,\n",
            "        0.        , 0.86666667, 0.98431373, 0.99215686, 0.47450981,\n",
            "        0.        , 0.        , 0.        , 0.14117648, 0.09019608,\n",
            "        0.        , 0.        , 0.        , 0.        , 0.74509805,\n",
            "        0.98431373, 0.12156863, 0.        , 0.        , 0.        ,\n",
            "        0.        , 0.        , 0.        , 0.        , 0.        ,\n",
            "        0.        , 0.        , 0.        , 0.1882353 , 0.91764706,\n",
            "        0.99215686, 0.        , 0.        , 0.        , 0.        ,\n",
            "        0.        , 0.        , 0.        , 0.        , 0.        ,\n",
            "        0.        , 0.        , 0.74901962, 0.99215686, 0.12156863,\n",
            "        0.        , 0.        , 0.        , 0.        , 0.        ,\n",
            "        0.        , 0.        , 0.        , 0.        , 0.        ,\n",
            "        0.17254902, 0.86666667, 0.98431373, 0.98431373, 0.        ,\n",
            "        0.        , 0.        , 0.        , 0.        , 0.        ,\n",
            "        0.        , 0.        , 0.        , 0.        , 0.04705882,\n",
            "        0.77254903, 0.98431373, 0.12156863, 0.        , 0.        ,\n",
            "        0.        , 0.        , 0.        , 0.        , 0.        ,\n",
            "        0.        , 0.        , 0.        , 0.74509805, 0.98431373,\n",
            "        0.98431373, 0.98431373, 0.        , 0.        , 0.        ,\n",
            "        0.        , 0.        , 0.        , 0.        , 0.        ,\n",
            "        0.        , 0.        , 0.3764706 , 0.98431373, 0.98431373,\n",
            "        0.12156863, 0.        , 0.        , 0.        , 0.        ,\n",
            "        0.        , 0.        , 0.        , 0.        , 0.        ,\n",
            "        0.        , 0.74509805, 0.98431373, 0.98431373, 0.44313726,\n",
            "        0.        , 0.        , 0.        , 0.        , 0.        ,\n",
            "        0.        , 0.        , 0.        , 0.        , 0.15686275,\n",
            "        0.91764706, 0.98431373, 0.85882354, 0.09019608, 0.        ,\n",
            "        0.        , 0.        , 0.        , 0.        , 0.        ,\n",
            "        0.        , 0.        , 0.        , 0.        , 0.74509805,\n",
            "        0.98431373, 0.98431373, 0.36862746, 0.        , 0.        ,\n",
            "        0.        , 0.        , 0.        , 0.        , 0.        ,\n",
            "        0.        , 0.15686275, 0.8509804 , 0.99215686, 0.90588236,\n",
            "        0.18431373, 0.        , 0.        , 0.        , 0.        ,\n",
            "        0.        , 0.        , 0.        , 0.        , 0.        ,\n",
            "        0.        , 0.        , 0.74901962, 0.99215686, 0.99215686,\n",
            "        0.99215686, 0.        , 0.        , 0.        , 0.        ,\n",
            "        0.        , 0.        , 0.04705882, 0.68235296, 0.99215686,\n",
            "        0.99215686, 0.85882354, 0.15294118, 0.        , 0.        ,\n",
            "        0.        , 0.        , 0.        , 0.        , 0.        ,\n",
            "        0.        , 0.        , 0.        , 0.        , 0.        ,\n",
            "        0.26274511, 0.9254902 , 0.98431373, 0.98431373, 0.74901962,\n",
            "        0.74509805, 0.43529412, 0.28235295, 0.74509805, 0.74901962,\n",
            "        0.77254903, 0.98431373, 0.95294118, 0.47450981, 0.15294118,\n",
            "        0.        , 0.        , 0.        , 0.        , 0.        ,\n",
            "        0.        , 0.        , 0.        , 0.        , 0.        ,\n",
            "        0.        , 0.        , 0.        , 0.        , 0.24705882,\n",
            "        0.9254902 , 0.98431373, 0.99215686, 0.98431373, 0.98431373,\n",
            "        0.98431373, 0.98431373, 0.99215686, 0.98431373, 0.73725492,\n",
            "        0.36862746, 0.        , 0.        , 0.        , 0.        ,\n",
            "        0.        , 0.        , 0.        , 0.        , 0.        ,\n",
            "        0.        , 0.        , 0.        , 0.        , 0.        ,\n",
            "        0.        , 0.        , 0.        , 0.10588235, 0.50588238,\n",
            "        0.99215686, 0.98431373, 0.98431373, 0.98431373, 0.98431373,\n",
            "        0.89803922, 0.65882355, 0.05882353, 0.        , 0.        ,\n",
            "        0.        , 0.        , 0.        , 0.        , 0.        ,\n",
            "        0.        , 0.        , 0.        , 0.        , 0.        ,\n",
            "        0.        , 0.        , 0.        , 0.        , 0.        ,\n",
            "        0.        , 0.        , 0.        , 0.37254903, 0.83137256,\n",
            "        0.98431373, 0.82745099, 0.36862746, 0.23137255, 0.        ,\n",
            "        0.        , 0.        , 0.        , 0.        , 0.        ,\n",
            "        0.        , 0.        , 0.        , 0.        , 0.        ,\n",
            "        0.        , 0.        , 0.        , 0.        , 0.        ,\n",
            "        0.        , 0.        , 0.        , 0.        , 0.        ,\n",
            "        0.        , 0.        , 0.        , 0.        , 0.        ,\n",
            "        0.        , 0.        , 0.        , 0.        , 0.        ,\n",
            "        0.        , 0.        , 0.        , 0.        , 0.        ,\n",
            "        0.        , 0.        , 0.        , 0.        , 0.        ,\n",
            "        0.        , 0.        , 0.        , 0.        , 0.        ,\n",
            "        0.        , 0.        , 0.        , 0.        , 0.        ,\n",
            "        0.        , 0.        , 0.        , 0.        , 0.        ,\n",
            "        0.        , 0.        , 0.        , 0.        , 0.        ,\n",
            "        0.        , 0.        , 0.        , 0.        , 0.        ,\n",
            "        0.        , 0.        , 0.        , 0.        , 0.        ,\n",
            "        0.        , 0.        , 0.        , 0.        , 0.        ,\n",
            "        0.        , 0.        , 0.        , 0.        , 0.        ,\n",
            "        0.        , 0.        , 0.        , 0.        , 0.        ,\n",
            "        0.        , 0.        , 0.        , 0.        , 0.        ,\n",
            "        0.        , 0.        , 0.        , 0.        , 0.        ,\n",
            "        0.        , 0.        , 0.        , 0.        , 0.        ,\n",
            "        0.        , 0.        , 0.        , 0.        , 0.        ,\n",
            "        0.        , 0.        , 0.        , 0.        , 0.        ,\n",
            "        0.        , 0.        , 0.        , 0.        , 0.        ,\n",
            "        0.        , 0.        , 0.        , 0.        , 0.        ,\n",
            "        0.        , 0.        , 0.        , 0.        ]]), array([[1., 0.]]))]\n",
            "Trainset size: 12665\n",
            "Testset size: 2115\n"
          ]
        }
      ]
    },
    {
      "cell_type": "code",
      "source": [
        "# train_rdd = x_train.join(y_train).map(lambda x: x[1])\n",
        "# test_rdd = x_test.join(y_test).map(lambda x: x[1])\n",
        "# train_rdd.cache()\n",
        "\n",
        "# print('Data Loaded!')"
      ],
      "metadata": {
        "colab": {
          "base_uri": "https://localhost:8080/"
        },
        "id": "A6TbqShqtzdT",
        "outputId": "7843fc52-7174-40fc-aa4e-ac52f5b1ada6"
      },
      "execution_count": 49,
      "outputs": [
        {
          "output_type": "stream",
          "name": "stdout",
          "text": [
            "Data Loaded!\n"
          ]
        }
      ]
    },
    {
      "cell_type": "markdown",
      "source": [
        "## NN Functions"
      ],
      "metadata": {
        "id": "pY4HxrZO0xoW"
      }
    },
    {
      "cell_type": "markdown",
      "source": [
        "### Activation Functions"
      ],
      "metadata": {
        "id": "ZcPJkzg80zlw"
      }
    },
    {
      "cell_type": "code",
      "source": [
        "# General function to apply any activation function\n",
        "def activation(x, f):\n",
        "    return f(x)\n",
        "\n",
        "# Sigmoid Activation function\n",
        "def sigmoid(X):\n",
        "    return 1 / (1 + np.exp(-X))\n",
        "\n",
        "# Sigmoid prime function (used for backward prop)\n",
        "def sigmoid_prime(x):\n",
        "    sig = sigmoid(x)\n",
        "    return sig * (1 - sig)"
      ],
      "metadata": {
        "id": "sesms0J1tzRS"
      },
      "execution_count": 56,
      "outputs": []
    },
    {
      "cell_type": "markdown",
      "source": [
        "### Forward Propagation"
      ],
      "metadata": {
        "id": "7cY6iHqs05Uy"
      }
    },
    {
      "cell_type": "code",
      "source": [
        "# Compute the layer propagation before activation\n",
        "def preforward(x, w, b):\n",
        "    return np.dot(x, w) + b\n",
        "\n",
        "# Compute the layer propagation after activation\n",
        "# This is also equivalent to a predict function once model is trained\n",
        "def predict(x, W1, B1, W2, B2):\n",
        "    return sigmoid(preforward(sigmoid(preforward(x , W1, B1)), W2, B2))"
      ],
      "metadata": {
        "id": "Z4WU1ZCjtzPE"
      },
      "execution_count": 57,
      "outputs": []
    },
    {
      "cell_type": "markdown",
      "source": [
        "### Backward Propagation"
      ],
      "metadata": {
        "id": "6odLZBFK095C"
      }
    },
    {
      "cell_type": "code",
      "source": [
        "# Compute the derivative of the error regarding B2\n",
        "def derivativeB2(y_pred, y_true, y_h, f_prime):\n",
        "    return (y_pred - y_true) * f_prime(y_h)\n",
        "\n",
        "# Compute the derivative of the error regarding W2\n",
        "def derivativeW2(h, dB2):\n",
        "    return np.dot(h.T, dB2)\n",
        "\n",
        "# Compute the derivative of the error regarding B1\n",
        "def derivativeB1(h_h, dB2, W2, f_prime):\n",
        "    return np.dot(dB2, W2.T) * f_prime(h_h)\n",
        "\n",
        "# Compute the derivative of the error regarding W1\n",
        "def derivativeW1(x, dB1):\n",
        "    return np.dot(x.T, dB1)"
      ],
      "metadata": {
        "id": "9uguSvVytzMj"
      },
      "execution_count": 58,
      "outputs": []
    },
    {
      "cell_type": "markdown",
      "source": [
        "### Evaluation"
      ],
      "metadata": {
        "id": "vLce8Av71CWS"
      }
    },
    {
      "cell_type": "code",
      "source": [
        "def get_metrics(pred, true):\n",
        "    cm = multilabel_confusion_matrix(true, pred)\n",
        "    return (cm)\n",
        "\n",
        "# Cost function\n",
        "def sse(y_pred, y_true):\n",
        "    return 0.5 * np.sum(np.power(y_pred - y_true, 2))"
      ],
      "metadata": {
        "id": "D7KoJcCItzKK"
      },
      "execution_count": 59,
      "outputs": []
    },
    {
      "cell_type": "markdown",
      "source": [
        "## Training Mini Batch"
      ],
      "metadata": {
        "id": "BMABCNrO16-q"
      }
    },
    {
      "cell_type": "code",
      "source": [
        "# Hyperparameters\n",
        "num_iteration = 50\n",
        "learningRate = 0.1\n",
        "\n",
        "input_layer = 784 # number of neurones in the input layer (equal to image size)\n",
        "hidden_layer = 64 # number of neurones in the hidden layer (Custom)\n",
        "output_layer = 2 # number of neurones in the output layer (equal to the number of possible labels)\n",
        "\n",
        "# Paramater Initialization\n",
        "W1 = np.random.rand(input_layer, hidden_layer) - 0.5 # Shape (784, 64)\n",
        "W2 = np.random.rand(hidden_layer, output_layer) - 0.5 # Shape (64, 2)\n",
        "B1 = np.random.rand(1, hidden_layer) - 0.5 # Shape (1, 64)\n",
        "B2 = np.random.rand(1, output_layer) - 0.5 # Shape (1, 2)\n",
        "\n",
        "# History over epochs\n",
        "cost_history = []\n",
        "acc_history = []"
      ],
      "metadata": {
        "id": "KnZo-NRktzH9"
      },
      "execution_count": 64,
      "outputs": []
    },
    {
      "cell_type": "code",
      "source": [
        "# Epoch Loop (mini batch implementation)\n",
        "print(\"Start Training Loop:\")\n",
        "\n",
        "for i in range(num_iteration):\n",
        "\n",
        "    # Compute gradients, cost and accuracy over mini batch\n",
        "\n",
        "    ################## Notations ######################\n",
        "    # x -> Input Image flatten of shape (1, 784)\n",
        "    # y* -> One hot label of shape (1, 2)\n",
        "    # h^ -> Forward prop from Input layer to hidden layer before activation (1, 64) using W1, B1 parm\n",
        "    # h -> Forward prop from Input layer to hidden layer after tanh activation (1, 64)\n",
        "    # y^ -> Forward prop from hidden layer to output layer before activation (1, 2) using W2, B2 parm\n",
        "    # y -> Forward prop from hidden layer to output layer after sigmoid activation (1, 2)\n",
        "    # E -> Error between y and y* using SSE\n",
        "    # Acc -> 1 is right prediction 0 otherwise\n",
        "    # DE/D? -> Partial derivative of the Error regarding parmaters (B2, W2, B1, W1)\n",
        "\n",
        "\n",
        "    ################# Forward Prop ######################\n",
        "    # map batch ([x], [y*]) to ([x], [h^],[y*])\n",
        "    # map batch ([x], [h^],[y*]) to ([x], [h^], [h], [y*])\n",
        "    # map batch ([x], [h^], [h], [y*]) to ([x], [h^], [h], [y^], [y*])\n",
        "    # map batch ([x], [h^], [h], [y^], [y*]) to ([x], [h^], [h], [y^], [y], [y*])\n",
        "    ################# Backward Prop #####################\n",
        "    # map batch ([x], [h^], [h], [y^], [y], [y*]) to ([x], [h^], [h], [E], [DE/DB2], [Acc])\n",
        "    # map batch ([x], [h^], [h], [E], [DE/DB2], [Acc]) to ([x], [h^], [E], [DE/DB2], [DE/DW2], [Acc])\n",
        "    # map batch ([x], [h^], [E], [DE/DB2], [DE/DW2], [Acc]) to ([x], [E], [DE/DB2], [DE/DW2], [DE/DB1], [Acc])\n",
        "    # map batch ([x], [E], [DE/DB2], [DE/DW2], [DE/DB1], [Acc]) to ([E], [DE/DB2], [DE/DW2], [DE/DB1], [DE/DW1],[Acc])\n",
        "    ############### Reduce over the mini batch #########\n",
        "\n",
        "\n",
        "    gradientCostAcc = train_rdd\\\n",
        "                        .sample(False,0.7)\\\n",
        "                        .map(lambda x: (x[0], preforward(x[0], W1, B1), x[1]))\\\n",
        "                        .map(lambda x: (x[0], x[1], activation(x[1], sigmoid), x[2]))\\\n",
        "                        .map(lambda x: (x[0], x[1], x[2], preforward(x[2], W2, B2), x[3]))\\\n",
        "                        .map(lambda x: (x[0], x[1], x[2], x[3], activation(x[3], sigmoid), x[4]))\\\n",
        "                        .map(lambda x: (x[0], x[1], x[2], sse(x[4], x[5]), derivativeB2(x[4], x[5], x[3], sigmoid_prime), int(np.argmax(x[4]) == np.argmax(x[5]))))\\\n",
        "                        .map(lambda x: (x[0], x[1], x[3], x[4],  derivativeW2(x[2], x[4]) ,x[5]))\\\n",
        "                        .map(lambda x: (x[0], x[2], x[3], x[4],  derivativeB1(x[1],  x[3], W2, sigmoid_prime) ,x[5]))\\\n",
        "                        .map(lambda x: (x[1], x[2], x[3], x[4], derivativeW1(x[0], x[4]) ,x[5], 1)) \\\n",
        "                        .reduce(lambda x, y: (x[0] + y[0], x[1] + y[1], x[2] + y[2], x[3] + y[3], x[4] + y[4], x[5] + y[5], x[6] + y[6]))\n",
        "\n",
        "    # Cost and Accuarcy of the mini batch\n",
        "    n = gradientCostAcc[-1] # number of images in the mini batch\n",
        "    cost = gradientCostAcc[0]/n # Cost over the mini batch\n",
        "    acc = gradientCostAcc[5]/n # Accuarcy over the mini batch\n",
        "\n",
        "     # Add to history\n",
        "    cost_history.append(cost)\n",
        "    acc_history.append(acc)\n",
        "\n",
        "\n",
        "    # Extract gradiends\n",
        "    DB2 = gradientCostAcc[1]/n\n",
        "    DW2 = gradientCostAcc[2]/n\n",
        "    DB1 = gradientCostAcc[3]/n\n",
        "    DW1 = gradientCostAcc[4]/n\n",
        "\n",
        "    # Update parameter with new learning rate and gradients using Gradient Descent\n",
        "    B2 -= learningRate * DB2\n",
        "    W2 -= learningRate * DW2\n",
        "    B1 -= learningRate * DB1\n",
        "    W1 -= learningRate * DW1\n",
        "\n",
        "    # Display performances\n",
        "    print(f\"   Epoch {i+1}/{num_iteration} | Cost: {cost_history[i]} | Acc: {acc_history[i]*100} | Batchsize:{n}\")\n",
        "\n",
        "print(\"Training end..\")\n",
        "\n",
        "# Plot of cost over epochs\n",
        "plt.subplot(2, 1, 1)\n",
        "plt.plot(cost_history)\n",
        "plt.show()\n",
        "\n",
        "# Plot of accuracy over epochs\n",
        "plt.subplot(2, 1, 2)\n",
        "plt.plot(acc_history)\n",
        "plt.show()"
      ],
      "metadata": {
        "colab": {
          "base_uri": "https://localhost:8080/",
          "height": 1000
        },
        "id": "hAu6QhGCtzFq",
        "outputId": "f0878650-02c1-413f-cd7d-8697eb62b9b6"
      },
      "execution_count": 65,
      "outputs": [
        {
          "output_type": "stream",
          "name": "stdout",
          "text": [
            "Start Training Loop:\n",
            "   Epoch 1/50 | Cost: 0.1838787498952799 | Acc: 85.49764097955516 | Batchsize:8902\n",
            "   Epoch 2/50 | Cost: 0.17797996276130215 | Acc: 86.67576170986813 | Batchsize:8796\n",
            "   Epoch 3/50 | Cost: 0.1715685282934422 | Acc: 88.12330009066183 | Batchsize:8824\n",
            "   Epoch 4/50 | Cost: 0.1673369961434376 | Acc: 89.1864406779661 | Batchsize:8850\n",
            "   Epoch 5/50 | Cost: 0.1626709462756437 | Acc: 90.25577184246265 | Batchsize:8836\n",
            "   Epoch 6/50 | Cost: 0.1589243270416648 | Acc: 91.17581436858545 | Batchsize:8964\n",
            "   Epoch 7/50 | Cost: 0.15515014304876398 | Acc: 91.77805234190723 | Batchsize:8903\n",
            "   Epoch 8/50 | Cost: 0.15225080653058012 | Acc: 92.52473021582733 | Batchsize:8896\n",
            "   Epoch 9/50 | Cost: 0.14852175990773514 | Acc: 93.10344827586206 | Batchsize:8874\n",
            "   Epoch 10/50 | Cost: 0.1451982276915257 | Acc: 93.61774357813738 | Batchsize:8837\n",
            "   Epoch 11/50 | Cost: 0.14338828494303893 | Acc: 93.98445420750254 | Batchsize:8877\n",
            "   Epoch 12/50 | Cost: 0.13963094537687354 | Acc: 94.75402454125859 | Batchsize:8883\n",
            "   Epoch 13/50 | Cost: 0.13672341987339584 | Acc: 94.85849588454165 | Batchsize:8869\n",
            "   Epoch 14/50 | Cost: 0.1337374429000065 | Acc: 95.32752573820568 | Batchsize:8839\n",
            "   Epoch 15/50 | Cost: 0.13188287901793525 | Acc: 95.41699671834333 | Batchsize:8837\n",
            "   Epoch 16/50 | Cost: 0.12934538030793194 | Acc: 95.61969439728352 | Batchsize:8835\n",
            "   Epoch 17/50 | Cost: 0.12735843137796857 | Acc: 95.92366757000903 | Batchsize:8856\n",
            "   Epoch 18/50 | Cost: 0.12487925425992538 | Acc: 95.9426137637301 | Batchsize:8922\n",
            "   Epoch 19/50 | Cost: 0.12224316942814284 | Acc: 96.45589558955896 | Batchsize:8888\n",
            "   Epoch 20/50 | Cost: 0.11983611447204179 | Acc: 96.74952198852772 | Batchsize:8891\n",
            "   Epoch 21/50 | Cost: 0.11889175987016438 | Acc: 96.6008525914292 | Batchsize:8914\n",
            "   Epoch 22/50 | Cost: 0.11625037266386658 | Acc: 96.86230248306997 | Batchsize:8860\n",
            "   Epoch 23/50 | Cost: 0.11442792564041702 | Acc: 97.11430496294633 | Batchsize:8906\n",
            "   Epoch 24/50 | Cost: 0.11177755831999978 | Acc: 97.3607367475292 | Batchsize:8904\n",
            "   Epoch 25/50 | Cost: 0.11034936293821146 | Acc: 97.3603715871757 | Batchsize:8827\n",
            "   Epoch 26/50 | Cost: 0.10870025698892982 | Acc: 97.42256387067602 | Batchsize:8846\n",
            "   Epoch 27/50 | Cost: 0.10607792260503922 | Acc: 97.61467889908258 | Batchsize:8720\n",
            "   Epoch 28/50 | Cost: 0.10520043557429115 | Acc: 97.52188245992951 | Batchsize:8797\n",
            "   Epoch 29/50 | Cost: 0.10302459269651762 | Acc: 97.73390172761948 | Batchsize:8914\n",
            "   Epoch 30/50 | Cost: 0.10156658938142483 | Acc: 97.77777777777777 | Batchsize:8955\n",
            "   Epoch 31/50 | Cost: 0.0996195315265521 | Acc: 97.89461832920513 | Batchsize:8882\n",
            "   Epoch 32/50 | Cost: 0.09834096797426443 | Acc: 98.04010422567123 | Batchsize:8827\n",
            "   Epoch 33/50 | Cost: 0.09685148766156716 | Acc: 98.01242236024845 | Batchsize:8855\n",
            "   Epoch 34/50 | Cost: 0.09452338914066719 | Acc: 98.2217691697814 | Batchsize:8829\n",
            "   Epoch 35/50 | Cost: 0.09373013310741588 | Acc: 98.22015644484753 | Batchsize:8821\n",
            "   Epoch 36/50 | Cost: 0.0917243703483557 | Acc: 98.3344586990772 | Batchsize:8886\n",
            "   Epoch 37/50 | Cost: 0.09058096675675197 | Acc: 98.2662192393736 | Batchsize:8940\n",
            "   Epoch 38/50 | Cost: 0.08927967914142672 | Acc: 98.37269747994124 | Batchsize:8849\n",
            "   Epoch 39/50 | Cost: 0.08771958256221009 | Acc: 98.4047969227288 | Batchsize:8839\n",
            "   Epoch 40/50 | Cost: 0.08603142577916638 | Acc: 98.65664845173042 | Batchsize:8784\n",
            "   Epoch 41/50 | Cost: 0.08529677143134005 | Acc: 98.42324586102038 | Batchsize:8879\n",
            "   Epoch 42/50 | Cost: 0.08365721336084536 | Acc: 98.53890587835542 | Batchsize:8829\n",
            "   Epoch 43/50 | Cost: 0.08302676069626864 | Acc: 98.60186418109188 | Batchsize:9012\n",
            "   Epoch 44/50 | Cost: 0.08181543552031413 | Acc: 98.50931677018635 | Batchsize:8855\n",
            "   Epoch 45/50 | Cost: 0.08074498279328282 | Acc: 98.58324832823303 | Batchsize:8823\n",
            "   Epoch 46/50 | Cost: 0.07923301067870268 | Acc: 98.62030286034773 | Batchsize:8915\n",
            "   Epoch 47/50 | Cost: 0.07873301362724262 | Acc: 98.56871295985687 | Batchsize:8943\n",
            "   Epoch 48/50 | Cost: 0.07707156035565868 | Acc: 98.74519556861858 | Batchsize:8846\n",
            "   Epoch 49/50 | Cost: 0.07638727787281942 | Acc: 98.63122171945702 | Batchsize:8840\n",
            "   Epoch 50/50 | Cost: 0.07522898907781943 | Acc: 98.70071178397922 | Batchsize:8851\n",
            "Training end..\n"
          ]
        },
        {
          "output_type": "display_data",
          "data": {
            "text/plain": [
              "<Figure size 640x480 with 1 Axes>"
            ],
            "image/png": "[encoded data removed]"
          },
          "metadata": {}
        },
        {
          "output_type": "display_data",
          "data": {
            "text/plain": [
              "<Figure size 640x480 with 1 Axes>"
            ],
            "image/png": "[encoded data removed]"
          },
          "metadata": {}
        }
      ]
    },
    {
      "cell_type": "markdown",
      "source": [
        "## Test Evaluation"
      ],
      "metadata": {
        "id": "urMK-plE4-Xy"
      }
    },
    {
      "cell_type": "code",
      "source": [
        "# Use the trained model over the Testset and get Confusion matrix per class\n",
        "metrics = test_rdd.map(lambda x: get_metrics(np.round(predict(x[0], W1, B1, W2, B2)), x[1]))\\\n",
        "                  .reduce(lambda x, y: x + y)\n",
        "\n",
        "# For each class give TP, FP, FN, TN and precision, and recall, and F1 score\n",
        "for label, label_metrics in enumerate(metrics):\n",
        "\n",
        "    print(f\"\\n---- Digit {label} ------\\n\")\n",
        "    tn, fp, fn, tp = label_metrics.ravel()\n",
        "    print(\"TP:\", tp, \"FP:\", fp, \"FN:\", fn, \"TN:\", tn)\n",
        "\n",
        "    precision = tp / (tp + fp + 0.000001)\n",
        "    print(f\"\\nPrecision : {precision}\")\n",
        "\n",
        "    recall = tp / (tp + fn + 0.000001)\n",
        "    print(f\"Recall: {recall}\")\n",
        "\n",
        "    F1 = 2 * (precision * recall) / (precision + recall + 0.000001)\n",
        "    print(f\"F1 score: {F1}\")"
      ],
      "metadata": {
        "colab": {
          "base_uri": "https://localhost:8080/"
        },
        "id": "57cgOG0CtzDE",
        "outputId": "8436b112-a2c3-4f67-c86e-53d6006661cd"
      },
      "execution_count": 66,
      "outputs": [
        {
          "output_type": "stream",
          "name": "stdout",
          "text": [
            "\n",
            "---- Digit 0 ------\n",
            "\n",
            "TP: 952 FP: 40 FN: 28 TN: 1095\n",
            "\n",
            "Precision : 0.9596774183874219\n",
            "Recall: 0.9714285704373178\n",
            "F1 score: 0.9655167404188577\n",
            "\n",
            "---- Digit 1 ------\n",
            "\n",
            "TP: 1127 FP: 20 FN: 8 TN: 960\n",
            "\n",
            "Precision : 0.9825632075130224\n",
            "Recall: 0.992951540975373\n",
            "F1 score: 0.9877295604981019\n"
          ]
        }
      ]
    },
    {
      "cell_type": "markdown",
      "source": [
        "## Inferencing Pipeline"
      ],
      "metadata": {
        "id": "EoR_oQ_L5n6r"
      }
    },
    {
      "cell_type": "code",
      "source": [
        "# Display some Images for checking\n",
        "for image_test in test_rdd.map(lambda x: (x[0], predict(x[0], W1, B1, W2, B2), np.argmax(x[1]))).takeSample(False, 15):\n",
        "\n",
        "    pred = np.argmax(image_test[1])\n",
        "    print(f'pred: {pred}, prob: {round(image_test[1][0][pred], 2)} true: {image_test[2]}')\n",
        "    image = np.reshape(image_test[0], (28, 28))\n",
        "    plt.imshow(image, cmap='binary')\n",
        "    plt.show()"
      ],
      "metadata": {
        "colab": {
          "base_uri": "https://localhost:8080/",
          "height": 1000
        },
        "id": "V6Zb3wWDtzAl",
        "outputId": "fbfabd25-380c-492a-8c20-8481ddfaeac6"
      },
      "execution_count": 67,
      "outputs": [
        {
          "output_type": "stream",
          "name": "stdout",
          "text": [
            "pred: 1, prob: 0.76 true: 1\n"
          ]
        },
        {
          "output_type": "display_data",
          "data": {
            "text/plain": [
              "<Figure size 640x480 with 1 Axes>"
            ],
            "image/png": "[encoded data removed]"
          },
          "metadata": {}
        },
        {
          "output_type": "stream",
          "name": "stdout",
          "text": [
            "pred: 1, prob: 0.8 true: 1\n"
          ]
        },
        {
          "output_type": "display_data",
          "data": {
            "text/plain": [
              "<Figure size 640x480 with 1 Axes>"
            ],
            "image/png": "[encoded data removed]"
          },
          "metadata": {}
        },
        {
          "output_type": "stream",
          "name": "stdout",
          "text": [
            "pred: 1, prob: 0.82 true: 1\n"
          ]
        },
        {
          "output_type": "display_data",
          "data": {
            "text/plain": [
              "<Figure size 640x480 with 1 Axes>"
            ],
            "image/png": "[encoded data removed]"
          },
          "metadata": {}
        },
        {
          "output_type": "stream",
          "name": "stdout",
          "text": [
            "pred: 1, prob: 0.75 true: 1\n"
          ]
        },
        {
          "output_type": "display_data",
          "data": {
            "text/plain": [
              "<Figure size 640x480 with 1 Axes>"
            ],
            "image/png": "[encoded data removed]"
          },
          "metadata": {}
        },
        {
          "output_type": "stream",
          "name": "stdout",
          "text": [
            "pred: 1, prob: 0.74 true: 1\n"
          ]
        },
        {
          "output_type": "display_data",
          "data": {
            "text/plain": [
              "<Figure size 640x480 with 1 Axes>"
            ],
            "image/png": "[encoded data removed]"
          },
          "metadata": {}
        },
        {
          "output_type": "stream",
          "name": "stdout",
          "text": [
            "pred: 0, prob: 0.61 true: 0\n"
          ]
        },
        {
          "output_type": "display_data",
          "data": {
            "text/plain": [
              "<Figure size 640x480 with 1 Axes>"
            ],
            "image/png": "[encoded data removed]"
          },
          "metadata": {}
        },
        {
          "output_type": "stream",
          "name": "stdout",
          "text": [
            "pred: 0, prob: 0.8 true: 0\n"
          ]
        },
        {
          "output_type": "display_data",
          "data": {
            "text/plain": [
              "<Figure size 640x480 with 1 Axes>"
            ],
            "image/png": "[encoded data removed]"
          },
          "metadata": {}
        },
        {
          "output_type": "stream",
          "name": "stdout",
          "text": [
            "pred: 1, prob: 0.74 true: 1\n"
          ]
        },
        {
          "output_type": "display_data",
          "data": {
            "text/plain": [
              "<Figure size 640x480 with 1 Axes>"
            ],
            "image/png": "[encoded data removed]"
          },
          "metadata": {}
        },
        {
          "output_type": "stream",
          "name": "stdout",
          "text": [
            "pred: 1, prob: 0.79 true: 1\n"
          ]
        },
        {
          "output_type": "display_data",
          "data": {
            "text/plain": [
              "<Figure size 640x480 with 1 Axes>"
            ],
            "image/png": "[encoded data removed]"
          },
          "metadata": {}
        },
        {
          "output_type": "stream",
          "name": "stdout",
          "text": [
            "pred: 1, prob: 0.73 true: 1\n"
          ]
        },
        {
          "output_type": "display_data",
          "data": {
            "text/plain": [
              "<Figure size 640x480 with 1 Axes>"
            ],
            "image/png": "[encoded data removed]"
          },
          "metadata": {}
        },
        {
          "output_type": "stream",
          "name": "stdout",
          "text": [
            "pred: 0, prob: 0.74 true: 0\n"
          ]
        },
        {
          "output_type": "display_data",
          "data": {
            "text/plain": [
              "<Figure size 640x480 with 1 Axes>"
            ],
            "image/png": "[encoded data removed]"
          },
          "metadata": {}
        },
        {
          "output_type": "stream",
          "name": "stdout",
          "text": [
            "pred: 0, prob: 0.84 true: 0\n"
          ]
        },
        {
          "output_type": "display_data",
          "data": {
            "text/plain": [
              "<Figure size 640x480 with 1 Axes>"
            ],
            "image/png": "[encoded data removed]"
          },
          "metadata": {}
        },
        {
          "output_type": "stream",
          "name": "stdout",
          "text": [
            "pred: 1, prob: 0.75 true: 1\n"
          ]
        },
        {
          "output_type": "display_data",
          "data": {
            "text/plain": [
              "<Figure size 640x480 with 1 Axes>"
            ],
            "image/png": "[encoded data removed]"
          },
          "metadata": {}
        },
        {
          "output_type": "stream",
          "name": "stdout",
          "text": [
            "pred: 0, prob: 0.79 true: 0\n"
          ]
        },
        {
          "output_type": "display_data",
          "data": {
            "text/plain": [
              "<Figure size 640x480 with 1 Axes>"
            ],
            "image/png": "[encoded data removed]"
          },
          "metadata": {}
        },
        {
          "output_type": "stream",
          "name": "stdout",
          "text": [
            "pred: 0, prob: 0.8 true: 0\n"
          ]
        },
        {
          "output_type": "display_data",
          "data": {
            "text/plain": [
              "<Figure size 640x480 with 1 Axes>"
            ],
            "image/png": "[encoded data removed]"
          },
          "metadata": {}
        }
      ]
    },
    {
      "cell_type": "code",
      "source": [],
      "metadata": {
        "id": "L5ixt3Cqty-K"
      },
      "execution_count": null,
      "outputs": []
    },
    {
      "cell_type": "code",
      "source": [],
      "metadata": {
        "id": "LyM0iBjMty7y"
      },
      "execution_count": null,
      "outputs": []
    },
    {
      "cell_type": "code",
      "source": [],
      "metadata": {
        "id": "8nF8OK1Qty5b"
      },
      "execution_count": null,
      "outputs": []
    },
    {
      "cell_type": "code",
      "source": [],
      "metadata": {
        "id": "-EGrtujsty3F"
      },
      "execution_count": null,
      "outputs": []
    },
    {
      "cell_type": "code",
      "source": [],
      "metadata": {
        "id": "DCLmVK2lty0j"
      },
      "execution_count": null,
      "outputs": []
    },
    {
      "cell_type": "code",
      "source": [],
      "metadata": {
        "id": "ax1nTemPtyyT"
      },
      "execution_count": null,
      "outputs": []
    },
    {
      "cell_type": "code",
      "source": [],
      "metadata": {
        "id": "6Ym0r2B3tyvr"
      },
      "execution_count": null,
      "outputs": []
    },
    {
      "cell_type": "code",
      "source": [],
      "metadata": {
        "id": "sdFmsk8Gtytb"
      },
      "execution_count": null,
      "outputs": []
    },
    {
      "cell_type": "code",
      "source": [],
      "metadata": {
        "id": "-5wztpMHtyrK"
      },
      "execution_count": null,
      "outputs": []
    },
    {
      "cell_type": "code",
      "source": [],
      "metadata": {
        "id": "KcqgBsdNtyoz"
      },
      "execution_count": null,
      "outputs": []
    },
    {
      "cell_type": "code",
      "source": [],
      "metadata": {
        "id": "D1Dw0LCvtymS"
      },
      "execution_count": null,
      "outputs": []
    },
    {
      "cell_type": "code",
      "source": [],
      "metadata": {
        "id": "cpT9rjTxtykN"
      },
      "execution_count": null,
      "outputs": []
    },
    {
      "cell_type": "code",
      "source": [],
      "metadata": {
        "id": "OAKGFujgtyh0"
      },
      "execution_count": null,
      "outputs": []
    }
  ]
}