{
  "nbformat": 4,
  "nbformat_minor": 0,
  "metadata": {
    "colab": {
      "provenance": []
    },
    "kernelspec": {
      "name": "python3",
      "display_name": "Python 3"
    },
    "language_info": {
      "name": "python"
    }
  },
  "cells": [
    {
      "cell_type": "markdown",
      "source": [
        "# PySpark with Neural Networks\n",
        "Pyspark implementation of Shallow Neural Network from scratch using MNIST.\n",
        "\n",
        "The goal of this project is to use Spark to build a 3 layer Neural Network from Scratch, using my own mathematical formulas to solve an Image classification Task. I will use the very famous MNIST dataset"
      ],
      "metadata": {
        "id": "srTseLAut4cD"
      }
    },
    {
      "cell_type": "markdown",
      "source": [
        "## Generate Dataset"
      ],
      "metadata": {
        "id": "a3gpvLb-t1AT"
      }
    },
    {
      "cell_type": "code",
      "source": [
        "import numpy as np\n",
        "import os\n",
        "\n",
        "import sys\n",
        "import pyspark\n",
        "import random\n",
        "import matplotlib.pyplot as plt\n",
        "from sklearn.metrics import multilabel_confusion_matrix\n",
        "\n",
        "from pyspark import SparkContext as sc\n",
        "\n",
        "print(\"Pyspark Script:\", sys.argv[0])\n",
        "print(\"PySpark version:\", pyspark.__version__)\n",
        "\n",
        "from keras.datasets import mnist\n",
        "from keras.utils import to_categorical\n",
        "\n",
        "# Initialize SparkContext\n",
        "sc = sc.getOrCreate()"
      ],
      "metadata": {
        "colab": {
          "base_uri": "https://localhost:8080/"
        },
        "id": "ZJyizVz4tzus",
        "outputId": "98f6abbb-1474-4f77-9cff-83b57cc4f3a5"
      },
      "execution_count": null,
      "outputs": [
        {
          "output_type": "stream",
          "name": "stdout",
          "text": [
            "Pyspark Script: /usr/local/lib/python3.11/dist-packages/colab_kernel_launcher.py\n",
            "PySpark version: 3.5.1\n"
          ]
        }
      ]
    },
    {
      "cell_type": "code",
      "source": [
        "print('Start downloading dataset...')\n",
        "# load MNIST from server\n",
        "(x_train, y_train), (x_test, y_test) = mnist.load_data()"
      ],
      "metadata": {
        "colab": {
          "base_uri": "https://localhost:8080/"
        },
        "id": "fdI5YqVTtzsT",
        "outputId": "05e709f1-db26-4905-930b-9865f6993c10"
      },
      "execution_count": null,
      "outputs": [
        {
          "output_type": "stream",
          "name": "stdout",
          "text": [
            "Start downloading dataset...\n"
          ]
        }
      ]
    },
    {
      "cell_type": "code",
      "source": [
        "# training data : 60000 samples\n",
        "# reshape and normalize input data\n",
        "x_train = x_train.reshape(x_train.shape[0], 1, 28*28)\n",
        "x_train = x_train.astype('float32')\n",
        "x_train /= 255\n",
        "# encode output which is a number in range [0,9] into a vector of size 10\n",
        "# e.g. number 3 will become [0, 0, 0, 1, 0, 0, 0, 0, 0, 0]\n",
        "y_train = to_categorical(y_train).reshape(-1, 10)\n",
        "\n",
        "# same for test data : 10000 samples\n",
        "x_test = x_test.reshape(x_test.shape[0], 1, 28*28)\n",
        "x_test = x_test.astype('float32')\n",
        "x_test /= 255\n",
        "y_test = to_categorical(y_test)"
      ],
      "metadata": {
        "id": "36QEK37Stzp2"
      },
      "execution_count": null,
      "outputs": []
    },
    {
      "cell_type": "code",
      "source": [
        "if not os.path.exists('data/'):\n",
        "    os.makedirs('data/')\n",
        "\n",
        "\n",
        "np.savetxt('data/mnist_images_train.csv', x_train.reshape(len(x_train),784).tolist())\n",
        "np.savetxt('data/mnist_images_test.csv', x_test.reshape(len(x_test),784).tolist())\n",
        "np.savetxt('data/mnist_labels_train.csv', y_train.tolist())\n",
        "np.savetxt('data/mnist_labels_test.csv', y_test.tolist())\n",
        "\n",
        "print('Dataset downloaded.')\n",
        "\n",
        "print('Data is located here:', os.getcwd() + '\\data')"
      ],
      "metadata": {
        "colab": {
          "base_uri": "https://localhost:8080/"
        },
        "id": "x-pejRw1tznb",
        "outputId": "a0428bef-9f21-43bc-c086-45df68a7832e"
      },
      "execution_count": null,
      "outputs": [
        {
          "output_type": "stream",
          "name": "stdout",
          "text": [
            "Dataset downloaded.\n",
            "Data is located here: /content\\data\n"
          ]
        }
      ]
    },
    {
      "cell_type": "markdown",
      "source": [
        "## Load the dataset"
      ],
      "metadata": {
        "id": "2iE53Mp5w2CG"
      }
    },
    {
      "cell_type": "code",
      "source": [
        "txt_train_images = sc.textFile(\"data/mnist_images_train.csv\", 1)\n",
        "x_train = txt_train_images.map(lambda x : np.fromstring(x, dtype=float, sep=' ').reshape(1, 784)).zipWithIndex().map(lambda x: (str(x[1]), x[0]))\n",
        "\n",
        "txt_train_labels = sc.textFile(\"data/mnist_labels_train.csv\", 1)\n",
        "y_train = txt_train_labels.map(lambda x : np.fromstring(x, dtype=float, sep=' ').reshape(1, 10)).zipWithIndex().map(lambda x: (str(x[1]), x[0]))\n",
        "\n",
        "txt_test_images = sc.textFile(\"data/mnist_images_test.csv\", 1)\n",
        "x_test = txt_test_images.map(lambda x : np.fromstring(x, dtype=float, sep=' ').reshape(1, 784)).zipWithIndex().map(lambda x: (str(x[1]), x[0]))\n",
        "\n",
        "txt_test_labels = sc.textFile(\"data/mnist_labels_test.csv\", 1)\n",
        "y_test = txt_test_labels.map(lambda x : np.fromstring(x, dtype=float, sep=' ').reshape(1, 10)).zipWithIndex().map(lambda x: (str(x[1]), x[0]))"
      ],
      "metadata": {
        "id": "PMb49ekctzlF"
      },
      "execution_count": null,
      "outputs": []
    },
    {
      "cell_type": "code",
      "source": [
        "train_ds_rdd = x_train.join(y_train).map(lambda x: x[1])\n",
        "test_ds_rdd = x_test.join(y_test).map(lambda x: x[1])\n",
        "\n",
        "# train_rdd = train_ds_rdd.filter(lambda x: np.array_equal(x[1][0], [1., 0.]) or np.array_equal(x[1][0], [0., 1.]))\n",
        "# test_rdd = test_ds_rdd.filter(lambda x: np.array_equal(x[1][0], [1., 0.]) or np.array_equal(x[1][0], [0., 1.]))\n",
        "\n",
        "train_rdd = train_ds_rdd\n",
        "test_rdd = test_ds_rdd\n",
        "\n",
        "train_rdd.cache()\n",
        "test_rdd.cache()\n",
        "print(train_rdd.take(1))\n",
        "print(\"Trainset size:\", train_rdd.count())\n",
        "print(\"Testset size:\", test_ds_rdd.count())"
      ],
      "metadata": {
        "colab": {
          "base_uri": "https://localhost:8080/"
        },
        "id": "e1ZACdsHtzii",
        "outputId": "3d6f8a50-b015-4ea4-ba80-bcf711ca2256"
      },
      "execution_count": null,
      "outputs": [
        {
          "output_type": "stream",
          "name": "stdout",
          "text": [
            "[(array([[0.        , 0.        , 0.        , 0.        , 0.        ,\n",
            "        0.        , 0.        , 0.        , 0.        , 0.        ,\n",
            "        0.        , 0.        , 0.        , 0.        , 0.        ,\n",
            "        0.        , 0.        , 0.        , 0.        , 0.        ,\n",
            "        0.        , 0.        , 0.        , 0.        , 0.        ,\n",
            "        0.        , 0.        , 0.        , 0.        , 0.        ,\n",
            "        0.        , 0.        , 0.        , 0.        , 0.        ,\n",
            "        0.        , 0.        , 0.        , 0.        , 0.        ,\n",
            "        0.        , 0.        , 0.        , 0.        , 0.        ,\n",
            "        0.        , 0.        , 0.        , 0.        , 0.        ,\n",
            "        0.        , 0.        , 0.        , 0.        , 0.        ,\n",
            "        0.        , 0.        , 0.        , 0.        , 0.        ,\n",
            "        0.        , 0.        , 0.        , 0.        , 0.        ,\n",
            "        0.        , 0.        , 0.        , 0.        , 0.        ,\n",
            "        0.        , 0.        , 0.        , 0.        , 0.        ,\n",
            "        0.        , 0.        , 0.        , 0.        , 0.        ,\n",
            "        0.        , 0.        , 0.        , 0.        , 0.        ,\n",
            "        0.        , 0.        , 0.        , 0.        , 0.        ,\n",
            "        0.        , 0.        , 0.        , 0.        , 0.        ,\n",
            "        0.        , 0.        , 0.        , 0.        , 0.        ,\n",
            "        0.        , 0.        , 0.        , 0.        , 0.        ,\n",
            "        0.        , 0.        , 0.        , 0.        , 0.        ,\n",
            "        0.        , 0.        , 0.        , 0.        , 0.        ,\n",
            "        0.        , 0.        , 0.        , 0.        , 0.        ,\n",
            "        0.        , 0.        , 0.        , 0.        , 0.        ,\n",
            "        0.        , 0.        , 0.        , 0.        , 0.25098041,\n",
            "        0.99215686, 1.        , 0.24705882, 0.        , 0.        ,\n",
            "        0.        , 0.        , 0.        , 0.        , 0.        ,\n",
            "        0.        , 0.        , 0.        , 0.        , 0.        ,\n",
            "        0.        , 0.        , 0.        , 0.        , 0.        ,\n",
            "        0.        , 0.        , 0.        , 0.        , 0.        ,\n",
            "        0.        , 0.3764706 , 0.80392158, 0.98431373, 0.99215686,\n",
            "        0.80392158, 0.43529412, 0.01568628, 0.        , 0.        ,\n",
            "        0.        , 0.        , 0.        , 0.        , 0.        ,\n",
            "        0.        , 0.        , 0.        , 0.        , 0.        ,\n",
            "        0.        , 0.        , 0.        , 0.        , 0.        ,\n",
            "        0.        , 0.        , 0.        , 0.3764706 , 0.74117649,\n",
            "        0.98431373, 0.98431373, 0.99215686, 0.98431373, 0.98431373,\n",
            "        0.12156863, 0.        , 0.        , 0.        , 0.        ,\n",
            "        0.        , 0.        , 0.        , 0.        , 0.        ,\n",
            "        0.        , 0.        , 0.        , 0.        , 0.        ,\n",
            "        0.        , 0.        , 0.        , 0.0627451 , 0.25098041,\n",
            "        0.87450981, 0.95686275, 0.98431373, 0.98431373, 0.82745099,\n",
            "        0.83529413, 0.98431373, 0.98431373, 0.12156863, 0.        ,\n",
            "        0.        , 0.        , 0.        , 0.        , 0.        ,\n",
            "        0.        , 0.        , 0.        , 0.        , 0.        ,\n",
            "        0.        , 0.        , 0.        , 0.        , 0.        ,\n",
            "        0.3137255 , 0.70980394, 0.98431373, 0.99215686, 0.98431373,\n",
            "        0.98431373, 0.98431373, 0.36862746, 0.3764706 , 0.98431373,\n",
            "        0.98431373, 0.12156863, 0.        , 0.        , 0.        ,\n",
            "        0.        , 0.        , 0.        , 0.        , 0.        ,\n",
            "        0.        , 0.        , 0.        , 0.        , 0.        ,\n",
            "        0.        , 0.        , 0.36078432, 0.99215686, 0.99215686,\n",
            "        0.99215686, 1.        , 0.99215686, 0.99215686, 0.99215686,\n",
            "        0.37254903, 0.3764706 , 0.99215686, 0.99215686, 0.12156863,\n",
            "        0.        , 0.        , 0.        , 0.        , 0.        ,\n",
            "        0.        , 0.        , 0.        , 0.        , 0.        ,\n",
            "        0.        , 0.        , 0.        , 0.        , 0.36078432,\n",
            "        0.9254902 , 0.98431373, 0.95294118, 0.86274511, 0.9137255 ,\n",
            "        0.98431373, 0.98431373, 0.95294118, 0.32156864, 0.3764706 ,\n",
            "        0.98431373, 0.98431373, 0.12156863, 0.        , 0.        ,\n",
            "        0.        , 0.        , 0.        , 0.        , 0.        ,\n",
            "        0.        , 0.        , 0.        , 0.        , 0.        ,\n",
            "        0.        , 0.3137255 , 0.99215686, 0.98431373, 0.98431373,\n",
            "        0.73725492, 0.        , 0.3764706 , 0.98431373, 0.98431373,\n",
            "        0.42745098, 0.        , 0.3764706 , 0.98431373, 0.98431373,\n",
            "        0.12156863, 0.        , 0.        , 0.        , 0.        ,\n",
            "        0.        , 0.        , 0.        , 0.        , 0.        ,\n",
            "        0.        , 0.        , 0.        , 0.3764706 , 0.94117647,\n",
            "        0.99215686, 0.95294118, 0.73725492, 0.16470589, 0.        ,\n",
            "        0.3764706 , 0.80000001, 0.42745098, 0.01568628, 0.        ,\n",
            "        0.04705882, 0.77254903, 0.98431373, 0.12156863, 0.        ,\n",
            "        0.        , 0.        , 0.        , 0.        , 0.        ,\n",
            "        0.        , 0.        , 0.        , 0.        , 0.        ,\n",
            "        0.        , 0.86666667, 0.98431373, 0.99215686, 0.47450981,\n",
            "        0.        , 0.        , 0.        , 0.14117648, 0.09019608,\n",
            "        0.        , 0.        , 0.        , 0.        , 0.74509805,\n",
            "        0.98431373, 0.12156863, 0.        , 0.        , 0.        ,\n",
            "        0.        , 0.        , 0.        , 0.        , 0.        ,\n",
            "        0.        , 0.        , 0.        , 0.1882353 , 0.91764706,\n",
            "        0.99215686, 0.        , 0.        , 0.        , 0.        ,\n",
            "        0.        , 0.        , 0.        , 0.        , 0.        ,\n",
            "        0.        , 0.        , 0.74901962, 0.99215686, 0.12156863,\n",
            "        0.        , 0.        , 0.        , 0.        , 0.        ,\n",
            "        0.        , 0.        , 0.        , 0.        , 0.        ,\n",
            "        0.17254902, 0.86666667, 0.98431373, 0.98431373, 0.        ,\n",
            "        0.        , 0.        , 0.        , 0.        , 0.        ,\n",
            "        0.        , 0.        , 0.        , 0.        , 0.04705882,\n",
            "        0.77254903, 0.98431373, 0.12156863, 0.        , 0.        ,\n",
            "        0.        , 0.        , 0.        , 0.        , 0.        ,\n",
            "        0.        , 0.        , 0.        , 0.74509805, 0.98431373,\n",
            "        0.98431373, 0.98431373, 0.        , 0.        , 0.        ,\n",
            "        0.        , 0.        , 0.        , 0.        , 0.        ,\n",
            "        0.        , 0.        , 0.3764706 , 0.98431373, 0.98431373,\n",
            "        0.12156863, 0.        , 0.        , 0.        , 0.        ,\n",
            "        0.        , 0.        , 0.        , 0.        , 0.        ,\n",
            "        0.        , 0.74509805, 0.98431373, 0.98431373, 0.44313726,\n",
            "        0.        , 0.        , 0.        , 0.        , 0.        ,\n",
            "        0.        , 0.        , 0.        , 0.        , 0.15686275,\n",
            "        0.91764706, 0.98431373, 0.85882354, 0.09019608, 0.        ,\n",
            "        0.        , 0.        , 0.        , 0.        , 0.        ,\n",
            "        0.        , 0.        , 0.        , 0.        , 0.74509805,\n",
            "        0.98431373, 0.98431373, 0.36862746, 0.        , 0.        ,\n",
            "        0.        , 0.        , 0.        , 0.        , 0.        ,\n",
            "        0.        , 0.15686275, 0.8509804 , 0.99215686, 0.90588236,\n",
            "        0.18431373, 0.        , 0.        , 0.        , 0.        ,\n",
            "        0.        , 0.        , 0.        , 0.        , 0.        ,\n",
            "        0.        , 0.        , 0.74901962, 0.99215686, 0.99215686,\n",
            "        0.99215686, 0.        , 0.        , 0.        , 0.        ,\n",
            "        0.        , 0.        , 0.04705882, 0.68235296, 0.99215686,\n",
            "        0.99215686, 0.85882354, 0.15294118, 0.        , 0.        ,\n",
            "        0.        , 0.        , 0.        , 0.        , 0.        ,\n",
            "        0.        , 0.        , 0.        , 0.        , 0.        ,\n",
            "        0.26274511, 0.9254902 , 0.98431373, 0.98431373, 0.74901962,\n",
            "        0.74509805, 0.43529412, 0.28235295, 0.74509805, 0.74901962,\n",
            "        0.77254903, 0.98431373, 0.95294118, 0.47450981, 0.15294118,\n",
            "        0.        , 0.        , 0.        , 0.        , 0.        ,\n",
            "        0.        , 0.        , 0.        , 0.        , 0.        ,\n",
            "        0.        , 0.        , 0.        , 0.        , 0.24705882,\n",
            "        0.9254902 , 0.98431373, 0.99215686, 0.98431373, 0.98431373,\n",
            "        0.98431373, 0.98431373, 0.99215686, 0.98431373, 0.73725492,\n",
            "        0.36862746, 0.        , 0.        , 0.        , 0.        ,\n",
            "        0.        , 0.        , 0.        , 0.        , 0.        ,\n",
            "        0.        , 0.        , 0.        , 0.        , 0.        ,\n",
            "        0.        , 0.        , 0.        , 0.10588235, 0.50588238,\n",
            "        0.99215686, 0.98431373, 0.98431373, 0.98431373, 0.98431373,\n",
            "        0.89803922, 0.65882355, 0.05882353, 0.        , 0.        ,\n",
            "        0.        , 0.        , 0.        , 0.        , 0.        ,\n",
            "        0.        , 0.        , 0.        , 0.        , 0.        ,\n",
            "        0.        , 0.        , 0.        , 0.        , 0.        ,\n",
            "        0.        , 0.        , 0.        , 0.37254903, 0.83137256,\n",
            "        0.98431373, 0.82745099, 0.36862746, 0.23137255, 0.        ,\n",
            "        0.        , 0.        , 0.        , 0.        , 0.        ,\n",
            "        0.        , 0.        , 0.        , 0.        , 0.        ,\n",
            "        0.        , 0.        , 0.        , 0.        , 0.        ,\n",
            "        0.        , 0.        , 0.        , 0.        , 0.        ,\n",
            "        0.        , 0.        , 0.        , 0.        , 0.        ,\n",
            "        0.        , 0.        , 0.        , 0.        , 0.        ,\n",
            "        0.        , 0.        , 0.        , 0.        , 0.        ,\n",
            "        0.        , 0.        , 0.        , 0.        , 0.        ,\n",
            "        0.        , 0.        , 0.        , 0.        , 0.        ,\n",
            "        0.        , 0.        , 0.        , 0.        , 0.        ,\n",
            "        0.        , 0.        , 0.        , 0.        , 0.        ,\n",
            "        0.        , 0.        , 0.        , 0.        , 0.        ,\n",
            "        0.        , 0.        , 0.        , 0.        , 0.        ,\n",
            "        0.        , 0.        , 0.        , 0.        , 0.        ,\n",
            "        0.        , 0.        , 0.        , 0.        , 0.        ,\n",
            "        0.        , 0.        , 0.        , 0.        , 0.        ,\n",
            "        0.        , 0.        , 0.        , 0.        , 0.        ,\n",
            "        0.        , 0.        , 0.        , 0.        , 0.        ,\n",
            "        0.        , 0.        , 0.        , 0.        , 0.        ,\n",
            "        0.        , 0.        , 0.        , 0.        , 0.        ,\n",
            "        0.        , 0.        , 0.        , 0.        , 0.        ,\n",
            "        0.        , 0.        , 0.        , 0.        , 0.        ,\n",
            "        0.        , 0.        , 0.        , 0.        , 0.        ,\n",
            "        0.        , 0.        , 0.        , 0.        , 0.        ,\n",
            "        0.        , 0.        , 0.        , 0.        ]]), array([[1., 0., 0., 0., 0., 0., 0., 0., 0., 0.]]))]\n",
            "Trainset size: 60000\n",
            "Testset size: 10000\n"
          ]
        }
      ]
    },
    {
      "cell_type": "code",
      "source": [
        "# train_rdd = x_train.join(y_train).map(lambda x: x[1])\n",
        "# test_rdd = x_test.join(y_test).map(lambda x: x[1])\n",
        "# train_rdd.cache()\n",
        "# test_rdd.cache()\n",
        "\n",
        "# print(\"Trainset size:\", train_rdd.count())\n",
        "# print(\"Testset size:\", test_rdd.count())\n",
        "\n",
        "# print('Data Loaded!')"
      ],
      "metadata": {
        "colab": {
          "base_uri": "https://localhost:8080/"
        },
        "id": "A6TbqShqtzdT",
        "outputId": "7843fc52-7174-40fc-aa4e-ac52f5b1ada6"
      },
      "execution_count": null,
      "outputs": [
        {
          "output_type": "stream",
          "name": "stdout",
          "text": [
            "Data Loaded!\n"
          ]
        }
      ]
    },
    {
      "cell_type": "markdown",
      "source": [
        "## NN Functions"
      ],
      "metadata": {
        "id": "pY4HxrZO0xoW"
      }
    },
    {
      "cell_type": "markdown",
      "source": [
        "### Activation Functions"
      ],
      "metadata": {
        "id": "ZcPJkzg80zlw"
      }
    },
    {
      "cell_type": "code",
      "source": [
        "# # General function to apply any activation function\n",
        "def activation(x, f):\n",
        "    return f(x)\n",
        "\n",
        "# # Sigmoid Activation function\n",
        "# def sigmoid(X):\n",
        "#     return 1 / (1 + np.exp(-X))\n",
        "\n",
        "# # Sigmoid prime function (used for backward prop)\n",
        "# def sigmoid_prime(x):\n",
        "#     sig = sigmoid(x)\n",
        "#     return sig * (1 - sig)\n",
        "\n",
        "# --- Neural Network Functions for Multiclass ---\n",
        "def softmax(z):\n",
        "    e_z = np.exp(z - np.max(z))\n",
        "    return e_z / np.sum(e_z, axis=1, keepdims=True)\n",
        "\n",
        "def cross_entropy(y_pred, y_true, eps=1e-8):\n",
        "    y_pred = np.clip(y_pred, eps, 1 - eps)\n",
        "    return -np.sum(y_true * np.log(y_pred)) / y_true.shape[0]\n",
        "\n",
        "def relu(x):\n",
        "    return np.maximum(0, x)\n",
        "\n",
        "def relu_prime(x):\n",
        "    return (x > 0).astype(float)"
      ],
      "metadata": {
        "id": "sesms0J1tzRS"
      },
      "execution_count": null,
      "outputs": []
    },
    {
      "cell_type": "markdown",
      "source": [
        "### Forward Propagation"
      ],
      "metadata": {
        "id": "7cY6iHqs05Uy"
      }
    },
    {
      "cell_type": "code",
      "source": [
        "# Compute the layer propagation before activation\n",
        "def preforward(x, w, b):\n",
        "    return np.dot(x, w) + b\n",
        "\n",
        "# Compute the layer propagation after activation\n",
        "# This is also equivalent to a predict function once model is trained\n",
        "# def predict(x, W1, B1, W2, B2):\n",
        "#     return sigmoid(preforward(sigmoid(preforward(x , W1, B1)), W2, B2))\n",
        "\n",
        "def predict(x, W1, B1, W2, B2):\n",
        "    h1 = relu(preforward(x, W1, B1))\n",
        "    out = softmax(preforward(h1, W2, B2))\n",
        "    return out"
      ],
      "metadata": {
        "id": "Z4WU1ZCjtzPE"
      },
      "execution_count": null,
      "outputs": []
    },
    {
      "cell_type": "markdown",
      "source": [
        "### Backward Propagation"
      ],
      "metadata": {
        "id": "6odLZBFK095C"
      }
    },
    {
      "cell_type": "code",
      "source": [
        "# # Compute the derivative of the error regarding B2\n",
        "# def derivativeB2(y_pred, y_true, y_h, f_prime):\n",
        "#     return (y_pred - y_true) * f_prime(y_h)\n",
        "\n",
        "# # Compute the derivative of the error regarding W2\n",
        "# def derivativeW2(h, dB2):\n",
        "#     return np.dot(h.T, dB2)\n",
        "\n",
        "# # Compute the derivative of the error regarding B1\n",
        "# def derivativeB1(h_h, dB2, W2, f_prime):\n",
        "#     return np.dot(dB2, W2.T) * f_prime(h_h)\n",
        "\n",
        "# # Compute the derivative of the error regarding W1\n",
        "# def derivativeW1(x, dB1):\n",
        "#     return np.dot(x.T, dB1)\n",
        "\n",
        "def derivativeB2(y_pred, y_true):\n",
        "    # dL/dB2 = y_pred - y_true\n",
        "    return y_pred - y_true  # shape: (1, 10)\n",
        "\n",
        "def derivativeW2(h, dB2):\n",
        "    # dL/dW2 = h.T @ (y_pred - y_true)\n",
        "    return np.dot(h.T, dB2)  # shapes: (64, 1)T @ (1, 10) => (64, 10)\n",
        "\n",
        "def derivativeB1(dB2, W2, h_h):\n",
        "    # dL/dB1 = (y_pred - y_true) @ W2.T * relu'(h_h)\n",
        "    return np.dot(dB2, W2.T) * relu_prime(h_h)\n",
        "\n",
        "def derivativeW1(x, dB1):\n",
        "    # dL/dW1 = x.T @ dB1\n",
        "    return np.dot(x.T, dB1)"
      ],
      "metadata": {
        "id": "9uguSvVytzMj"
      },
      "execution_count": null,
      "outputs": []
    },
    {
      "cell_type": "markdown",
      "source": [
        "### Evaluation"
      ],
      "metadata": {
        "id": "vLce8Av71CWS"
      }
    },
    {
      "cell_type": "code",
      "source": [
        "def get_metrics(pred, true):\n",
        "    cm = multilabel_confusion_matrix(true, pred)\n",
        "    return (cm)\n",
        "\n",
        "# Cost function\n",
        "def sse(y_pred, y_true):\n",
        "    return 0.5 * np.sum(np.power(y_pred - y_true, 2))\n",
        "\n",
        "\n",
        "# from sklearn.metrics import confusion_matrix\n",
        "\n",
        "# def get_metrics(pred, true):\n",
        "#     pred_labels = np.argmax(pred, axis=1)\n",
        "#     true_labels = np.argmax(true, axis=1)\n",
        "#     cm = confusion_matrix(true_labels, pred_labels)\n",
        "#     return cm"
      ],
      "metadata": {
        "id": "D7KoJcCItzKK"
      },
      "execution_count": null,
      "outputs": []
    },
    {
      "cell_type": "markdown",
      "source": [
        "## Training Mini Batch"
      ],
      "metadata": {
        "id": "BMABCNrO16-q"
      }
    },
    {
      "cell_type": "code",
      "source": [
        "# Hyperparameters\n",
        "num_iteration = 50\n",
        "learningRate = 0.1\n",
        "\n",
        "input_layer = 784 # number of neurones in the input layer (equal to image size)\n",
        "hidden_layer = 64 # number of neurones in the hidden layer (Custom)\n",
        "output_layer = 10 # number of neurones in the output layer (equal to the number of possible labels)\n",
        "\n",
        "# Paramater Initialization\n",
        "W1 = np.random.rand(input_layer, hidden_layer) - 0.5 # Shape (784, 64)\n",
        "W2 = np.random.rand(hidden_layer, output_layer) - 0.5 # Shape (64, 10)\n",
        "B1 = np.random.rand(1, hidden_layer) - 0.5 # Shape (1, 64)\n",
        "B2 = np.random.rand(1, output_layer) - 0.5 # Shape (1, 10)\n",
        "\n",
        "# History over epochs\n",
        "cost_history = []\n",
        "acc_history = []"
      ],
      "metadata": {
        "id": "KnZo-NRktzH9"
      },
      "execution_count": null,
      "outputs": []
    },
    {
      "cell_type": "code",
      "source": [
        "# # Epoch Loop (mini batch implementation)\n",
        "# print(\"Start Training Loop:\")\n",
        "\n",
        "# for i in range(num_iteration):\n",
        "\n",
        "#     # Compute gradients, cost and accuracy over mini batch\n",
        "\n",
        "#     ################## Notations ######################\n",
        "#     # x -> Input Image flatten of shape (1, 784)\n",
        "#     # y* -> One hot label of shape (1, 2)\n",
        "#     # h^ -> Forward prop from Input layer to hidden layer before activation (1, 64) using W1, B1 parm\n",
        "#     # h -> Forward prop from Input layer to hidden layer after tanh activation (1, 64)\n",
        "#     # y^ -> Forward prop from hidden layer to output layer before activation (1, 2) using W2, B2 parm\n",
        "#     # y -> Forward prop from hidden layer to output layer after sigmoid activation (1, 2)\n",
        "#     # E -> Error between y and y* using SSE\n",
        "#     # Acc -> 1 is right prediction 0 otherwise\n",
        "#     # DE/D? -> Partial derivative of the Error regarding parmaters (B2, W2, B1, W1)\n",
        "\n",
        "\n",
        "#     ################# Forward Prop ######################\n",
        "#     # map batch ([x], [y*]) to ([x], [h^],[y*])\n",
        "#     # map batch ([x], [h^],[y*]) to ([x], [h^], [h], [y*])\n",
        "#     # map batch ([x], [h^], [h], [y*]) to ([x], [h^], [h], [y^], [y*])\n",
        "#     # map batch ([x], [h^], [h], [y^], [y*]) to ([x], [h^], [h], [y^], [y], [y*])\n",
        "#     ################# Backward Prop #####################\n",
        "#     # map batch ([x], [h^], [h], [y^], [y], [y*]) to ([x], [h^], [h], [E], [DE/DB2], [Acc])\n",
        "#     # map batch ([x], [h^], [h], [E], [DE/DB2], [Acc]) to ([x], [h^], [E], [DE/DB2], [DE/DW2], [Acc])\n",
        "#     # map batch ([x], [h^], [E], [DE/DB2], [DE/DW2], [Acc]) to ([x], [E], [DE/DB2], [DE/DW2], [DE/DB1], [Acc])\n",
        "#     # map batch ([x], [E], [DE/DB2], [DE/DW2], [DE/DB1], [Acc]) to ([E], [DE/DB2], [DE/DW2], [DE/DB1], [DE/DW1],[Acc])\n",
        "#     ############### Reduce over the mini batch #########\n",
        "\n",
        "\n",
        "    # gradientCostAcc = train_rdd\\\n",
        "    #                     .sample(False,0.7)\\\n",
        "    #                     .map(lambda x: (x[0], preforward(x[0], W1, B1), x[1]))\\\n",
        "    #                     .map(lambda x: (x[0], x[1], activation(x[1], sigmoid), x[2]))\\\n",
        "    #                     .map(lambda x: (x[0], x[1], x[2], preforward(x[2], W2, B2), x[3]))\\\n",
        "    #                     .map(lambda x: (x[0], x[1], x[2], x[3], activation(x[3], sigmoid), x[4]))\\\n",
        "    #                     .map(lambda x: (x[0], x[1], x[2], sse(x[4], x[5]), derivativeB2(x[4], x[5], x[3], sigmoid_prime), int(np.argmax(x[4]) == np.argmax(x[5]))))\\\n",
        "    #                     .map(lambda x: (x[0], x[1], x[3], x[4],  derivativeW2(x[2], x[4]) ,x[5]))\\\n",
        "    #                     .map(lambda x: (x[0], x[2], x[3], x[4],  derivativeB1(x[1],  x[3], W2, sigmoid_prime) ,x[5]))\\\n",
        "    #                     .map(lambda x: (x[1], x[2], x[3], x[4], derivativeW1(x[0], x[4]) ,x[5], 1)) \\\n",
        "    #                     .reduce(lambda x, y: (x[0] + y[0], x[1] + y[1], x[2] + y[2], x[3] + y[3], x[4] + y[4], x[5] + y[5], x[6] + y[6]))\n",
        "\n",
        "#     # Cost and Accuarcy of the mini batch\n",
        "#     n = gradientCostAcc[-1] # number of images in the mini batch\n",
        "#     cost = gradientCostAcc[0]/n # Cost over the mini batch\n",
        "#     acc = gradientCostAcc[5]/n # Accuarcy over the mini batch\n",
        "\n",
        "#      # Add to history\n",
        "#     cost_history.append(cost)\n",
        "#     acc_history.append(acc)\n",
        "\n",
        "\n",
        "#     # Extract gradiends\n",
        "#     DB2 = gradientCostAcc[1]/n\n",
        "#     DW2 = gradientCostAcc[2]/n\n",
        "#     DB1 = gradientCostAcc[3]/n\n",
        "#     DW1 = gradientCostAcc[4]/n\n",
        "\n",
        "#     # Update parameter with new learning rate and gradients using Gradient Descent\n",
        "#     B2 -= learningRate * DB2\n",
        "#     W2 -= learningRate * DW2\n",
        "#     B1 -= learningRate * DB1\n",
        "#     W1 -= learningRate * DW1\n",
        "\n",
        "#     # Display performances\n",
        "#     print(f\"   Epoch {i+1}/{num_iteration} | Cost: {cost_history[i]} | Acc: {acc_history[i]*100} | Batchsize:{n}\")\n",
        "\n",
        "# print(\"Training end..\")\n",
        "\n",
        "# # Plot of cost over epochs\n",
        "# plt.subplot(2, 1, 1)\n",
        "# plt.plot(cost_history)\n",
        "# plt.show()\n",
        "\n",
        "# # Plot of accuracy over epochs\n",
        "# plt.subplot(2, 1, 2)\n",
        "# plt.plot(acc_history)\n",
        "# plt.show()"
      ],
      "metadata": {
        "id": "hAu6QhGCtzFq"
      },
      "execution_count": null,
      "outputs": []
    },
    {
      "cell_type": "code",
      "source": [
        "# Epoch Loop (mini batch implementation)\n",
        "print(\"Start Training Loop:\")\n",
        "\n",
        "for i in range(num_iteration):\n",
        "\n",
        "    # Compute gradients, cost and accuracy over mini batch\n",
        "\n",
        "    ################## Notations ######################\n",
        "    # x -> Input Image flatten of shape (1, 784)\n",
        "    # y* -> One hot label of shape (1, 2)\n",
        "    # h^ -> Forward prop from Input layer to hidden layer before activation (1, 64) using W1, B1 parm\n",
        "    # h -> Forward prop from Input layer to hidden layer after tanh activation (1, 64)\n",
        "    # y^ -> Forward prop from hidden layer to output layer before activation (1, 2) using W2, B2 parm\n",
        "    # y -> Forward prop from hidden layer to output layer after sigmoid activation (1, 2)\n",
        "    # E -> Error between y and y* using SSE\n",
        "    # Acc -> 1 is right prediction 0 otherwise\n",
        "    # DE/D? -> Partial derivative of the Error regarding parmaters (B2, W2, B1, W1)\n",
        "\n",
        "\n",
        "    ################# Forward Prop ######################\n",
        "    # map batch ([x], [y*]) to ([x], [h^],[y*])\n",
        "    # map batch ([x], [h^],[y*]) to ([x], [h^], [h], [y*])\n",
        "    # map batch ([x], [h^], [h], [y*]) to ([x], [h^], [h], [y^], [y*])\n",
        "    # map batch ([x], [h^], [h], [y^], [y*]) to ([x], [h^], [h], [y^], [y], [y*])\n",
        "    ################# Backward Prop #####################\n",
        "    # map batch ([x], [h^], [h], [y^], [y], [y*]) to ([x], [h^], [h], [E], [DE/DB2], [Acc])\n",
        "    # map batch ([x], [h^], [h], [E], [DE/DB2], [Acc]) to ([x], [h^], [E], [DE/DB2], [DE/DW2], [Acc])\n",
        "    # map batch ([x], [h^], [E], [DE/DB2], [DE/DW2], [Acc]) to ([x], [E], [DE/DB2], [DE/DW2], [DE/DB1], [Acc])\n",
        "    # map batch ([x], [E], [DE/DB2], [DE/DW2], [DE/DB1], [Acc]) to ([E], [DE/DB2], [DE/DW2], [DE/DB1], [DE/DW1],[Acc])\n",
        "    ############### Reduce over the mini batch #########\n",
        "\n",
        "\n",
        "    gradientCostAcc = train_rdd\\\n",
        "                        .sample(False,0.7)\\\n",
        "                        .map(lambda x: (x[0], preforward(x[0], W1, B1), x[1]))\\\n",
        "                        .map(lambda x: (x[0], x[1], activation(x[1], relu), x[2]))\\\n",
        "                        .map(lambda x: (x[0], x[1], x[2], preforward(x[2], W2, B2), x[3]))\\\n",
        "                        .map(lambda x: (x[0], x[1], x[2], x[3], activation(x[3], softmax), x[4]))\\\n",
        "                        .map(lambda x: (x[0], x[1], x[2], x[3], x[4], x[5], cross_entropy(x[4], x[5]), derivativeB2(x[4], x[5]), int(np.argmax(x[4]) == np.argmax(x[5]))))\\\n",
        "                        .map(lambda x: (x[0], x[1], x[2], x[3], x[4], x[5], x[6], x[7], x[8], derivativeW2(x[2], x[7])))\\\n",
        "                        .map(lambda x: (x[0], x[1], x[2], x[3], x[4], x[5], x[6], x[7], x[8], x[9], derivativeB1(x[7], W2, x[1])))\\\n",
        "                        .map(lambda x: (x[0], x[1], x[2], x[3], x[4], x[5], x[6], x[7], x[8], x[9], x[10], derivativeW1(x[0], x[10]), 1)) \\\n",
        "                        .reduce(lambda x, y: tuple(a + b if isinstance(a, np.ndarray) else a + b for a, b in zip(x, y)))\n",
        "\n",
        "    print(gradientCostAcc)\n",
        "\n",
        "    #\n",
        "    # Cost and Accuarcy of the mini batch\n",
        "    n = gradientCostAcc[-1] # number of images in the mini batch\n",
        "    cost = gradientCostAcc[6]/n # Cost over the mini batch\n",
        "    acc = gradientCostAcc[8]/n # Accuarcy over the mini batch\n",
        "\n",
        "     # Add to history\n",
        "    cost_history.append(cost)\n",
        "    acc_history.append(acc)\n",
        "\n",
        "\n",
        "    # Extract gradiends\n",
        "    DB2 = gradientCostAcc[7]/n\n",
        "    DW2 = gradientCostAcc[9]/n\n",
        "    DB1 = gradientCostAcc[10]/n\n",
        "    DW1 = gradientCostAcc[11]/n\n",
        "\n",
        "    # Update parameter with new learning rate and gradients using Gradient Descent\n",
        "    B2 -= learningRate * DB2\n",
        "    W2 -= learningRate * DW2\n",
        "    B1 -= learningRate * DB1\n",
        "    W1 -= learningRate * DW1\n",
        "\n",
        "    # Display performances\n",
        "    print(f\"   Epoch {i+1}/{num_iteration} | Cost: {cost_history[i]} | Acc: {acc_history[i]*100} | Batchsize:{n}\")\n",
        "\n",
        "print(\"Training end..\")\n",
        "\n",
        "# Plot of cost over epochs\n",
        "plt.subplot(2, 1, 1)\n",
        "plt.plot(cost_history)\n",
        "plt.show()\n",
        "\n",
        "# Plot of accuracy over epochs\n",
        "plt.subplot(2, 1, 2)\n",
        "plt.plot(acc_history)\n",
        "plt.show()"
      ],
      "metadata": {
        "colab": {
          "base_uri": "https://localhost:8080/",
          "height": 1000
        },
        "id": "fAyDOn7zJa1T",
        "outputId": "f8596a16-f721-4895-e7b2-1a5d3bccbdfe"
      },
      "execution_count": null,
      "outputs": [
        {
          "output_type": "stream",
          "name": "stdout",
          "text": [
            "Start Training Loop:\n",
            "   Epoch 1/50 | Cost: [[0.00000000e+00 0.00000000e+00 0.00000000e+00 0.00000000e+00\n",
            "  0.00000000e+00 0.00000000e+00 0.00000000e+00 0.00000000e+00\n",
            "  0.00000000e+00 0.00000000e+00 0.00000000e+00 0.00000000e+00\n",
            "  1.18128010e-05 4.40636225e-05 2.02505160e-05 8.43771529e-07\n",
            "  0.00000000e+00 0.00000000e+00 0.00000000e+00 0.00000000e+00\n",
            "  0.00000000e+00 0.00000000e+00 0.00000000e+00 0.00000000e+00\n",
            "  0.00000000e+00 0.00000000e+00 0.00000000e+00 0.00000000e+00\n",
            "  0.00000000e+00 0.00000000e+00 0.00000000e+00 0.00000000e+00\n",
            "  0.00000000e+00 7.50019146e-07 5.22200819e-05 1.35378450e-04\n",
            "  2.09067828e-04 2.56225281e-04 5.28575970e-04 7.38581320e-04\n",
            "  7.72332182e-04 7.21705893e-04 7.69519611e-04 6.24953425e-04\n",
            "  7.15049475e-04 5.44888887e-04 3.32727230e-04 2.07286532e-04\n",
            "  1.54972699e-04 9.56274369e-05 5.67201964e-05 1.98755065e-05\n",
            "  0.00000000e+00 0.00000000e+00 0.00000000e+00 0.00000000e+00\n",
            "  0.00000000e+00 0.00000000e+00 0.00000000e+00 3.93760032e-06\n",
            "  1.11565343e-05 1.55628967e-05 2.30068364e-04 6.56454231e-04\n",
            "  1.17321740e-03 2.07052151e-03 3.61846721e-03 5.34801129e-03\n",
            "  7.49194092e-03 9.97216037e-03 1.26461660e-02 1.45320891e-02\n",
            "  1.49604437e-02 1.37454128e-02 1.12512242e-02 7.91326414e-03\n",
            "  4.52458405e-03 2.26365143e-03 1.05068302e-03 3.94228798e-04\n",
            "  1.48410033e-04 3.30945935e-05 0.00000000e+00 0.00000000e+00\n",
            "  0.00000000e+00 0.00000000e+00 0.00000000e+00 3.13132986e-05\n",
            "  5.85952434e-05 2.85194768e-04 9.63680811e-04 2.43446829e-03\n",
            "  4.85871756e-03 8.70725313e-03 1.41813614e-02 2.13864200e-02\n",
            "  2.89971452e-02 3.78271201e-02 4.66857834e-02 5.23829285e-02\n",
            "  5.21805171e-02 4.71359823e-02 3.77022419e-02 2.68056830e-02\n",
            "  1.62205696e-02 8.57815609e-03 3.82641001e-03 1.48053773e-03\n",
            "  5.36263669e-04 8.15645794e-05 4.40636232e-06 0.00000000e+00\n",
            "  0.00000000e+00 3.56259088e-06 7.12518176e-06 5.38138719e-05\n",
            "  3.18570620e-04 1.75307593e-03 4.35545476e-03 9.93972207e-03\n",
            "  1.90918303e-02 3.27677725e-02 5.23527403e-02 7.66652660e-02\n",
            "  1.06091235e-01 1.38255804e-01 1.64902764e-01 1.78554893e-01\n",
            "  1.75855575e-01 1.55418304e-01 1.23493928e-01 8.99026345e-02\n",
            "  5.76047491e-02 3.32464722e-02 1.71779690e-02 8.09439378e-03\n",
            "  3.27908358e-03 7.34549978e-04 1.16815479e-04 5.90640043e-06\n",
            "  0.00000000e+00 0.00000000e+00 3.56259084e-05 2.12911678e-04\n",
            "  1.58966552e-03 5.99134018e-03 1.44570872e-02 2.83737855e-02\n",
            "  5.08048883e-02 8.31550876e-02 1.23968127e-01 1.73285728e-01\n",
            "  2.30823725e-01 2.89973419e-01 3.35247197e-01 3.57342760e-01\n",
            "  3.50363364e-01 3.15854985e-01 2.59531081e-01 1.95635735e-01\n",
            "  1.33910287e-01 8.34067191e-02 4.80409742e-02 2.58456586e-02\n",
            "  1.18455206e-02 3.36449201e-03 6.26265965e-04 1.48128776e-05\n",
            "  0.00000000e+00 6.56266720e-07 6.67517016e-05 7.85551270e-04\n",
            "  4.18473165e-03 1.26858233e-02 2.92106194e-02 5.54938203e-02\n",
            "  9.42075566e-02 1.46362854e-01 2.09220081e-01 2.78449376e-01\n",
            "  3.50273924e-01 4.17891709e-01 4.66133219e-01 4.87692424e-01\n",
            "  4.77473602e-01 4.39204721e-01 3.77278081e-01 2.94372094e-01\n",
            "  2.10964156e-01 1.37485816e-01 8.20358715e-02 4.50210222e-02\n",
            "  2.12649169e-02 7.34681226e-03 1.53632041e-03 7.74394738e-05\n",
            "  0.00000000e+00 8.31583703e-05 3.52790241e-04 2.28240191e-03\n",
            "  8.67265851e-03 2.27428295e-02 4.80996631e-02 8.68744323e-02\n",
            "  1.42059151e-01 2.11211194e-01 2.88962206e-01 3.68913024e-01\n",
            "  4.38594487e-01 4.91860281e-01 5.22382308e-01 5.32159464e-01\n",
            "  5.23230674e-01 4.96873877e-01 4.45355534e-01 3.66662779e-01\n",
            "  2.72324063e-01 1.82453399e-01 1.09906488e-01 5.97797108e-02\n",
            "  2.77519260e-02 1.04079215e-02 1.96814392e-03 7.95957796e-05\n",
            "  0.00000000e+00 1.66691749e-04 1.23790655e-03 5.02615934e-03\n",
            "  1.46335291e-02 3.31265628e-02 6.52642255e-02 1.15440035e-01\n",
            "  1.83978656e-01 2.66231002e-01 3.52903679e-01 4.24928295e-01\n",
            "  4.69236517e-01 4.85071202e-01 4.83005743e-01 4.79764723e-01\n",
            "  4.80879626e-01 4.78458096e-01 4.55233660e-01 3.93564652e-01\n",
            "  3.01363959e-01 2.05238229e-01 1.24012097e-01 6.39557234e-02\n",
            "  2.79575249e-02 1.01051950e-02 1.82404650e-03 1.05846449e-04\n",
            "  0.00000000e+00 2.45350002e-04 1.93448680e-03 6.66645112e-03\n",
            "  1.72210013e-02 3.82240677e-02 7.64377289e-02 1.35377699e-01\n",
            "  2.14168425e-01 3.05155118e-01 3.86879544e-01 4.32864153e-01\n",
            "  4.34126060e-01 4.10900218e-01 3.89022255e-01 3.89789806e-01\n",
            "  4.08734913e-01 4.33873866e-01 4.34193281e-01 3.87184614e-01\n",
            "  3.00214930e-01 2.04570431e-01 1.22118299e-01 5.98202118e-02\n",
            "  2.32001537e-02 7.33959332e-03 1.44491183e-03 1.38472278e-04\n",
            "  9.37523933e-08 3.64696795e-04 1.97545659e-03 6.49854058e-03\n",
            "  1.68006156e-02 3.86775480e-02 8.08605916e-02 1.45894561e-01\n",
            "  2.33808988e-01 3.26228593e-01 3.91402440e-01 4.03725254e-01\n",
            "  3.68535764e-01 3.25975649e-01 3.12213924e-01 3.31400537e-01\n",
            "  3.67742432e-01 4.09161299e-01 4.16222542e-01 3.68456825e-01\n",
            "  2.80156419e-01 1.87823629e-01 1.10265372e-01 5.24984315e-02\n",
            "  1.79641765e-02 4.34054813e-03 8.78553642e-04 6.00952818e-05\n",
            "  2.60631651e-05 3.13883000e-04 1.63822925e-03 4.95518877e-03\n",
            "  1.41034531e-02 3.75298313e-02 8.29012061e-02 1.56014850e-01\n",
            "  2.51282652e-01 3.40924279e-01 3.86196277e-01 3.71012046e-01\n",
            "  3.20350131e-01 2.88413286e-01 2.98857302e-01 3.34363581e-01\n",
            "  3.80805140e-01 4.21265389e-01 4.13083243e-01 3.47676233e-01\n",
            "  2.52707407e-01 1.65337963e-01 9.87867045e-02 4.91817532e-02\n",
            "  1.55152704e-02 2.36162270e-03 5.23607095e-04 2.35318498e-05\n",
            "  2.13755453e-05 1.84973466e-04 8.74897298e-04 3.42055591e-03\n",
            "  1.17728625e-02 3.73750461e-02 8.86085702e-02 1.69864422e-01\n",
            "  2.70023942e-01 3.52834770e-01 3.83354548e-01 3.56023946e-01\n",
            "  3.11961729e-01 3.11354589e-01 3.49645689e-01 3.96928862e-01\n",
            "  4.41616595e-01 4.59699180e-01 4.19709380e-01 3.29447487e-01\n",
            "  2.28267753e-01 1.49488371e-01 9.30199013e-02 4.98357698e-02\n",
            "  1.69314940e-02 1.79798333e-03 3.30758430e-04 3.75009559e-05\n",
            "  0.00000000e+00 8.38146356e-05 4.95856385e-04 2.32871559e-03\n",
            "  1.09023716e-02 4.13208029e-02 9.96089130e-02 1.85883986e-01\n",
            "  2.85287862e-01 3.59393781e-01 3.79625172e-01 3.56631367e-01\n",
            "  3.39483774e-01 3.79332196e-01 4.35304152e-01 4.83884484e-01\n",
            "  5.06833569e-01 4.94472035e-01 4.25171019e-01 3.16695944e-01\n",
            "  2.15662557e-01 1.45985126e-01 9.44863761e-02 5.35540833e-02\n",
            "  2.02851107e-02 2.41318651e-03 3.22883232e-04 3.45008791e-05\n",
            "  1.05940199e-05 4.62199278e-05 2.55756518e-04 1.85029715e-03\n",
            "  1.14479167e-02 4.80936630e-02 1.11321680e-01 1.98171268e-01\n",
            "  2.90042796e-01 3.54649723e-01 3.73619769e-01 3.66110109e-01\n",
            "  3.83292953e-01 4.51698258e-01 5.09270849e-01 5.45389707e-01\n",
            "  5.35366451e-01 4.99380910e-01 4.17750799e-01 3.10091463e-01\n",
            "  2.18931609e-01 1.52652889e-01 1.00780630e-01 5.69759517e-02\n",
            "  2.26802029e-02 3.23586372e-03 3.63196757e-04 9.93775324e-06\n",
            "  3.46883850e-06 2.17505541e-05 2.10474115e-04 2.04305207e-03\n",
            "  1.35990653e-02 5.58315164e-02 1.21028240e-01 2.01439476e-01\n",
            "  2.80869781e-01 3.36709359e-01 3.59125462e-01 3.69428287e-01\n",
            "  4.11564173e-01 4.82947428e-01 5.31323754e-01 5.44177582e-01\n",
            "  5.15022277e-01 4.74085765e-01 3.94961375e-01 3.05283747e-01\n",
            "  2.27410763e-01 1.61198982e-01 1.05991107e-01 5.82963604e-02\n",
            "  2.32954061e-02 4.32095387e-03 5.87639979e-04 4.01260228e-05\n",
            "  0.00000000e+00 2.23130688e-05 3.36571079e-04 2.54584614e-03\n",
            "  1.74098187e-02 6.43111387e-02 1.27596063e-01 1.96649479e-01\n",
            "  2.61174748e-01 3.06213395e-01 3.28416867e-01 3.51169541e-01\n",
            "  3.96401412e-01 4.54027442e-01 4.95910290e-01 4.99850891e-01\n",
            "  4.73776007e-01 4.35282308e-01 3.72749559e-01 3.02918280e-01\n",
            "  2.33458917e-01 1.64522317e-01 1.05085740e-01 5.64766265e-02\n",
            "  2.28344256e-02 5.25444641e-03 7.55738015e-04 4.44386332e-05\n",
            "  0.00000000e+00 2.83132221e-05 4.63230556e-04 3.82106613e-03\n",
            "  2.32638116e-02 7.24700340e-02 1.31674292e-01 1.90013122e-01\n",
            "  2.39025559e-01 2.72677791e-01 2.93395850e-01 3.16780696e-01\n",
            "  3.50907409e-01 3.99514272e-01 4.42469835e-01 4.53549586e-01\n",
            "  4.39560699e-01 4.09527309e-01 3.63181003e-01 3.03466450e-01\n",
            "  2.32863589e-01 1.59974857e-01 9.81797516e-02 5.10082372e-02\n",
            "  2.10040040e-02 5.68776996e-03 8.12176953e-04 3.49696415e-05\n",
            "  1.06877723e-05 2.17505544e-05 7.10736865e-04 6.09015521e-03\n",
            "  2.97272887e-02 7.99786628e-02 1.37550223e-01 1.89983965e-01\n",
            "  2.30360213e-01 2.60533200e-01 2.82075624e-01 3.01023825e-01\n",
            "  3.26456130e-01 3.73557517e-01 4.18509537e-01 4.39882363e-01\n",
            "  4.36079860e-01 4.12515103e-01 3.68137035e-01 3.02098509e-01\n",
            "  2.22823177e-01 1.48752040e-01 8.85230680e-02 4.48777685e-02\n",
            "  1.85451601e-02 5.20560142e-03 5.25763401e-04 5.65326920e-05\n",
            "  1.40628582e-06 5.02512811e-05 1.15971706e-03 8.06064291e-03\n",
            "  3.38987075e-02 8.50584484e-02 1.44724906e-01 2.00927213e-01\n",
            "  2.45838451e-01 2.80945251e-01 3.06800660e-01 3.25016093e-01\n",
            "  3.52726674e-01 3.97881762e-01 4.40739260e-01 4.61063278e-01\n",
            "  4.54855744e-01 4.22434387e-01 3.63547106e-01 2.83835825e-01\n",
            "  1.99980595e-01 1.28329207e-01 7.36102506e-02 3.59747604e-02\n",
            "  1.47070310e-02 4.15623093e-03 5.01294028e-04 2.52193926e-05\n",
            "  0.00000000e+00 5.10013013e-05 1.34440926e-03 8.95972832e-03\n",
            "  3.32234090e-02 8.08176529e-02 1.44763438e-01 2.10594678e-01\n",
            "  2.70495329e-01 3.18487927e-01 3.54903698e-01 3.83983158e-01\n",
            "  4.18684667e-01 4.60644204e-01 4.89954763e-01 4.91733621e-01\n",
            "  4.64697401e-01 4.08164993e-01 3.29953656e-01 2.41389150e-01\n",
            "  1.61057510e-01 9.78571496e-02 5.31003218e-02 2.54942747e-02\n",
            "  1.05336434e-02 2.80544650e-03 4.17104380e-04 4.68761946e-06\n",
            "  0.00000000e+00 4.42511287e-05 1.15502944e-03 7.15883869e-03\n",
            "  2.58241893e-02 6.58733347e-02 1.27644533e-01 2.01436101e-01\n",
            "  2.75218012e-01 3.41465793e-01 3.95937525e-01 4.41439121e-01\n",
            "  4.80176296e-01 5.11622816e-01 5.17205583e-01 4.90301460e-01\n",
            "  4.32188761e-01 3.51470298e-01 2.61933205e-01 1.79495511e-01\n",
            "  1.12203703e-01 6.37472181e-02 3.27555847e-02 1.57146817e-02\n",
            "  6.59623061e-03 1.73845056e-03 2.72256942e-04 3.65634326e-06\n",
            "  0.00000000e+00 3.56259088e-06 6.98455303e-04 4.05179077e-03\n",
            "  1.50060074e-02 4.19188494e-02 9.03104574e-02 1.57684299e-01\n",
            "  2.37279983e-01 3.15889204e-01 3.88645745e-01 4.44138159e-01\n",
            "  4.81504017e-01 4.91932470e-01 4.72637197e-01 4.20772532e-01\n",
            "  3.44709532e-01 2.59036068e-01 1.78691022e-01 1.13328731e-01\n",
            "  6.65146011e-02 3.55321554e-02 1.78897371e-02 8.46012185e-03\n",
            "  3.31583451e-03 7.51612912e-04 6.90955123e-05 6.75017223e-06\n",
            "  0.00000000e+00 0.00000000e+00 2.08130306e-04 1.50031949e-03\n",
            "  6.55441704e-03 1.92080833e-02 4.61394883e-02 9.26293291e-02\n",
            "  1.55528650e-01 2.28504103e-01 3.01518932e-01 3.61117231e-01\n",
            "  3.92928636e-01 3.89225979e-01 3.55201081e-01 2.96532243e-01\n",
            "  2.25698094e-01 1.57699206e-01 1.00609720e-01 6.06114819e-02\n",
            "  3.38387060e-02 1.71730939e-02 8.27083578e-03 3.66131206e-03\n",
            "  1.15240437e-03 2.14786726e-04 2.26880784e-05 0.00000000e+00\n",
            "  0.00000000e+00 0.00000000e+00 7.45331488e-05 4.62293036e-04\n",
            "  2.17805551e-03 6.24953427e-03 1.61384425e-02 3.50666748e-02\n",
            "  6.46566163e-02 1.04685699e-01 1.47633668e-01 1.83162354e-01\n",
            "  2.02169339e-01 1.99478083e-01 1.77962472e-01 1.43268744e-01\n",
            "  1.07109479e-01 7.42316415e-02 4.78920016e-02 2.88081403e-02\n",
            "  1.58299971e-02 8.01723555e-03 3.72768875e-03 1.51025724e-03\n",
            "  3.82978509e-04 6.75954729e-05 1.68754306e-06 0.00000000e+00\n",
            "  0.00000000e+00 0.00000000e+00 5.43763870e-06 7.56581783e-05\n",
            "  4.40167467e-04 1.76648252e-03 5.39048112e-03 1.20071497e-02\n",
            "  2.32072788e-02 3.78953718e-02 5.39314367e-02 6.57119868e-02\n",
            "  7.14155071e-02 6.97966846e-02 6.17801992e-02 5.12743065e-02\n",
            "  4.12563950e-02 3.03146475e-02 2.06205567e-02 1.24151601e-02\n",
            "  6.69110800e-03 3.33420996e-03 1.50313206e-03 5.40951286e-04\n",
            "  1.38472281e-04 1.19065532e-05 0.00000000e+00 0.00000000e+00\n",
            "  0.00000000e+00 0.00000000e+00 0.00000000e+00 3.56259088e-06\n",
            "  1.06783972e-04 6.31984857e-04 2.12846049e-03 4.64580588e-03\n",
            "  8.95719700e-03 1.39766999e-02 1.91688947e-02 2.31249643e-02\n",
            "  2.51089523e-02 2.43785275e-02 2.19436842e-02 1.79140190e-02\n",
            "  1.41778925e-02 1.03048876e-02 6.75251582e-03 3.93835036e-03\n",
            "  2.13174182e-03 9.30586216e-04 2.91194922e-04 5.60639298e-05\n",
            "  2.90632405e-06 5.53139090e-06 0.00000000e+00 0.00000000e+00\n",
            "  0.00000000e+00 0.00000000e+00 0.00000000e+00 0.00000000e+00\n",
            "  1.42503632e-05 8.23145980e-05 1.48503786e-04 3.45571306e-04\n",
            "  5.19200730e-04 7.39331341e-04 1.29556427e-03 1.59397812e-03\n",
            "  2.01220753e-03 2.18002431e-03 2.71956931e-03 2.52118925e-03\n",
            "  2.04586464e-03 1.41331727e-03 8.02332948e-04 2.86507302e-04\n",
            "  1.90129846e-04 8.04395504e-05 5.52201572e-05 5.81264805e-06\n",
            "  0.00000000e+00 0.00000000e+00 0.00000000e+00 0.00000000e+00]] | Acc: [[ 9.87353272 11.33663248  9.9787229  10.08869445  9.52688326  9.13002941\n",
            "   9.97633221 10.45446939  9.74204499  9.8926582 ]] | Batchsize:42086\n",
            "   Epoch 2/50 | Cost: 6.099997445914893 | Acc: 10.573587416242932 | Batchsize:42120\n",
            "   Epoch 3/50 | Cost: 4.504255589033171 | Acc: 12.5332383665717 | Batchsize:41989\n",
            "   Epoch 4/50 | Cost: 3.5867084591732485 | Acc: 14.184667412893853 | Batchsize:42012\n",
            "   Epoch 5/50 | Cost: 3.239939785476694 | Acc: 16.904693896981815 | Batchsize:42223\n",
            "   Epoch 6/50 | Cost: 2.9899133780497342 | Acc: 19.619638585605 | Batchsize:41978\n",
            "   Epoch 7/50 | Cost: 2.7962365272921943 | Acc: 22.649959502596598 | Batchsize:41724\n",
            "   Epoch 8/50 | Cost: 2.6152486720631174 | Acc: 25.59438213018886 | Batchsize:41924\n",
            "   Epoch 9/50 | Cost: 2.472805223207954 | Acc: 28.08892281270871 | Batchsize:42108\n",
            "   Epoch 10/50 | Cost: 2.342963219858007 | Acc: 30.609385389949654 | Batchsize:42040\n",
            "   Epoch 11/50 | Cost: 2.2172728751182444 | Acc: 33.57278782112274 | Batchsize:41946\n",
            "   Epoch 12/50 | Cost: 2.113000511158391 | Acc: 35.91045630095838 | Batchsize:41995\n",
            "   Epoch 13/50 | Cost: 2.024409854525377 | Acc: 38.21645433980236 | Batchsize:42080\n",
            "   Epoch 14/50 | Cost: 1.938473502469177 | Acc: 40.430133079847906 | Batchsize:42047\n",
            "   Epoch 15/50 | Cost: 1.8724517522033965 | Acc: 42.31217447142483 | Batchsize:42008\n",
            "   Epoch 16/50 | Cost: 1.792999747536783 | Acc: 44.30822700438012 | Batchsize:42064\n",
            "   Epoch 17/50 | Cost: 1.7436865819052736 | Acc: 45.680391783948274 | Batchsize:41840\n",
            "   Epoch 18/50 | Cost: 1.6842685857634583 | Acc: 47.28967495219885 | Batchsize:42136\n",
            "   Epoch 19/50 | Cost: 1.6249584574867564 | Acc: 48.8014999050693 | Batchsize:42027\n",
            "   Epoch 20/50 | Cost: 1.5843177889189917 | Acc: 50.16299045851477 | Batchsize:41965\n",
            "   Epoch 21/50 | Cost: 1.5416103383843731 | Acc: 51.57631359466222 | Batchsize:41947\n",
            "   Epoch 22/50 | Cost: 1.4965142301911927 | Acc: 52.81188166019024 | Batchsize:42249\n",
            "   Epoch 23/50 | Cost: 1.4632419701560806 | Acc: 53.880565220478594 | Batchsize:41925\n",
            "   Epoch 24/50 | Cost: 1.4217535019057495 | Acc: 54.92426952892069 | Batchsize:42023\n",
            "   Epoch 25/50 | Cost: 1.3962938690998217 | Acc: 55.86702520048546 | Batchsize:42057\n",
            "   Epoch 26/50 | Cost: 1.3626206918517991 | Acc: 56.9489026796966 | Batchsize:42056\n",
            "   Epoch 27/50 | Cost: 1.3204023539727714 | Acc: 57.99648088263268 | Batchsize:41808\n",
            "   Epoch 28/50 | Cost: 1.3031409208787912 | Acc: 58.59644087256027 | Batchsize:42068\n",
            "   Epoch 29/50 | Cost: 1.2775705885683803 | Acc: 59.593990681753354 | Batchsize:42104\n",
            "   Epoch 30/50 | Cost: 1.2422752487496571 | Acc: 60.4764392931788 | Batchsize:41749\n",
            "   Epoch 31/50 | Cost: 1.2230946899315887 | Acc: 61.36913459005006 | Batchsize:41931\n",
            "   Epoch 32/50 | Cost: 1.2035022936143531 | Acc: 61.86592258710739 | Batchsize:42204\n",
            "   Epoch 33/50 | Cost: 1.187344670150756 | Acc: 62.41825419391527 | Batchsize:41996\n",
            "   Epoch 34/50 | Cost: 1.1665393924436447 | Acc: 63.065530050481 | Batchsize:41935\n",
            "   Epoch 35/50 | Cost: 1.1425944529438816 | Acc: 63.755812567068084 | Batchsize:42038\n",
            "   Epoch 36/50 | Cost: 1.1208615953570593 | Acc: 64.55587801512917 | Batchsize:42079\n",
            "   Epoch 37/50 | Cost: 1.1126767709784997 | Acc: 64.74013165712113 | Batchsize:42021\n",
            "   Epoch 38/50 | Cost: 1.0947834462793946 | Acc: 65.49106399181362 | Batchsize:41867\n"
          ]
        },
        {
          "output_type": "stream",
          "name": "stderr",
          "text": [
            "ERROR:root:KeyboardInterrupt while sending command.\n",
            "Traceback (most recent call last):\n",
            "  File \"/usr/local/lib/python3.11/dist-packages/py4j/java_gateway.py\", line 1038, in send_command\n",
            "    response = connection.send_command(command)\n",
            "               ^^^^^^^^^^^^^^^^^^^^^^^^^^^^^^^^\n",
            "  File \"/usr/local/lib/python3.11/dist-packages/py4j/clientserver.py\", line 511, in send_command\n",
            "    answer = smart_decode(self.stream.readline()[:-1])\n",
            "                          ^^^^^^^^^^^^^^^^^^^^^^\n",
            "  File \"/usr/lib/python3.11/socket.py\", line 718, in readinto\n",
            "    return self._sock.recv_into(b)\n",
            "           ^^^^^^^^^^^^^^^^^^^^^^^\n",
            "KeyboardInterrupt\n"
          ]
        },
        {
          "output_type": "error",
          "ename": "KeyboardInterrupt",
          "evalue": "",
          "traceback": [
            "\u001b[0;31m---------------------------------------------------------------------------\u001b[0m",
            "\u001b[0;31mKeyboardInterrupt\u001b[0m                         Traceback (most recent call last)",
            "\u001b[0;32m/tmp/ipython-input-51-4060866813.py\u001b[0m in \u001b[0;36m<cell line: 0>\u001b[0;34m()\u001b[0m\n\u001b[1;32m     41\u001b[0m                         \u001b[0;34m.\u001b[0m\u001b[0mmap\u001b[0m\u001b[0;34m(\u001b[0m\u001b[0;32mlambda\u001b[0m \u001b[0mx\u001b[0m\u001b[0;34m:\u001b[0m \u001b[0;34m(\u001b[0m\u001b[0mx\u001b[0m\u001b[0;34m[\u001b[0m\u001b[0;36m0\u001b[0m\u001b[0;34m]\u001b[0m\u001b[0;34m,\u001b[0m \u001b[0mx\u001b[0m\u001b[0;34m[\u001b[0m\u001b[0;36m1\u001b[0m\u001b[0;34m]\u001b[0m\u001b[0;34m,\u001b[0m \u001b[0mx\u001b[0m\u001b[0;34m[\u001b[0m\u001b[0;36m2\u001b[0m\u001b[0;34m]\u001b[0m\u001b[0;34m,\u001b[0m \u001b[0mx\u001b[0m\u001b[0;34m[\u001b[0m\u001b[0;36m3\u001b[0m\u001b[0;34m]\u001b[0m\u001b[0;34m,\u001b[0m \u001b[0mx\u001b[0m\u001b[0;34m[\u001b[0m\u001b[0;36m4\u001b[0m\u001b[0;34m]\u001b[0m\u001b[0;34m,\u001b[0m \u001b[0mx\u001b[0m\u001b[0;34m[\u001b[0m\u001b[0;36m5\u001b[0m\u001b[0;34m]\u001b[0m\u001b[0;34m,\u001b[0m \u001b[0mx\u001b[0m\u001b[0;34m[\u001b[0m\u001b[0;36m6\u001b[0m\u001b[0;34m]\u001b[0m\u001b[0;34m,\u001b[0m \u001b[0mx\u001b[0m\u001b[0;34m[\u001b[0m\u001b[0;36m7\u001b[0m\u001b[0;34m]\u001b[0m\u001b[0;34m,\u001b[0m \u001b[0mx\u001b[0m\u001b[0;34m[\u001b[0m\u001b[0;36m8\u001b[0m\u001b[0;34m]\u001b[0m\u001b[0;34m,\u001b[0m \u001b[0mx\u001b[0m\u001b[0;34m[\u001b[0m\u001b[0;36m9\u001b[0m\u001b[0;34m]\u001b[0m\u001b[0;34m,\u001b[0m \u001b[0mderivativeB1\u001b[0m\u001b[0;34m(\u001b[0m\u001b[0mx\u001b[0m\u001b[0;34m[\u001b[0m\u001b[0;36m7\u001b[0m\u001b[0;34m]\u001b[0m\u001b[0;34m,\u001b[0m \u001b[0mW2\u001b[0m\u001b[0;34m,\u001b[0m \u001b[0mx\u001b[0m\u001b[0;34m[\u001b[0m\u001b[0;36m1\u001b[0m\u001b[0;34m]\u001b[0m\u001b[0;34m)\u001b[0m\u001b[0;34m)\u001b[0m\u001b[0;34m)\u001b[0m\u001b[0;31m\\\u001b[0m\u001b[0;34m\u001b[0m\u001b[0;34m\u001b[0m\u001b[0m\n\u001b[1;32m     42\u001b[0m                         \u001b[0;34m.\u001b[0m\u001b[0mmap\u001b[0m\u001b[0;34m(\u001b[0m\u001b[0;32mlambda\u001b[0m \u001b[0mx\u001b[0m\u001b[0;34m:\u001b[0m \u001b[0;34m(\u001b[0m\u001b[0mx\u001b[0m\u001b[0;34m[\u001b[0m\u001b[0;36m0\u001b[0m\u001b[0;34m]\u001b[0m\u001b[0;34m,\u001b[0m \u001b[0mx\u001b[0m\u001b[0;34m[\u001b[0m\u001b[0;36m1\u001b[0m\u001b[0;34m]\u001b[0m\u001b[0;34m,\u001b[0m \u001b[0mx\u001b[0m\u001b[0;34m[\u001b[0m\u001b[0;36m2\u001b[0m\u001b[0;34m]\u001b[0m\u001b[0;34m,\u001b[0m \u001b[0mx\u001b[0m\u001b[0;34m[\u001b[0m\u001b[0;36m3\u001b[0m\u001b[0;34m]\u001b[0m\u001b[0;34m,\u001b[0m \u001b[0mx\u001b[0m\u001b[0;34m[\u001b[0m\u001b[0;36m4\u001b[0m\u001b[0;34m]\u001b[0m\u001b[0;34m,\u001b[0m \u001b[0mx\u001b[0m\u001b[0;34m[\u001b[0m\u001b[0;36m5\u001b[0m\u001b[0;34m]\u001b[0m\u001b[0;34m,\u001b[0m \u001b[0mx\u001b[0m\u001b[0;34m[\u001b[0m\u001b[0;36m6\u001b[0m\u001b[0;34m]\u001b[0m\u001b[0;34m,\u001b[0m \u001b[0mx\u001b[0m\u001b[0;34m[\u001b[0m\u001b[0;36m7\u001b[0m\u001b[0;34m]\u001b[0m\u001b[0;34m,\u001b[0m \u001b[0mx\u001b[0m\u001b[0;34m[\u001b[0m\u001b[0;36m8\u001b[0m\u001b[0;34m]\u001b[0m\u001b[0;34m,\u001b[0m \u001b[0mx\u001b[0m\u001b[0;34m[\u001b[0m\u001b[0;36m9\u001b[0m\u001b[0;34m]\u001b[0m\u001b[0;34m,\u001b[0m \u001b[0mx\u001b[0m\u001b[0;34m[\u001b[0m\u001b[0;36m10\u001b[0m\u001b[0;34m]\u001b[0m\u001b[0;34m,\u001b[0m \u001b[0mderivativeW1\u001b[0m\u001b[0;34m(\u001b[0m\u001b[0mx\u001b[0m\u001b[0;34m[\u001b[0m\u001b[0;36m0\u001b[0m\u001b[0;34m]\u001b[0m\u001b[0;34m,\u001b[0m \u001b[0mx\u001b[0m\u001b[0;34m[\u001b[0m\u001b[0;36m10\u001b[0m\u001b[0;34m]\u001b[0m\u001b[0;34m)\u001b[0m\u001b[0;34m,\u001b[0m \u001b[0;36m1\u001b[0m\u001b[0;34m)\u001b[0m\u001b[0;34m)\u001b[0m\u001b[0;31m \u001b[0m\u001b[0;31m\\\u001b[0m\u001b[0;34m\u001b[0m\u001b[0;34m\u001b[0m\u001b[0m\n\u001b[0;32m---> 43\u001b[0;31m                         \u001b[0;34m.\u001b[0m\u001b[0mreduce\u001b[0m\u001b[0;34m(\u001b[0m\u001b[0;32mlambda\u001b[0m \u001b[0mx\u001b[0m\u001b[0;34m,\u001b[0m \u001b[0my\u001b[0m\u001b[0;34m:\u001b[0m \u001b[0mtuple\u001b[0m\u001b[0;34m(\u001b[0m\u001b[0ma\u001b[0m \u001b[0;34m+\u001b[0m \u001b[0mb\u001b[0m \u001b[0;32mif\u001b[0m \u001b[0misinstance\u001b[0m\u001b[0;34m(\u001b[0m\u001b[0ma\u001b[0m\u001b[0;34m,\u001b[0m \u001b[0mnp\u001b[0m\u001b[0;34m.\u001b[0m\u001b[0mndarray\u001b[0m\u001b[0;34m)\u001b[0m \u001b[0;32melse\u001b[0m \u001b[0ma\u001b[0m \u001b[0;34m+\u001b[0m \u001b[0mb\u001b[0m \u001b[0;32mfor\u001b[0m \u001b[0ma\u001b[0m\u001b[0;34m,\u001b[0m \u001b[0mb\u001b[0m \u001b[0;32min\u001b[0m \u001b[0mzip\u001b[0m\u001b[0;34m(\u001b[0m\u001b[0mx\u001b[0m\u001b[0;34m,\u001b[0m \u001b[0my\u001b[0m\u001b[0;34m)\u001b[0m\u001b[0;34m)\u001b[0m\u001b[0;34m)\u001b[0m\u001b[0;34m\u001b[0m\u001b[0;34m\u001b[0m\u001b[0m\n\u001b[0m\u001b[1;32m     44\u001b[0m \u001b[0;34m\u001b[0m\u001b[0m\n\u001b[1;32m     45\u001b[0m     \u001b[0;31m# Cost and Accuarcy of the mini batch\u001b[0m\u001b[0;34m\u001b[0m\u001b[0;34m\u001b[0m\u001b[0m\n",
            "\u001b[0;32m/usr/local/lib/python3.11/dist-packages/pyspark/rdd.py\u001b[0m in \u001b[0;36mreduce\u001b[0;34m(self, f)\u001b[0m\n\u001b[1;32m   1922\u001b[0m             \u001b[0;32myield\u001b[0m \u001b[0mreduce\u001b[0m\u001b[0;34m(\u001b[0m\u001b[0mf\u001b[0m\u001b[0;34m,\u001b[0m \u001b[0miterator\u001b[0m\u001b[0;34m,\u001b[0m \u001b[0minitial\u001b[0m\u001b[0;34m)\u001b[0m\u001b[0;34m\u001b[0m\u001b[0;34m\u001b[0m\u001b[0m\n\u001b[1;32m   1923\u001b[0m \u001b[0;34m\u001b[0m\u001b[0m\n\u001b[0;32m-> 1924\u001b[0;31m         \u001b[0mvals\u001b[0m \u001b[0;34m=\u001b[0m \u001b[0mself\u001b[0m\u001b[0;34m.\u001b[0m\u001b[0mmapPartitions\u001b[0m\u001b[0;34m(\u001b[0m\u001b[0mfunc\u001b[0m\u001b[0;34m)\u001b[0m\u001b[0;34m.\u001b[0m\u001b[0mcollect\u001b[0m\u001b[0;34m(\u001b[0m\u001b[0;34m)\u001b[0m\u001b[0;34m\u001b[0m\u001b[0;34m\u001b[0m\u001b[0m\n\u001b[0m\u001b[1;32m   1925\u001b[0m         \u001b[0;32mif\u001b[0m \u001b[0mvals\u001b[0m\u001b[0;34m:\u001b[0m\u001b[0;34m\u001b[0m\u001b[0;34m\u001b[0m\u001b[0m\n\u001b[1;32m   1926\u001b[0m             \u001b[0;32mreturn\u001b[0m \u001b[0mreduce\u001b[0m\u001b[0;34m(\u001b[0m\u001b[0mf\u001b[0m\u001b[0;34m,\u001b[0m \u001b[0mvals\u001b[0m\u001b[0;34m)\u001b[0m\u001b[0;34m\u001b[0m\u001b[0;34m\u001b[0m\u001b[0m\n",
            "\u001b[0;32m/usr/local/lib/python3.11/dist-packages/pyspark/rdd.py\u001b[0m in \u001b[0;36mcollect\u001b[0;34m(self)\u001b[0m\n\u001b[1;32m   1831\u001b[0m         \u001b[0;32mwith\u001b[0m \u001b[0mSCCallSiteSync\u001b[0m\u001b[0;34m(\u001b[0m\u001b[0mself\u001b[0m\u001b[0;34m.\u001b[0m\u001b[0mcontext\u001b[0m\u001b[0;34m)\u001b[0m\u001b[0;34m:\u001b[0m\u001b[0;34m\u001b[0m\u001b[0;34m\u001b[0m\u001b[0m\n\u001b[1;32m   1832\u001b[0m             \u001b[0;32massert\u001b[0m \u001b[0mself\u001b[0m\u001b[0;34m.\u001b[0m\u001b[0mctx\u001b[0m\u001b[0;34m.\u001b[0m\u001b[0m_jvm\u001b[0m \u001b[0;32mis\u001b[0m \u001b[0;32mnot\u001b[0m \u001b[0;32mNone\u001b[0m\u001b[0;34m\u001b[0m\u001b[0;34m\u001b[0m\u001b[0m\n\u001b[0;32m-> 1833\u001b[0;31m             \u001b[0msock_info\u001b[0m \u001b[0;34m=\u001b[0m \u001b[0mself\u001b[0m\u001b[0;34m.\u001b[0m\u001b[0mctx\u001b[0m\u001b[0;34m.\u001b[0m\u001b[0m_jvm\u001b[0m\u001b[0;34m.\u001b[0m\u001b[0mPythonRDD\u001b[0m\u001b[0;34m.\u001b[0m\u001b[0mcollectAndServe\u001b[0m\u001b[0;34m(\u001b[0m\u001b[0mself\u001b[0m\u001b[0;34m.\u001b[0m\u001b[0m_jrdd\u001b[0m\u001b[0;34m.\u001b[0m\u001b[0mrdd\u001b[0m\u001b[0;34m(\u001b[0m\u001b[0;34m)\u001b[0m\u001b[0;34m)\u001b[0m\u001b[0;34m\u001b[0m\u001b[0;34m\u001b[0m\u001b[0m\n\u001b[0m\u001b[1;32m   1834\u001b[0m         \u001b[0;32mreturn\u001b[0m \u001b[0mlist\u001b[0m\u001b[0;34m(\u001b[0m\u001b[0m_load_from_socket\u001b[0m\u001b[0;34m(\u001b[0m\u001b[0msock_info\u001b[0m\u001b[0;34m,\u001b[0m \u001b[0mself\u001b[0m\u001b[0;34m.\u001b[0m\u001b[0m_jrdd_deserializer\u001b[0m\u001b[0;34m)\u001b[0m\u001b[0;34m)\u001b[0m\u001b[0;34m\u001b[0m\u001b[0;34m\u001b[0m\u001b[0m\n\u001b[1;32m   1835\u001b[0m \u001b[0;34m\u001b[0m\u001b[0m\n",
            "\u001b[0;32m/usr/local/lib/python3.11/dist-packages/py4j/java_gateway.py\u001b[0m in \u001b[0;36m__call__\u001b[0;34m(self, *args)\u001b[0m\n\u001b[1;32m   1319\u001b[0m             \u001b[0mproto\u001b[0m\u001b[0;34m.\u001b[0m\u001b[0mEND_COMMAND_PART\u001b[0m\u001b[0;34m\u001b[0m\u001b[0;34m\u001b[0m\u001b[0m\n\u001b[1;32m   1320\u001b[0m \u001b[0;34m\u001b[0m\u001b[0m\n\u001b[0;32m-> 1321\u001b[0;31m         \u001b[0manswer\u001b[0m \u001b[0;34m=\u001b[0m \u001b[0mself\u001b[0m\u001b[0;34m.\u001b[0m\u001b[0mgateway_client\u001b[0m\u001b[0;34m.\u001b[0m\u001b[0msend_command\u001b[0m\u001b[0;34m(\u001b[0m\u001b[0mcommand\u001b[0m\u001b[0;34m)\u001b[0m\u001b[0;34m\u001b[0m\u001b[0;34m\u001b[0m\u001b[0m\n\u001b[0m\u001b[1;32m   1322\u001b[0m         return_value = get_return_value(\n\u001b[1;32m   1323\u001b[0m             answer, self.gateway_client, self.target_id, self.name)\n",
            "\u001b[0;32m/usr/local/lib/python3.11/dist-packages/py4j/java_gateway.py\u001b[0m in \u001b[0;36msend_command\u001b[0;34m(self, command, retry, binary)\u001b[0m\n\u001b[1;32m   1036\u001b[0m         \u001b[0mconnection\u001b[0m \u001b[0;34m=\u001b[0m \u001b[0mself\u001b[0m\u001b[0;34m.\u001b[0m\u001b[0m_get_connection\u001b[0m\u001b[0;34m(\u001b[0m\u001b[0;34m)\u001b[0m\u001b[0;34m\u001b[0m\u001b[0;34m\u001b[0m\u001b[0m\n\u001b[1;32m   1037\u001b[0m         \u001b[0;32mtry\u001b[0m\u001b[0;34m:\u001b[0m\u001b[0;34m\u001b[0m\u001b[0;34m\u001b[0m\u001b[0m\n\u001b[0;32m-> 1038\u001b[0;31m             \u001b[0mresponse\u001b[0m \u001b[0;34m=\u001b[0m \u001b[0mconnection\u001b[0m\u001b[0;34m.\u001b[0m\u001b[0msend_command\u001b[0m\u001b[0;34m(\u001b[0m\u001b[0mcommand\u001b[0m\u001b[0;34m)\u001b[0m\u001b[0;34m\u001b[0m\u001b[0;34m\u001b[0m\u001b[0m\n\u001b[0m\u001b[1;32m   1039\u001b[0m             \u001b[0;32mif\u001b[0m \u001b[0mbinary\u001b[0m\u001b[0;34m:\u001b[0m\u001b[0;34m\u001b[0m\u001b[0;34m\u001b[0m\u001b[0m\n\u001b[1;32m   1040\u001b[0m                 \u001b[0;32mreturn\u001b[0m \u001b[0mresponse\u001b[0m\u001b[0;34m,\u001b[0m \u001b[0mself\u001b[0m\u001b[0;34m.\u001b[0m\u001b[0m_create_connection_guard\u001b[0m\u001b[0;34m(\u001b[0m\u001b[0mconnection\u001b[0m\u001b[0;34m)\u001b[0m\u001b[0;34m\u001b[0m\u001b[0;34m\u001b[0m\u001b[0m\n",
            "\u001b[0;32m/usr/local/lib/python3.11/dist-packages/py4j/clientserver.py\u001b[0m in \u001b[0;36msend_command\u001b[0;34m(self, command)\u001b[0m\n\u001b[1;32m    509\u001b[0m         \u001b[0;32mtry\u001b[0m\u001b[0;34m:\u001b[0m\u001b[0;34m\u001b[0m\u001b[0;34m\u001b[0m\u001b[0m\n\u001b[1;32m    510\u001b[0m             \u001b[0;32mwhile\u001b[0m \u001b[0;32mTrue\u001b[0m\u001b[0;34m:\u001b[0m\u001b[0;34m\u001b[0m\u001b[0;34m\u001b[0m\u001b[0m\n\u001b[0;32m--> 511\u001b[0;31m                 \u001b[0manswer\u001b[0m \u001b[0;34m=\u001b[0m \u001b[0msmart_decode\u001b[0m\u001b[0;34m(\u001b[0m\u001b[0mself\u001b[0m\u001b[0;34m.\u001b[0m\u001b[0mstream\u001b[0m\u001b[0;34m.\u001b[0m\u001b[0mreadline\u001b[0m\u001b[0;34m(\u001b[0m\u001b[0;34m)\u001b[0m\u001b[0;34m[\u001b[0m\u001b[0;34m:\u001b[0m\u001b[0;34m-\u001b[0m\u001b[0;36m1\u001b[0m\u001b[0;34m]\u001b[0m\u001b[0;34m)\u001b[0m\u001b[0;34m\u001b[0m\u001b[0;34m\u001b[0m\u001b[0m\n\u001b[0m\u001b[1;32m    512\u001b[0m                 \u001b[0mlogger\u001b[0m\u001b[0;34m.\u001b[0m\u001b[0mdebug\u001b[0m\u001b[0;34m(\u001b[0m\u001b[0;34m\"Answer received: {0}\"\u001b[0m\u001b[0;34m.\u001b[0m\u001b[0mformat\u001b[0m\u001b[0;34m(\u001b[0m\u001b[0manswer\u001b[0m\u001b[0;34m)\u001b[0m\u001b[0;34m)\u001b[0m\u001b[0;34m\u001b[0m\u001b[0;34m\u001b[0m\u001b[0m\n\u001b[1;32m    513\u001b[0m                 \u001b[0;31m# Happens when a the other end is dead. There might be an empty\u001b[0m\u001b[0;34m\u001b[0m\u001b[0;34m\u001b[0m\u001b[0m\n",
            "\u001b[0;32m/usr/lib/python3.11/socket.py\u001b[0m in \u001b[0;36mreadinto\u001b[0;34m(self, b)\u001b[0m\n\u001b[1;32m    716\u001b[0m         \u001b[0;32mwhile\u001b[0m \u001b[0;32mTrue\u001b[0m\u001b[0;34m:\u001b[0m\u001b[0;34m\u001b[0m\u001b[0;34m\u001b[0m\u001b[0m\n\u001b[1;32m    717\u001b[0m             \u001b[0;32mtry\u001b[0m\u001b[0;34m:\u001b[0m\u001b[0;34m\u001b[0m\u001b[0;34m\u001b[0m\u001b[0m\n\u001b[0;32m--> 718\u001b[0;31m                 \u001b[0;32mreturn\u001b[0m \u001b[0mself\u001b[0m\u001b[0;34m.\u001b[0m\u001b[0m_sock\u001b[0m\u001b[0;34m.\u001b[0m\u001b[0mrecv_into\u001b[0m\u001b[0;34m(\u001b[0m\u001b[0mb\u001b[0m\u001b[0;34m)\u001b[0m\u001b[0;34m\u001b[0m\u001b[0;34m\u001b[0m\u001b[0m\n\u001b[0m\u001b[1;32m    719\u001b[0m             \u001b[0;32mexcept\u001b[0m \u001b[0mtimeout\u001b[0m\u001b[0;34m:\u001b[0m\u001b[0;34m\u001b[0m\u001b[0;34m\u001b[0m\u001b[0m\n\u001b[1;32m    720\u001b[0m                 \u001b[0mself\u001b[0m\u001b[0;34m.\u001b[0m\u001b[0m_timeout_occurred\u001b[0m \u001b[0;34m=\u001b[0m \u001b[0;32mTrue\u001b[0m\u001b[0;34m\u001b[0m\u001b[0;34m\u001b[0m\u001b[0m\n",
            "\u001b[0;31mKeyboardInterrupt\u001b[0m: "
          ]
        }
      ]
    },
    {
      "cell_type": "markdown",
      "source": [
        "## Test Evaluation"
      ],
      "metadata": {
        "id": "urMK-plE4-Xy"
      }
    },
    {
      "cell_type": "code",
      "source": [
        "# Use the trained model over the Testset and get Confusion matrix per class\n",
        "metrics = test_rdd.map(lambda x: get_metrics(np.round(predict(x[0], W1, B1, W2, B2)), x[1]))\\\n",
        "                  .reduce(lambda x, y: x + y)\n",
        "\n",
        "# For each class give TP, FP, FN, TN and precision, and recall, and F1 score\n",
        "for label, label_metrics in enumerate(metrics):\n",
        "\n",
        "    print(f\"\\n---- Digit {label} ------\\n\")\n",
        "    tn, fp, fn, tp = label_metrics.ravel()\n",
        "    print(\"TP:\", tp, \"FP:\", fp, \"FN:\", fn, \"TN:\", tn)\n",
        "\n",
        "    precision = tp / (tp + fp + 0.000001)\n",
        "    print(f\"\\nPrecision : {precision}\")\n",
        "\n",
        "    recall = tp / (tp + fn + 0.000001)\n",
        "    print(f\"Recall: {recall}\")\n",
        "\n",
        "    F1 = 2 * (precision * recall) / (precision + recall + 0.000001)\n",
        "    print(f\"F1 score: {F1}\")"
      ],
      "metadata": {
        "colab": {
          "base_uri": "https://localhost:8080/"
        },
        "id": "57cgOG0CtzDE",
        "outputId": "8436b112-a2c3-4f67-c86e-53d6006661cd"
      },
      "execution_count": null,
      "outputs": [
        {
          "output_type": "stream",
          "name": "stdout",
          "text": [
            "\n",
            "---- Digit 0 ------\n",
            "\n",
            "TP: 952 FP: 40 FN: 28 TN: 1095\n",
            "\n",
            "Precision : 0.9596774183874219\n",
            "Recall: 0.9714285704373178\n",
            "F1 score: 0.9655167404188577\n",
            "\n",
            "---- Digit 1 ------\n",
            "\n",
            "TP: 1127 FP: 20 FN: 8 TN: 960\n",
            "\n",
            "Precision : 0.9825632075130224\n",
            "Recall: 0.992951540975373\n",
            "F1 score: 0.9877295604981019\n"
          ]
        }
      ]
    },
    {
      "cell_type": "markdown",
      "source": [
        "## Inferencing Pipeline"
      ],
      "metadata": {
        "id": "EoR_oQ_L5n6r"
      }
    },
    {
      "cell_type": "code",
      "source": [
        "# Display some Images for checking\n",
        "for image_test in test_rdd.map(lambda x: (x[0], predict(x[0], W1, B1, W2, B2), np.argmax(x[1]))).takeSample(False, 15):\n",
        "\n",
        "    pred = np.argmax(image_test[1])\n",
        "    print(f'pred: {pred}, prob: {round(image_test[1][0][pred], 2)} true: {image_test[2]}')\n",
        "    image = np.reshape(image_test[0], (28, 28))\n",
        "    plt.imshow(image, cmap='binary')\n",
        "    plt.show()"
      ],
      "metadata": {
        "colab": {
          "base_uri": "https://localhost:8080/",
          "height": 1000
        },
        "id": "V6Zb3wWDtzAl",
        "outputId": "fbfabd25-380c-492a-8c20-8481ddfaeac6"
      },
      "execution_count": null,
      "outputs": [
        {
          "output_type": "stream",
          "name": "stdout",
          "text": [
            "pred: 1, prob: 0.76 true: 1\n"
          ]
        },
        {
          "output_type": "display_data",
          "data": {
            "text/plain": [
              "<Figure size 640x480 with 1 Axes>"
            ],
            "image/png": "[encoded data removed]"
          },
          "metadata": {}
        },
        {
          "output_type": "stream",
          "name": "stdout",
          "text": [
            "pred: 1, prob: 0.8 true: 1\n"
          ]
        },
        {
          "output_type": "display_data",
          "data": {
            "text/plain": [
              "<Figure size 640x480 with 1 Axes>"
            ],
            "image/png": "[encoded data removed]"
          },
          "metadata": {}
        },
        {
          "output_type": "stream",
          "name": "stdout",
          "text": [
            "pred: 1, prob: 0.82 true: 1\n"
          ]
        },
        {
          "output_type": "display_data",
          "data": {
            "text/plain": [
              "<Figure size 640x480 with 1 Axes>"
            ],
            "image/png": "[encoded data removed]"
          },
          "metadata": {}
        },
        {
          "output_type": "stream",
          "name": "stdout",
          "text": [
            "pred: 1, prob: 0.75 true: 1\n"
          ]
        },
        {
          "output_type": "display_data",
          "data": {
            "text/plain": [
              "<Figure size 640x480 with 1 Axes>"
            ],
            "image/png": "[encoded data removed]"
          },
          "metadata": {}
        },
        {
          "output_type": "stream",
          "name": "stdout",
          "text": [
            "pred: 1, prob: 0.74 true: 1\n"
          ]
        },
        {
          "output_type": "display_data",
          "data": {
            "text/plain": [
              "<Figure size 640x480 with 1 Axes>"
            ],
            "image/png": "[encoded data removed]"
          },
          "metadata": {}
        },
        {
          "output_type": "stream",
          "name": "stdout",
          "text": [
            "pred: 0, prob: 0.61 true: 0\n"
          ]
        },
        {
          "output_type": "display_data",
          "data": {
            "text/plain": [
              "<Figure size 640x480 with 1 Axes>"
            ],
            "image/png": "[encoded data removed]"
          },
          "metadata": {}
        },
        {
          "output_type": "stream",
          "name": "stdout",
          "text": [
            "pred: 0, prob: 0.8 true: 0\n"
          ]
        },
        {
          "output_type": "display_data",
          "data": {
            "text/plain": [
              "<Figure size 640x480 with 1 Axes>"
            ],
            "image/png": "[encoded data removed]"
          },
          "metadata": {}
        },
        {
          "output_type": "stream",
          "name": "stdout",
          "text": [
            "pred: 1, prob: 0.74 true: 1\n"
          ]
        },
        {
          "output_type": "display_data",
          "data": {
            "text/plain": [
              "<Figure size 640x480 with 1 Axes>"
            ],
            "image/png": "[encoded data removed]"
          },
          "metadata": {}
        },
        {
          "output_type": "stream",
          "name": "stdout",
          "text": [
            "pred: 1, prob: 0.79 true: 1\n"
          ]
        },
        {
          "output_type": "display_data",
          "data": {
            "text/plain": [
              "<Figure size 640x480 with 1 Axes>"
            ],
            "image/png": "[encoded data removed]"
          },
          "metadata": {}
        },
        {
          "output_type": "stream",
          "name": "stdout",
          "text": [
            "pred: 1, prob: 0.73 true: 1\n"
          ]
        },
        {
          "output_type": "display_data",
          "data": {
            "text/plain": [
              "<Figure size 640x480 with 1 Axes>"
            ],
            "image/png": "[encoded data removed]"
          },
          "metadata": {}
        },
        {
          "output_type": "stream",
          "name": "stdout",
          "text": [
            "pred: 0, prob: 0.74 true: 0\n"
          ]
        },
        {
          "output_type": "display_data",
          "data": {
            "text/plain": [
              "<Figure size 640x480 with 1 Axes>"
            ],
            "image/png": "[encoded data removed]"
          },
          "metadata": {}
        },
        {
          "output_type": "stream",
          "name": "stdout",
          "text": [
            "pred: 0, prob: 0.84 true: 0\n"
          ]
        },
        {
          "output_type": "display_data",
          "data": {
            "text/plain": [
              "<Figure size 640x480 with 1 Axes>"
            ],
            "image/png": "[encoded data removed]"
          },
          "metadata": {}
        },
        {
          "output_type": "stream",
          "name": "stdout",
          "text": [
            "pred: 1, prob: 0.75 true: 1\n"
          ]
        },
        {
          "output_type": "display_data",
          "data": {
            "text/plain": [
              "<Figure size 640x480 with 1 Axes>"
            ],
            "image/png": "[encoded data removed]"
          },
          "metadata": {}
        },
        {
          "output_type": "stream",
          "name": "stdout",
          "text": [
            "pred: 0, prob: 0.79 true: 0\n"
          ]
        },
        {
          "output_type": "display_data",
          "data": {
            "text/plain": [
              "<Figure size 640x480 with 1 Axes>"
            ],
            "image/png": "[encoded data removed]"
          },
          "metadata": {}
        },
        {
          "output_type": "stream",
          "name": "stdout",
          "text": [
            "pred: 0, prob: 0.8 true: 0\n"
          ]
        },
        {
          "output_type": "display_data",
          "data": {
            "text/plain": [
              "<Figure size 640x480 with 1 Axes>"
            ],
            "image/png": "[encoded data removed]"
          },
          "metadata": {}
        }
      ]
    },
    {
      "cell_type": "code",
      "source": [],
      "metadata": {
        "id": "L5ixt3Cqty-K"
      },
      "execution_count": null,
      "outputs": []
    },
    {
      "cell_type": "code",
      "source": [],
      "metadata": {
        "id": "LyM0iBjMty7y"
      },
      "execution_count": null,
      "outputs": []
    },
    {
      "cell_type": "code",
      "source": [],
      "metadata": {
        "id": "8nF8OK1Qty5b"
      },
      "execution_count": null,
      "outputs": []
    },
    {
      "cell_type": "code",
      "source": [],
      "metadata": {
        "id": "-EGrtujsty3F"
      },
      "execution_count": null,
      "outputs": []
    },
    {
      "cell_type": "code",
      "source": [],
      "metadata": {
        "id": "DCLmVK2lty0j"
      },
      "execution_count": null,
      "outputs": []
    },
    {
      "cell_type": "code",
      "source": [],
      "metadata": {
        "id": "ax1nTemPtyyT"
      },
      "execution_count": null,
      "outputs": []
    },
    {
      "cell_type": "code",
      "source": [],
      "metadata": {
        "id": "6Ym0r2B3tyvr"
      },
      "execution_count": null,
      "outputs": []
    },
    {
      "cell_type": "code",
      "source": [],
      "metadata": {
        "id": "sdFmsk8Gtytb"
      },
      "execution_count": null,
      "outputs": []
    },
    {
      "cell_type": "code",
      "source": [],
      "metadata": {
        "id": "-5wztpMHtyrK"
      },
      "execution_count": null,
      "outputs": []
    },
    {
      "cell_type": "code",
      "source": [],
      "metadata": {
        "id": "KcqgBsdNtyoz"
      },
      "execution_count": null,
      "outputs": []
    },
    {
      "cell_type": "code",
      "source": [],
      "metadata": {
        "id": "D1Dw0LCvtymS"
      },
      "execution_count": null,
      "outputs": []
    },
    {
      "cell_type": "code",
      "source": [],
      "metadata": {
        "id": "cpT9rjTxtykN"
      },
      "execution_count": null,
      "outputs": []
    },
    {
      "cell_type": "code",
      "source": [],
      "metadata": {
        "id": "OAKGFujgtyh0"
      },
      "execution_count": null,
      "outputs": []
    },
    {
      "cell_type": "code",
      "metadata": {
        "id": "leY-vBaKE9pp"
      },
      "source": [],
      "execution_count": null,
      "outputs": []
    }
  ]
}