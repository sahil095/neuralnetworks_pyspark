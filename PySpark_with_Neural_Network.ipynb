{
 "cells": [
  {
   "cell_type": "markdown",
   "id": "30081430",
   "metadata": {
    "papermill": {
     "duration": 0.007463,
     "end_time": "2025-07-25T20:27:19.764477",
     "exception": false,
     "start_time": "2025-07-25T20:27:19.757014",
     "status": "completed"
    },
    "tags": []
   },
   "source": [
    "# Classification using Shallow Neural Network in PySpark.\n",
    "\n",
    "Pyspark implementation of Shallow Neural Network from scratch using MNIST.\n",
    "\n",
    "The goal of this project is to use Spark to build a 3 layer Neural Network from Scratch, using my own mathematical formulas to solve an Image classification Task. I will use the very famous MNIST dataset\n",
    "\n",
    "<strong>We will perform both Binary Classification and Multi Class Classification using the same dataset"
   ]
  },
  {
   "cell_type": "markdown",
   "id": "46cb317f",
   "metadata": {
    "papermill": {
     "duration": 0.005944,
     "end_time": "2025-07-25T20:27:19.777565",
     "exception": false,
     "start_time": "2025-07-25T20:27:19.771621",
     "status": "completed"
    },
    "tags": []
   },
   "source": [
    "# Dataset Preparation"
   ]
  },
  {
   "cell_type": "code",
   "execution_count": 1,
   "id": "2961bdb6",
   "metadata": {
    "execution": {
     "iopub.execute_input": "2025-07-25T20:27:19.791801Z",
     "iopub.status.busy": "2025-07-25T20:27:19.791351Z",
     "iopub.status.idle": "2025-07-25T20:27:52.669148Z",
     "shell.execute_reply": "2025-07-25T20:27:52.667085Z"
    },
    "papermill": {
     "duration": 32.888435,
     "end_time": "2025-07-25T20:27:52.672480",
     "exception": false,
     "start_time": "2025-07-25T20:27:19.784045",
     "status": "completed"
    },
    "tags": []
   },
   "outputs": [
    {
     "name": "stdout",
     "output_type": "stream",
     "text": [
      "Pyspark Script: /usr/local/lib/python3.11/dist-packages/colab_kernel_launcher.py\n",
      "PySpark version: 3.5.1\n"
     ]
    },
    {
     "name": "stderr",
     "output_type": "stream",
     "text": [
      "2025-07-25 20:27:27.142595: E external/local_xla/xla/stream_executor/cuda/cuda_fft.cc:477] Unable to register cuFFT factory: Attempting to register factory for plugin cuFFT when one has already been registered\n",
      "WARNING: All log messages before absl::InitializeLog() is called are written to STDERR\n",
      "E0000 00:00:1753475247.401044      13 cuda_dnn.cc:8310] Unable to register cuDNN factory: Attempting to register factory for plugin cuDNN when one has already been registered\n",
      "E0000 00:00:1753475247.479570      13 cuda_blas.cc:1418] Unable to register cuBLAS factory: Attempting to register factory for plugin cuBLAS when one has already been registered\n",
      "Setting default log level to \"WARN\".\n",
      "To adjust logging level use sc.setLogLevel(newLevel). For SparkR, use setLogLevel(newLevel).\n",
      "25/07/25 20:27:49 WARN NativeCodeLoader: Unable to load native-hadoop library for your platform... using builtin-java classes where applicable\n"
     ]
    }
   ],
   "source": [
    "import numpy as np\n",
    "import os\n",
    "\n",
    "import sys\n",
    "import pyspark\n",
    "import random\n",
    "import matplotlib.pyplot as plt\n",
    "import seaborn as sns\n",
    "from sklearn.metrics import multilabel_confusion_matrix\n",
    "from sklearn.metrics import confusion_matrix, classification_report\n",
    "\n",
    "from pyspark import SparkContext as sc\n",
    "\n",
    "print(\"Pyspark Script:\", sys.argv[0])\n",
    "print(\"PySpark version:\", pyspark.__version__)\n",
    "\n",
    "from keras.datasets import mnist\n",
    "from keras.utils import to_categorical\n",
    "\n",
    "# Initialize SparkContext\n",
    "sc = sc.getOrCreate()"
   ]
  },
  {
   "cell_type": "code",
   "execution_count": 2,
   "id": "3d29b96a",
   "metadata": {
    "execution": {
     "iopub.execute_input": "2025-07-25T20:27:52.690143Z",
     "iopub.status.busy": "2025-07-25T20:27:52.688886Z",
     "iopub.status.idle": "2025-07-25T20:27:54.243576Z",
     "shell.execute_reply": "2025-07-25T20:27:54.242134Z"
    },
    "papermill": {
     "duration": 1.565989,
     "end_time": "2025-07-25T20:27:54.245838",
     "exception": false,
     "start_time": "2025-07-25T20:27:52.679849",
     "status": "completed"
    },
    "tags": []
   },
   "outputs": [
    {
     "name": "stdout",
     "output_type": "stream",
     "text": [
      "Start downloading dataset...\n",
      "Downloading data from https://storage.googleapis.com/tensorflow/tf-keras-datasets/mnist.npz\n",
      "\u001b[1m11490434/11490434\u001b[0m \u001b[32m━━━━━━━━━━━━━━━━━━━━\u001b[0m\u001b[37m\u001b[0m \u001b[1m1s\u001b[0m 0us/step\n"
     ]
    }
   ],
   "source": [
    "print('Start downloading dataset...')\n",
    "# load MNIST from server\n",
    "(x_train, y_train), (x_test, y_test) = mnist.load_data()"
   ]
  },
  {
   "cell_type": "code",
   "execution_count": 3,
   "id": "65676994",
   "metadata": {
    "execution": {
     "iopub.execute_input": "2025-07-25T20:27:54.265346Z",
     "iopub.status.busy": "2025-07-25T20:27:54.264921Z",
     "iopub.status.idle": "2025-07-25T20:27:54.272597Z",
     "shell.execute_reply": "2025-07-25T20:27:54.270640Z"
    },
    "papermill": {
     "duration": 0.020443,
     "end_time": "2025-07-25T20:27:54.274824",
     "exception": false,
     "start_time": "2025-07-25T20:27:54.254381",
     "status": "completed"
    },
    "tags": []
   },
   "outputs": [
    {
     "name": "stdout",
     "output_type": "stream",
     "text": [
      "Training Samples:  (60000, 28, 28)\n",
      "Testing Samples:  (10000, 28, 28)\n"
     ]
    }
   ],
   "source": [
    "print(\"Training Samples: \", x_train.shape)\n",
    "print(\"Testing Samples: \", x_test.shape)"
   ]
  },
  {
   "cell_type": "code",
   "execution_count": 4,
   "id": "01ea6aab",
   "metadata": {
    "execution": {
     "iopub.execute_input": "2025-07-25T20:27:54.295196Z",
     "iopub.status.busy": "2025-07-25T20:27:54.294803Z",
     "iopub.status.idle": "2025-07-25T20:27:54.494020Z",
     "shell.execute_reply": "2025-07-25T20:27:54.492672Z"
    },
    "papermill": {
     "duration": 0.212063,
     "end_time": "2025-07-25T20:27:54.496463",
     "exception": false,
     "start_time": "2025-07-25T20:27:54.284400",
     "status": "completed"
    },
    "tags": []
   },
   "outputs": [],
   "source": [
    "# training data : 60000 samples\n",
    "# reshape and normalize input data\n",
    "x_train = x_train.reshape(x_train.shape[0], 1, 28*28)\n",
    "x_train = x_train.astype('float32')\n",
    "x_train /= 255\n",
    "# encode output which is a number in range [0,9] into a vector of size 10\n",
    "# e.g. number 3 will become [0, 0, 0, 1, 0, 0, 0, 0, 0, 0]\n",
    "y_train = to_categorical(y_train).reshape(-1, 10)\n",
    "\n",
    "# same for test data : 10000 samples\n",
    "x_test = x_test.reshape(x_test.shape[0], 1, 28*28)\n",
    "x_test = x_test.astype('float32')\n",
    "x_test /= 255\n",
    "y_test = to_categorical(y_test)"
   ]
  },
  {
   "cell_type": "code",
   "execution_count": 5,
   "id": "b22a5d28",
   "metadata": {
    "execution": {
     "iopub.execute_input": "2025-07-25T20:27:54.514414Z",
     "iopub.status.busy": "2025-07-25T20:27:54.514037Z",
     "iopub.status.idle": "2025-07-25T20:28:37.877677Z",
     "shell.execute_reply": "2025-07-25T20:28:37.876496Z"
    },
    "papermill": {
     "duration": 43.38172,
     "end_time": "2025-07-25T20:28:37.886686",
     "exception": false,
     "start_time": "2025-07-25T20:27:54.504966",
     "status": "completed"
    },
    "tags": []
   },
   "outputs": [
    {
     "name": "stdout",
     "output_type": "stream",
     "text": [
      "Dataset downloaded.\n",
      "Data is located here: /kaggle/working\\data\n"
     ]
    }
   ],
   "source": [
    "# To save the CSV data\n",
    "\n",
    "if not os.path.exists('data/'):\n",
    "    os.makedirs('data/')\n",
    "\n",
    "\n",
    "np.savetxt('data/mnist_images_train.csv', x_train.reshape(len(x_train),784).tolist())\n",
    "np.savetxt('data/mnist_images_test.csv', x_test.reshape(len(x_test),784).tolist())\n",
    "np.savetxt('data/mnist_labels_train.csv', y_train.tolist())\n",
    "np.savetxt('data/mnist_labels_test.csv', y_test.tolist())\n",
    "\n",
    "print('Dataset downloaded.')\n",
    "\n",
    "print('Data is located here:', os.getcwd() + '\\data')"
   ]
  },
  {
   "cell_type": "code",
   "execution_count": 6,
   "id": "2fb69030",
   "metadata": {
    "execution": {
     "iopub.execute_input": "2025-07-25T20:28:37.906158Z",
     "iopub.status.busy": "2025-07-25T20:28:37.905801Z",
     "iopub.status.idle": "2025-07-25T20:28:58.719573Z",
     "shell.execute_reply": "2025-07-25T20:28:58.717103Z"
    },
    "papermill": {
     "duration": 20.829688,
     "end_time": "2025-07-25T20:28:58.724162",
     "exception": false,
     "start_time": "2025-07-25T20:28:37.894474",
     "status": "completed"
    },
    "tags": []
   },
   "outputs": [
    {
     "name": "stderr",
     "output_type": "stream",
     "text": [
      "                                                                                \r"
     ]
    }
   ],
   "source": [
    "txt_train_images = sc.textFile(\"data/mnist_images_train.csv\", 1)\n",
    "x_train = txt_train_images.map(lambda x : np.fromstring(x, dtype=float, sep=' ').reshape(1, 784)).zipWithIndex().map(lambda x: (str(x[1]), x[0]))\n",
    "\n",
    "txt_train_labels = sc.textFile(\"data/mnist_labels_train.csv\", 1)\n",
    "y_train = txt_train_labels.map(lambda x : np.fromstring(x, dtype=float, sep=' ').reshape(1, 10)).zipWithIndex().map(lambda x: (str(x[1]), x[0]))\n",
    "\n",
    "txt_test_images = sc.textFile(\"data/mnist_images_test.csv\", 1)\n",
    "x_test = txt_test_images.map(lambda x : np.fromstring(x, dtype=float, sep=' ').reshape(1, 784)).zipWithIndex().map(lambda x: (str(x[1]), x[0]))\n",
    "\n",
    "txt_test_labels = sc.textFile(\"data/mnist_labels_test.csv\", 1)\n",
    "y_test = txt_test_labels.map(lambda x : np.fromstring(x, dtype=float, sep=' ').reshape(1, 10)).zipWithIndex().map(lambda x: (str(x[1]), x[0]))"
   ]
  },
  {
   "cell_type": "markdown",
   "id": "f278396c",
   "metadata": {
    "papermill": {
     "duration": 0.018829,
     "end_time": "2025-07-25T20:28:58.767322",
     "exception": false,
     "start_time": "2025-07-25T20:28:58.748493",
     "status": "completed"
    },
    "tags": []
   },
   "source": [
    "# Binary Classification"
   ]
  },
  {
   "cell_type": "markdown",
   "id": "6b59e61c",
   "metadata": {
    "papermill": {
     "duration": 0.017027,
     "end_time": "2025-07-25T20:28:58.803839",
     "exception": false,
     "start_time": "2025-07-25T20:28:58.786812",
     "status": "completed"
    },
    "tags": []
   },
   "source": [
    "## Filtered Dataset"
   ]
  },
  {
   "cell_type": "code",
   "execution_count": 7,
   "id": "e7063e0b",
   "metadata": {
    "execution": {
     "iopub.execute_input": "2025-07-25T20:28:58.845148Z",
     "iopub.status.busy": "2025-07-25T20:28:58.843396Z",
     "iopub.status.idle": "2025-07-25T20:29:38.998823Z",
     "shell.execute_reply": "2025-07-25T20:29:38.997001Z"
    },
    "papermill": {
     "duration": 40.179315,
     "end_time": "2025-07-25T20:29:39.001104",
     "exception": false,
     "start_time": "2025-07-25T20:28:58.821789",
     "status": "completed"
    },
    "tags": []
   },
   "outputs": [
    {
     "name": "stderr",
     "output_type": "stream",
     "text": [
      "                                                                                \r"
     ]
    },
    {
     "name": "stdout",
     "output_type": "stream",
     "text": [
      "Trainset size: 12665\n"
     ]
    },
    {
     "name": "stderr",
     "output_type": "stream",
     "text": [
      "[Stage 4:==========================================>                (5 + 2) / 7]\r"
     ]
    },
    {
     "name": "stdout",
     "output_type": "stream",
     "text": [
      "Testset size: 2115\n"
     ]
    },
    {
     "name": "stderr",
     "output_type": "stream",
     "text": [
      "                                                                                \r"
     ]
    }
   ],
   "source": [
    "train_ds_rdd = x_train.join(y_train).map(lambda x: x[1]).map(lambda x: (x[0], np.array([x[1][0][:2]])))\n",
    "test_ds_rdd = x_test.join(y_test).map(lambda x: x[1]).map(lambda x: (x[0], np.array([x[1][0][:2]])))\n",
    "\n",
    "train_rdd = train_ds_rdd.filter(lambda x: np.array_equal(x[1][0], [1., 0.]) or np.array_equal(x[1][0], [0., 1.]))\n",
    "test_rdd = test_ds_rdd.filter(lambda x: np.array_equal(x[1][0], [1., 0.]) or np.array_equal(x[1][0], [0., 1.]))\n",
    "\n",
    "train_rdd.cache()\n",
    "print(\"Trainset size:\", train_rdd.count())\n",
    "print(\"Testset size:\", test_rdd.count())"
   ]
  },
  {
   "cell_type": "markdown",
   "id": "e27c6724",
   "metadata": {
    "papermill": {
     "duration": 0.011765,
     "end_time": "2025-07-25T20:29:39.025819",
     "exception": false,
     "start_time": "2025-07-25T20:29:39.014054",
     "status": "completed"
    },
    "tags": []
   },
   "source": [
    "## Activation Functions"
   ]
  },
  {
   "cell_type": "code",
   "execution_count": 8,
   "id": "9408effe",
   "metadata": {
    "execution": {
     "iopub.execute_input": "2025-07-25T20:29:39.052864Z",
     "iopub.status.busy": "2025-07-25T20:29:39.051846Z",
     "iopub.status.idle": "2025-07-25T20:29:39.058800Z",
     "shell.execute_reply": "2025-07-25T20:29:39.057439Z"
    },
    "papermill": {
     "duration": 0.022682,
     "end_time": "2025-07-25T20:29:39.060768",
     "exception": false,
     "start_time": "2025-07-25T20:29:39.038086",
     "status": "completed"
    },
    "tags": []
   },
   "outputs": [],
   "source": [
    "# General function to apply any activation function\n",
    "def activation(x, f):\n",
    "    return f(x)\n",
    "\n",
    "# Sigmoid Activation function\n",
    "def sigmoid(X):\n",
    "    return 1 / (1 + np.exp(-X))\n",
    "\n",
    "# Sigmoid prime function (used for backward prop)\n",
    "def sigmoid_prime(x):\n",
    "    sig = sigmoid(x)\n",
    "    return sig * (1 - sig)"
   ]
  },
  {
   "cell_type": "markdown",
   "id": "4fb6fde1",
   "metadata": {
    "papermill": {
     "duration": 0.011925,
     "end_time": "2025-07-25T20:29:39.084932",
     "exception": false,
     "start_time": "2025-07-25T20:29:39.073007",
     "status": "completed"
    },
    "tags": []
   },
   "source": [
    "## Forward Propagation"
   ]
  },
  {
   "cell_type": "code",
   "execution_count": 9,
   "id": "9e182595",
   "metadata": {
    "execution": {
     "iopub.execute_input": "2025-07-25T20:29:39.110739Z",
     "iopub.status.busy": "2025-07-25T20:29:39.110401Z",
     "iopub.status.idle": "2025-07-25T20:29:39.116786Z",
     "shell.execute_reply": "2025-07-25T20:29:39.115702Z"
    },
    "papermill": {
     "duration": 0.021351,
     "end_time": "2025-07-25T20:29:39.118591",
     "exception": false,
     "start_time": "2025-07-25T20:29:39.097240",
     "status": "completed"
    },
    "tags": []
   },
   "outputs": [],
   "source": [
    "# Compute the layer propagation before activation\n",
    "def preforward(x, w, b):\n",
    "    return np.dot(x, w) + b\n",
    "\n",
    "# Compute the layer propagation after activation\n",
    "# This is also equivalent to a predict function once model is trained\n",
    "def predict(x, W1, B1, W2, B2):\n",
    "    return sigmoid(preforward(sigmoid(preforward(x , W1, B1)), W2, B2))"
   ]
  },
  {
   "cell_type": "markdown",
   "id": "37b34943",
   "metadata": {
    "papermill": {
     "duration": 0.011982,
     "end_time": "2025-07-25T20:29:39.143581",
     "exception": false,
     "start_time": "2025-07-25T20:29:39.131599",
     "status": "completed"
    },
    "tags": []
   },
   "source": [
    "## Backward Propagation"
   ]
  },
  {
   "cell_type": "code",
   "execution_count": 10,
   "id": "bedba5ab",
   "metadata": {
    "execution": {
     "iopub.execute_input": "2025-07-25T20:29:39.169932Z",
     "iopub.status.busy": "2025-07-25T20:29:39.169509Z",
     "iopub.status.idle": "2025-07-25T20:29:39.176984Z",
     "shell.execute_reply": "2025-07-25T20:29:39.175778Z"
    },
    "papermill": {
     "duration": 0.02324,
     "end_time": "2025-07-25T20:29:39.178965",
     "exception": false,
     "start_time": "2025-07-25T20:29:39.155725",
     "status": "completed"
    },
    "tags": []
   },
   "outputs": [],
   "source": [
    "# Compute the derivative of the error regarding B2\n",
    "def derivativeB2(y_pred, y_true, y_h, f_prime):\n",
    "    return (y_pred - y_true) * f_prime(y_h)\n",
    "\n",
    "# Compute the derivative of the error regarding W2\n",
    "def derivativeW2(h, dB2):\n",
    "    return np.dot(h.T, dB2)\n",
    "\n",
    "# Compute the derivative of the error regarding B1\n",
    "def derivativeB1(h_h, dB2, W2, f_prime):\n",
    "    return np.dot(dB2, W2.T) * f_prime(h_h)\n",
    "\n",
    "# Compute the derivative of the error regarding W1\n",
    "def derivativeW1(x, dB1):\n",
    "    return np.dot(x.T, dB1)"
   ]
  },
  {
   "cell_type": "markdown",
   "id": "9010c0b9",
   "metadata": {
    "papermill": {
     "duration": 0.01302,
     "end_time": "2025-07-25T20:29:39.205141",
     "exception": false,
     "start_time": "2025-07-25T20:29:39.192121",
     "status": "completed"
    },
    "tags": []
   },
   "source": [
    "## Evaluation Metrics"
   ]
  },
  {
   "cell_type": "code",
   "execution_count": 11,
   "id": "aabac88c",
   "metadata": {
    "execution": {
     "iopub.execute_input": "2025-07-25T20:29:39.373021Z",
     "iopub.status.busy": "2025-07-25T20:29:39.372133Z",
     "iopub.status.idle": "2025-07-25T20:29:39.378141Z",
     "shell.execute_reply": "2025-07-25T20:29:39.376993Z"
    },
    "papermill": {
     "duration": 0.16047,
     "end_time": "2025-07-25T20:29:39.380006",
     "exception": false,
     "start_time": "2025-07-25T20:29:39.219536",
     "status": "completed"
    },
    "tags": []
   },
   "outputs": [],
   "source": [
    "def get_metrics(pred, true):\n",
    "    cm = multilabel_confusion_matrix(true, pred)\n",
    "    return (cm)\n",
    "\n",
    "# Cost function\n",
    "def sse(y_pred, y_true):\n",
    "    return 0.5 * np.sum(np.power(y_pred - y_true, 2))"
   ]
  },
  {
   "cell_type": "markdown",
   "id": "894f1979",
   "metadata": {
    "papermill": {
     "duration": 0.012254,
     "end_time": "2025-07-25T20:29:39.404993",
     "exception": false,
     "start_time": "2025-07-25T20:29:39.392739",
     "status": "completed"
    },
    "tags": []
   },
   "source": [
    "## Training"
   ]
  },
  {
   "cell_type": "code",
   "execution_count": 12,
   "id": "a069e464",
   "metadata": {
    "execution": {
     "iopub.execute_input": "2025-07-25T20:29:39.432459Z",
     "iopub.status.busy": "2025-07-25T20:29:39.432119Z",
     "iopub.status.idle": "2025-07-25T20:32:31.561659Z",
     "shell.execute_reply": "2025-07-25T20:32:31.560126Z"
    },
    "papermill": {
     "duration": 172.145965,
     "end_time": "2025-07-25T20:32:31.564129",
     "exception": false,
     "start_time": "2025-07-25T20:29:39.418164",
     "status": "completed"
    },
    "tags": []
   },
   "outputs": [
    {
     "name": "stdout",
     "output_type": "stream",
     "text": [
      "Start Training Loop:\n"
     ]
    },
    {
     "name": "stderr",
     "output_type": "stream",
     "text": [
      "                                                                                \r"
     ]
    },
    {
     "name": "stdout",
     "output_type": "stream",
     "text": [
      "   Epoch 1/50 | Cost: 0.40166077218685825 | Acc: 46.81930972253553 | Batchsize:8866\n"
     ]
    },
    {
     "name": "stderr",
     "output_type": "stream",
     "text": [
      "                                                                                \r"
     ]
    },
    {
     "name": "stdout",
     "output_type": "stream",
     "text": [
      "   Epoch 2/50 | Cost: 0.3977785427797866 | Acc: 46.330690826727064 | Batchsize:8830\n"
     ]
    },
    {
     "name": "stderr",
     "output_type": "stream",
     "text": [
      "                                                                                \r"
     ]
    },
    {
     "name": "stdout",
     "output_type": "stream",
     "text": [
      "   Epoch 3/50 | Cost: 0.3914921895047188 | Acc: 46.603923347318286 | Batchsize:8819\n"
     ]
    },
    {
     "name": "stderr",
     "output_type": "stream",
     "text": [
      "                                                                                \r"
     ]
    },
    {
     "name": "stdout",
     "output_type": "stream",
     "text": [
      "   Epoch 4/50 | Cost: 0.38533025031494383 | Acc: 46.71194114318053 | Batchsize:8835\n"
     ]
    },
    {
     "name": "stderr",
     "output_type": "stream",
     "text": [
      "                                                                                \r"
     ]
    },
    {
     "name": "stdout",
     "output_type": "stream",
     "text": [
      "   Epoch 5/50 | Cost: 0.38057402006012453 | Acc: 46.60490340074568 | Batchsize:8851\n"
     ]
    },
    {
     "name": "stderr",
     "output_type": "stream",
     "text": [
      "                                                                                \r"
     ]
    },
    {
     "name": "stdout",
     "output_type": "stream",
     "text": [
      "   Epoch 6/50 | Cost: 0.3739793544283367 | Acc: 46.66138524219104 | Batchsize:8836\n"
     ]
    },
    {
     "name": "stderr",
     "output_type": "stream",
     "text": [
      "                                                                                \r"
     ]
    },
    {
     "name": "stdout",
     "output_type": "stream",
     "text": [
      "   Epoch 7/50 | Cost: 0.3692895756327072 | Acc: 46.4694548339567 | Batchsize:8823\n"
     ]
    },
    {
     "name": "stderr",
     "output_type": "stream",
     "text": [
      "                                                                                \r"
     ]
    },
    {
     "name": "stdout",
     "output_type": "stream",
     "text": [
      "   Epoch 8/50 | Cost: 0.36346090916115753 | Acc: 46.48648648648649 | Batchsize:8880\n"
     ]
    },
    {
     "name": "stderr",
     "output_type": "stream",
     "text": [
      "                                                                                \r"
     ]
    },
    {
     "name": "stdout",
     "output_type": "stream",
     "text": [
      "   Epoch 9/50 | Cost: 0.35707518827062185 | Acc: 46.637476142359944 | Batchsize:8907\n"
     ]
    },
    {
     "name": "stderr",
     "output_type": "stream",
     "text": [
      "                                                                                \r"
     ]
    },
    {
     "name": "stdout",
     "output_type": "stream",
     "text": [
      "   Epoch 10/50 | Cost: 0.35058715349858044 | Acc: 46.453659641966915 | Batchsize:8826\n"
     ]
    },
    {
     "name": "stderr",
     "output_type": "stream",
     "text": [
      "                                                                                \r"
     ]
    },
    {
     "name": "stdout",
     "output_type": "stream",
     "text": [
      "   Epoch 11/50 | Cost: 0.3457205725343279 | Acc: 46.12943443273263 | Batchsize:8823\n"
     ]
    },
    {
     "name": "stderr",
     "output_type": "stream",
     "text": [
      "                                                                                \r"
     ]
    },
    {
     "name": "stdout",
     "output_type": "stream",
     "text": [
      "   Epoch 12/50 | Cost: 0.3379181693727199 | Acc: 46.2883087400681 | Batchsize:8810\n"
     ]
    },
    {
     "name": "stderr",
     "output_type": "stream",
     "text": [
      "                                                                                \r"
     ]
    },
    {
     "name": "stdout",
     "output_type": "stream",
     "text": [
      "   Epoch 13/50 | Cost: 0.3337664099472909 | Acc: 45.64183835182251 | Batchsize:8834\n"
     ]
    },
    {
     "name": "stderr",
     "output_type": "stream",
     "text": [
      "                                                                                \r"
     ]
    },
    {
     "name": "stdout",
     "output_type": "stream",
     "text": [
      "   Epoch 14/50 | Cost: 0.32459889803560465 | Acc: 45.881300994746844 | Batchsize:8947\n"
     ]
    },
    {
     "name": "stderr",
     "output_type": "stream",
     "text": [
      "                                                                                \r"
     ]
    },
    {
     "name": "stdout",
     "output_type": "stream",
     "text": [
      "   Epoch 15/50 | Cost: 0.3161869828138869 | Acc: 46.18346545866365 | Batchsize:8830\n"
     ]
    },
    {
     "name": "stderr",
     "output_type": "stream",
     "text": [
      "                                                                                \r"
     ]
    },
    {
     "name": "stdout",
     "output_type": "stream",
     "text": [
      "   Epoch 16/50 | Cost: 0.30832454018603067 | Acc: 46.46037908198219 | Batchsize:8758\n"
     ]
    },
    {
     "name": "stderr",
     "output_type": "stream",
     "text": [
      "                                                                                \r"
     ]
    },
    {
     "name": "stdout",
     "output_type": "stream",
     "text": [
      "   Epoch 17/50 | Cost: 0.2998658536489917 | Acc: 46.586839749328554 | Batchsize:8936\n"
     ]
    },
    {
     "name": "stderr",
     "output_type": "stream",
     "text": [
      "                                                                                \r"
     ]
    },
    {
     "name": "stdout",
     "output_type": "stream",
     "text": [
      "   Epoch 18/50 | Cost: 0.29287564829298895 | Acc: 46.51841868823001 | Batchsize:8904\n"
     ]
    },
    {
     "name": "stderr",
     "output_type": "stream",
     "text": [
      "                                                                                \r"
     ]
    },
    {
     "name": "stdout",
     "output_type": "stream",
     "text": [
      "   Epoch 19/50 | Cost: 0.2837234317375057 | Acc: 47.56901754778138 | Batchsize:8947\n"
     ]
    },
    {
     "name": "stderr",
     "output_type": "stream",
     "text": [
      "                                                                                \r"
     ]
    },
    {
     "name": "stdout",
     "output_type": "stream",
     "text": [
      "   Epoch 20/50 | Cost: 0.273981211078345 | Acc: 50.13034115380256 | Batchsize:8823\n"
     ]
    },
    {
     "name": "stderr",
     "output_type": "stream",
     "text": [
      "                                                                                \r"
     ]
    },
    {
     "name": "stdout",
     "output_type": "stream",
     "text": [
      "   Epoch 21/50 | Cost: 0.2656711334047129 | Acc: 52.46808991302383 | Batchsize:8853\n"
     ]
    },
    {
     "name": "stderr",
     "output_type": "stream",
     "text": [
      "                                                                                \r"
     ]
    },
    {
     "name": "stdout",
     "output_type": "stream",
     "text": [
      "   Epoch 22/50 | Cost: 0.25597000162606687 | Acc: 56.94238448374216 | Batchsize:8765\n"
     ]
    },
    {
     "name": "stderr",
     "output_type": "stream",
     "text": [
      "                                                                                \r"
     ]
    },
    {
     "name": "stdout",
     "output_type": "stream",
     "text": [
      "   Epoch 23/50 | Cost: 0.2471591774917074 | Acc: 60.68472962249179 | Batchsize:8821\n"
     ]
    },
    {
     "name": "stderr",
     "output_type": "stream",
     "text": [
      "                                                                                \r"
     ]
    },
    {
     "name": "stdout",
     "output_type": "stream",
     "text": [
      "   Epoch 24/50 | Cost: 0.23772629896622666 | Acc: 64.49316306927336 | Batchsize:8849\n"
     ]
    },
    {
     "name": "stderr",
     "output_type": "stream",
     "text": [
      "                                                                                \r"
     ]
    },
    {
     "name": "stdout",
     "output_type": "stream",
     "text": [
      "   Epoch 25/50 | Cost: 0.22992973047325724 | Acc: 68.09014084507042 | Batchsize:8875\n"
     ]
    },
    {
     "name": "stderr",
     "output_type": "stream",
     "text": [
      "                                                                                \r"
     ]
    },
    {
     "name": "stdout",
     "output_type": "stream",
     "text": [
      "   Epoch 26/50 | Cost: 0.2227518601950995 | Acc: 70.79314648814253 | Batchsize:8813\n"
     ]
    },
    {
     "name": "stderr",
     "output_type": "stream",
     "text": [
      "                                                                                \r"
     ]
    },
    {
     "name": "stdout",
     "output_type": "stream",
     "text": [
      "   Epoch 27/50 | Cost: 0.2137748499533461 | Acc: 74.0 | Batchsize:8850\n"
     ]
    },
    {
     "name": "stderr",
     "output_type": "stream",
     "text": [
      "                                                                                \r"
     ]
    },
    {
     "name": "stdout",
     "output_type": "stream",
     "text": [
      "   Epoch 28/50 | Cost: 0.2070275918970991 | Acc: 77.10036330608537 | Batchsize:8808\n"
     ]
    },
    {
     "name": "stderr",
     "output_type": "stream",
     "text": [
      "                                                                                \r"
     ]
    },
    {
     "name": "stdout",
     "output_type": "stream",
     "text": [
      "   Epoch 29/50 | Cost: 0.20099438575414622 | Acc: 79.05443800431867 | Batchsize:8799\n"
     ]
    },
    {
     "name": "stderr",
     "output_type": "stream",
     "text": [
      "                                                                                \r"
     ]
    },
    {
     "name": "stdout",
     "output_type": "stream",
     "text": [
      "   Epoch 30/50 | Cost: 0.19418394426187133 | Acc: 81.2913350521242 | Batchsize:8921\n"
     ]
    },
    {
     "name": "stderr",
     "output_type": "stream",
     "text": [
      "                                                                                \r"
     ]
    },
    {
     "name": "stdout",
     "output_type": "stream",
     "text": [
      "   Epoch 31/50 | Cost: 0.18840488070687963 | Acc: 82.65087422447829 | Batchsize:8865\n"
     ]
    },
    {
     "name": "stderr",
     "output_type": "stream",
     "text": [
      "                                                                                \r"
     ]
    },
    {
     "name": "stdout",
     "output_type": "stream",
     "text": [
      "   Epoch 32/50 | Cost: 0.18387667620399786 | Acc: 83.90739695087521 | Batchsize:8855\n"
     ]
    },
    {
     "name": "stderr",
     "output_type": "stream",
     "text": [
      "                                                                                \r"
     ]
    },
    {
     "name": "stdout",
     "output_type": "stream",
     "text": [
      "   Epoch 33/50 | Cost: 0.1792860054379855 | Acc: 85.19400953029272 | Batchsize:8814\n"
     ]
    },
    {
     "name": "stderr",
     "output_type": "stream",
     "text": [
      "                                                                                \r"
     ]
    },
    {
     "name": "stdout",
     "output_type": "stream",
     "text": [
      "   Epoch 34/50 | Cost: 0.17395473540890885 | Acc: 86.67190657983383 | Batchsize:8906\n"
     ]
    },
    {
     "name": "stderr",
     "output_type": "stream",
     "text": [
      "                                                                                \r"
     ]
    },
    {
     "name": "stdout",
     "output_type": "stream",
     "text": [
      "   Epoch 35/50 | Cost: 0.16973935539678142 | Acc: 88.01179539525916 | Batchsize:8817\n"
     ]
    },
    {
     "name": "stderr",
     "output_type": "stream",
     "text": [
      "                                                                                \r"
     ]
    },
    {
     "name": "stdout",
     "output_type": "stream",
     "text": [
      "   Epoch 36/50 | Cost: 0.16577517962622274 | Acc: 88.37886251679356 | Batchsize:8932\n"
     ]
    },
    {
     "name": "stderr",
     "output_type": "stream",
     "text": [
      "                                                                                \r"
     ]
    },
    {
     "name": "stdout",
     "output_type": "stream",
     "text": [
      "   Epoch 37/50 | Cost: 0.16185470945245017 | Acc: 89.53292065278559 | Batchsize:8885\n"
     ]
    },
    {
     "name": "stderr",
     "output_type": "stream",
     "text": [
      "                                                                                \r"
     ]
    },
    {
     "name": "stdout",
     "output_type": "stream",
     "text": [
      "   Epoch 38/50 | Cost: 0.15777132523942028 | Acc: 90.48697621744054 | Batchsize:8830\n"
     ]
    },
    {
     "name": "stderr",
     "output_type": "stream",
     "text": [
      "                                                                                \r"
     ]
    },
    {
     "name": "stdout",
     "output_type": "stream",
     "text": [
      "   Epoch 39/50 | Cost: 0.15375825974357385 | Acc: 91.03194103194103 | Batchsize:8954\n"
     ]
    },
    {
     "name": "stderr",
     "output_type": "stream",
     "text": [
      "                                                                                \r"
     ]
    },
    {
     "name": "stdout",
     "output_type": "stream",
     "text": [
      "   Epoch 40/50 | Cost: 0.1511206296148443 | Acc: 91.44506054090755 | Batchsize:8837\n"
     ]
    },
    {
     "name": "stderr",
     "output_type": "stream",
     "text": [
      "                                                                                \r"
     ]
    },
    {
     "name": "stdout",
     "output_type": "stream",
     "text": [
      "   Epoch 41/50 | Cost: 0.14761489144941037 | Acc: 92.24254742547426 | Batchsize:8856\n"
     ]
    },
    {
     "name": "stderr",
     "output_type": "stream",
     "text": [
      "                                                                                \r"
     ]
    },
    {
     "name": "stdout",
     "output_type": "stream",
     "text": [
      "   Epoch 42/50 | Cost: 0.14434202130984558 | Acc: 92.54100202201752 | Batchsize:8902\n"
     ]
    },
    {
     "name": "stderr",
     "output_type": "stream",
     "text": [
      "                                                                                \r"
     ]
    },
    {
     "name": "stdout",
     "output_type": "stream",
     "text": [
      "   Epoch 43/50 | Cost: 0.1412230505908318 | Acc: 93.3144154370034 | Batchsize:8810\n"
     ]
    },
    {
     "name": "stderr",
     "output_type": "stream",
     "text": [
      "                                                                                \r"
     ]
    },
    {
     "name": "stdout",
     "output_type": "stream",
     "text": [
      "   Epoch 44/50 | Cost: 0.13926073837227837 | Acc: 93.3220338983051 | Batchsize:8850\n"
     ]
    },
    {
     "name": "stderr",
     "output_type": "stream",
     "text": [
      "                                                                                \r"
     ]
    },
    {
     "name": "stdout",
     "output_type": "stream",
     "text": [
      "   Epoch 45/50 | Cost: 0.13560884666724712 | Acc: 93.99222654081066 | Batchsize:9005\n"
     ]
    },
    {
     "name": "stderr",
     "output_type": "stream",
     "text": [
      "                                                                                \r"
     ]
    },
    {
     "name": "stdout",
     "output_type": "stream",
     "text": [
      "   Epoch 46/50 | Cost: 0.13350782126005825 | Acc: 93.99662731871838 | Batchsize:8895\n"
     ]
    },
    {
     "name": "stderr",
     "output_type": "stream",
     "text": [
      "                                                                                \r"
     ]
    },
    {
     "name": "stdout",
     "output_type": "stream",
     "text": [
      "   Epoch 47/50 | Cost: 0.13004813342744123 | Acc: 94.93827160493828 | Batchsize:8910\n"
     ]
    },
    {
     "name": "stderr",
     "output_type": "stream",
     "text": [
      "                                                                                \r"
     ]
    },
    {
     "name": "stdout",
     "output_type": "stream",
     "text": [
      "   Epoch 48/50 | Cost: 0.12720339546267365 | Acc: 95.20224719101124 | Batchsize:8900\n"
     ]
    },
    {
     "name": "stderr",
     "output_type": "stream",
     "text": [
      "                                                                                \r"
     ]
    },
    {
     "name": "stdout",
     "output_type": "stream",
     "text": [
      "   Epoch 49/50 | Cost: 0.12488812540075725 | Acc: 95.38966923425465 | Batchsize:8828\n"
     ]
    },
    {
     "name": "stderr",
     "output_type": "stream",
     "text": [
      "                                                                                \r"
     ]
    },
    {
     "name": "stdout",
     "output_type": "stream",
     "text": [
      "   Epoch 50/50 | Cost: 0.12273110381237709 | Acc: 95.47733095688983 | Batchsize:8977\n",
      "Training end..\n"
     ]
    },
    {
     "data": {
      "image/png": "[encoded data removed]",
      "text/plain": [
       "<Figure size 640x480 with 1 Axes>"
      ]
     },
     "metadata": {},
     "output_type": "display_data"
    },
    {
     "data": {
      "image/png": "[encoded data removed]",
      "text/plain": [
       "<Figure size 640x480 with 1 Axes>"
      ]
     },
     "metadata": {},
     "output_type": "display_data"
    }
   ],
   "source": [
    "# Hyperparameters\n",
    "num_iteration = 50\n",
    "learningRate = 0.1\n",
    "\n",
    "input_layer = 784 # number of neurones in the input layer (equal to image size)\n",
    "hidden_layer = 64 # number of neurones in the hidden layer (Custom)\n",
    "output_layer = 2 # number of neurones in the output layer (equal to the number of possible labels)\n",
    "\n",
    "# Paramater Initialization\n",
    "W1 = np.random.rand(input_layer, hidden_layer) - 0.5 # Shape (784, 64)\n",
    "B1 = np.zeros((1, hidden_layer)) # Shape (1, 64)\n",
    "W2 = np.random.rand(hidden_layer, output_layer) - 0.5 # Shape (64, 2)\n",
    "B2 = np.zeros((1, output_layer)) # Shape (1, 2)\n",
    "\n",
    "# History over epochs\n",
    "cost_history = []\n",
    "acc_history = []\n",
    "\n",
    "\n",
    "# Epoch Loop (mini batch implementation)\n",
    "print(\"Start Training Loop:\")\n",
    "\n",
    "for i in range(num_iteration):\n",
    "    \n",
    "    # Compute gradients, cost and accuracy over mini batch \n",
    "    \n",
    "    ################## Notations ######################\n",
    "    # x -> Input Image flatten of shape (1, 784)\n",
    "    # y* -> One hot label of shape (1, 2)\n",
    "    # h^ -> Forward prop from Input layer to hidden layer before activation (1, 64) using W1, B1 parm\n",
    "    # h -> Forward prop from Input layer to hidden layer after tanh activation (1, 64)\n",
    "    # y^ -> Forward prop from hidden layer to output layer before activation (1, 2) using W2, B2 parm\n",
    "    # y -> Forward prop from hidden layer to output layer after sigmoid activation (1, 2)\n",
    "    # E -> Error between y and y* using SSE\n",
    "    # Acc -> 1 is right prediction 0 otherwise\n",
    "    # DE/D? -> Partial derivative of the Error regarding parmaters (B2, W2, B1, W1)\n",
    "    \n",
    "    \n",
    "    ################# Forward Prop ######################\n",
    "    # map batch ([x], [y*]) to ([x], [h^],[y*])\n",
    "    # map batch ([x], [h^],[y*]) to ([x], [h^], [h], [y*])\n",
    "    # map batch ([x], [h^], [h], [y*]) to ([x], [h^], [h], [y^], [y*])\n",
    "    # map batch ([x], [h^], [h], [y^], [y*]) to ([x], [h^], [h], [y^], [y], [y*])\n",
    "    ################# Backward Prop #####################\n",
    "    # map batch ([x], [h^], [h], [y^], [y], [y*]) to ([x], [h^], [h], [E], [DE/DB2], [Acc])\n",
    "    # map batch ([x], [h^], [h], [E], [DE/DB2], [Acc]) to ([x], [h^], [E], [DE/DB2], [DE/DW2], [Acc])\n",
    "    # map batch ([x], [h^], [E], [DE/DB2], [DE/DW2], [Acc]) to ([x], [E], [DE/DB2], [DE/DW2], [DE/DB1], [Acc])\n",
    "    # map batch ([x], [E], [DE/DB2], [DE/DW2], [DE/DB1], [Acc]) to ([E], [DE/DB2], [DE/DW2], [DE/DB1], [DE/DW1],[Acc])\n",
    "    ############### Reduce over the mini batch #########\n",
    "\n",
    "\n",
    "    gradientCostAcc = train_rdd\\\n",
    "                        .sample(False,0.7)\\\n",
    "                        .map(lambda x: (x[0], preforward(x[0], W1, B1), x[1]))\\\n",
    "                        .map(lambda x: (x[0], x[1], activation(x[1], sigmoid), x[2]))\\\n",
    "                        .map(lambda x: (x[0], x[1], x[2], preforward(x[2], W2, B2), x[3]))\\\n",
    "                        .map(lambda x: (x[0], x[1], x[2], x[3], activation(x[3], sigmoid), x[4]))\\\n",
    "                        .map(lambda x: (x[0], x[1], x[2], sse(x[4], x[5]), derivativeB2(x[4], x[5], x[3], sigmoid_prime), int(np.argmax(x[4]) == np.argmax(x[5]))))\\\n",
    "                        .map(lambda x: (x[0], x[1], x[3], x[4],  derivativeW2(x[2], x[4]) ,x[5]))\\\n",
    "                        .map(lambda x: (x[0], x[2], x[3], x[4],  derivativeB1(x[1],  x[3], W2, sigmoid_prime) ,x[5]))\\\n",
    "                        .map(lambda x: (x[1], x[2], x[3], x[4], derivativeW1(x[0], x[4]) ,x[5], 1)) \\\n",
    "                        .reduce(lambda x, y: (x[0] + y[0], x[1] + y[1], x[2] + y[2], x[3] + y[3], x[4] + y[4], x[5] + y[5], x[6] + y[6]))\n",
    "\n",
    "    # Cost and Accuarcy of the mini batch\n",
    "    n = gradientCostAcc[-1] # number of images in the mini batch\n",
    "    cost = gradientCostAcc[0]/n # Cost over the mini batch\n",
    "    acc = gradientCostAcc[5]/n # Accuarcy over the mini batch\n",
    "    \n",
    "     # Add to history\n",
    "    cost_history.append(cost)\n",
    "    acc_history.append(acc)\n",
    "    \n",
    "\n",
    "    # Extract gradiends\n",
    "    DB2 = gradientCostAcc[1]/n\n",
    "    DW2 = gradientCostAcc[2]/n\n",
    "    DB1 = gradientCostAcc[3]/n\n",
    "    DW1 = gradientCostAcc[4]/n\n",
    "            \n",
    "    # Update parameter with new learning rate and gradients using Gradient Descent\n",
    "    B2 -= learningRate * DB2\n",
    "    W2 -= learningRate * DW2\n",
    "    B1 -= learningRate * DB1\n",
    "    W1 -= learningRate * DW1\n",
    "\n",
    "    # Display performances\n",
    "    print(f\"   Epoch {i+1}/{num_iteration} | Cost: {cost_history[i]} | Acc: {acc_history[i]*100} | Batchsize:{n}\")\n",
    "\n",
    "print(\"Training end..\")\n",
    "\n",
    "# Plot of cost over epochs\n",
    "plt.subplot(2, 1, 1)\n",
    "plt.plot(cost_history)\n",
    "plt.show()\n",
    "\n",
    "# Plot of accuracy over epochs\n",
    "plt.subplot(2, 1, 2)\n",
    "plt.plot(acc_history)\n",
    "plt.show()"
   ]
  },
  {
   "cell_type": "markdown",
   "id": "431ce8da",
   "metadata": {
    "papermill": {
     "duration": 0.04285,
     "end_time": "2025-07-25T20:32:31.650720",
     "exception": false,
     "start_time": "2025-07-25T20:32:31.607870",
     "status": "completed"
    },
    "tags": []
   },
   "source": [
    "## Evaluation/Testing"
   ]
  },
  {
   "cell_type": "code",
   "execution_count": 13,
   "id": "92771915",
   "metadata": {
    "execution": {
     "iopub.execute_input": "2025-07-25T20:32:31.734642Z",
     "iopub.status.busy": "2025-07-25T20:32:31.733396Z",
     "iopub.status.idle": "2025-07-25T20:32:33.619596Z",
     "shell.execute_reply": "2025-07-25T20:32:33.618192Z"
    },
    "papermill": {
     "duration": 1.930038,
     "end_time": "2025-07-25T20:32:33.622025",
     "exception": false,
     "start_time": "2025-07-25T20:32:31.691987",
     "status": "completed"
    },
    "tags": []
   },
   "outputs": [
    {
     "name": "stderr",
     "output_type": "stream",
     "text": [
      "                                                                                \r"
     ]
    },
    {
     "name": "stdout",
     "output_type": "stream",
     "text": [
      "Test Accuracy: 95.89%\n"
     ]
    },
    {
     "name": "stderr",
     "output_type": "stream",
     "text": [
      "                                                                                \r"
     ]
    },
    {
     "name": "stdout",
     "output_type": "stream",
     "text": [
      "Number of misclassifications: 87\n",
      "Classification Report:\n",
      "               precision    recall  f1-score   support\n",
      "\n",
      "           0     0.9827    0.9276    0.9543       980\n",
      "           1     0.9403    0.9859    0.9626      1135\n",
      "\n",
      "    accuracy                         0.9589      2115\n",
      "   macro avg     0.9615    0.9567    0.9585      2115\n",
      "weighted avg     0.9600    0.9589    0.9588      2115\n",
      "\n"
     ]
    },
    {
     "data": {
      "image/png": "[encoded data removed]",
      "text/plain": [
       "<Figure size 800x600 with 2 Axes>"
      ]
     },
     "metadata": {},
     "output_type": "display_data"
    }
   ],
   "source": [
    "# Function for evaluating accuracy on the test set\n",
    "def evaluate_model(test_rdd, *params):\n",
    "    # Each element is (image, label)\n",
    "    preds_and_trues = test_rdd.map(lambda x: (\n",
    "        np.argmax(predict(x[0], *params)),   # predicted label\n",
    "        np.argmax(x[1])                      # true label\n",
    "    ))\n",
    "    preds_and_trues_collected = preds_and_trues.collect()\n",
    "    preds, trues = zip(*preds_and_trues_collected)\n",
    "    accuracy = np.mean(np.array(preds) == np.array(trues))\n",
    "    print(f\"Test Accuracy: {accuracy*100:.2f}%\")\n",
    "\n",
    "    mistakes = test_rdd.map(lambda x: (\n",
    "            x[0], np.argmax(predict(x[0], *params)), np.argmax(x[1])\n",
    "        )).filter(lambda x: x[1] != x[2]).collect()\n",
    "\n",
    "    print(f\"Number of misclassifications: {len(mistakes)}\")\n",
    "    \n",
    "    # Confusion Matrix\n",
    "    cm = confusion_matrix(trues, preds)\n",
    "    print(\"Classification Report:\\n\", classification_report(trues, preds, digits=4))\n",
    "\n",
    "    plt.figure(figsize=(8, 6))\n",
    "    sns.heatmap(cm, annot=True, fmt='d', cmap='Blues', \n",
    "                xticklabels=[str(i) for i in range(cm.shape[0])],\n",
    "                yticklabels=[str(i) for i in range(cm.shape[0])])\n",
    "    plt.xlabel('Predicted Label')\n",
    "    plt.ylabel('True Label')\n",
    "    plt.title('Confusion Matrix - PySpark NN (Multiclass)')\n",
    "    plt.show()\n",
    "\n",
    "# For one hidden layer\n",
    "evaluate_model(test_rdd, W1, B1, W2, B2)"
   ]
  },
  {
   "cell_type": "markdown",
   "id": "5579793f",
   "metadata": {
    "papermill": {
     "duration": 0.039999,
     "end_time": "2025-07-25T20:32:33.705846",
     "exception": false,
     "start_time": "2025-07-25T20:32:33.665847",
     "status": "completed"
    },
    "tags": []
   },
   "source": [
    "## Inferencing"
   ]
  },
  {
   "cell_type": "code",
   "execution_count": 14,
   "id": "603c9ff0",
   "metadata": {
    "execution": {
     "iopub.execute_input": "2025-07-25T20:32:33.794693Z",
     "iopub.status.busy": "2025-07-25T20:32:33.792880Z",
     "iopub.status.idle": "2025-07-25T20:32:38.553780Z",
     "shell.execute_reply": "2025-07-25T20:32:38.552302Z"
    },
    "papermill": {
     "duration": 4.806715,
     "end_time": "2025-07-25T20:32:38.557489",
     "exception": false,
     "start_time": "2025-07-25T20:32:33.750774",
     "status": "completed"
    },
    "tags": []
   },
   "outputs": [
    {
     "name": "stderr",
     "output_type": "stream",
     "text": [
      "                                                                                \r"
     ]
    },
    {
     "name": "stdout",
     "output_type": "stream",
     "text": [
      "pred: 0, prob: 0.64 true: 0\n"
     ]
    },
    {
     "data": {
      "image/png": "[encoded data removed]",
      "text/plain": [
       "<Figure size 640x480 with 1 Axes>"
      ]
     },
     "metadata": {},
     "output_type": "display_data"
    },
    {
     "name": "stdout",
     "output_type": "stream",
     "text": [
      "pred: 1, prob: 0.46 true: 1\n"
     ]
    },
    {
     "data": {
      "image/png": "[encoded data removed]",
      "text/plain": [
       "<Figure size 640x480 with 1 Axes>"
      ]
     },
     "metadata": {},
     "output_type": "display_data"
    },
    {
     "name": "stdout",
     "output_type": "stream",
     "text": [
      "pred: 1, prob: 0.68 true: 1\n"
     ]
    },
    {
     "data": {
      "image/png": "[encoded data removed]",
      "text/plain": [
       "<Figure size 640x480 with 1 Axes>"
      ]
     },
     "metadata": {},
     "output_type": "display_data"
    },
    {
     "name": "stdout",
     "output_type": "stream",
     "text": [
      "pred: 0, prob: 0.66 true: 0\n"
     ]
    },
    {
     "data": {
      "image/png": "[encoded data removed]",
      "text/plain": [
       "<Figure size 640x480 with 1 Axes>"
      ]
     },
     "metadata": {},
     "output_type": "display_data"
    },
    {
     "name": "stdout",
     "output_type": "stream",
     "text": [
      "pred: 1, prob: 0.72 true: 1\n"
     ]
    },
    {
     "data": {
      "image/png": "[encoded data removed]",
      "text/plain": [
       "<Figure size 640x480 with 1 Axes>"
      ]
     },
     "metadata": {},
     "output_type": "display_data"
    },
    {
     "name": "stdout",
     "output_type": "stream",
     "text": [
      "pred: 1, prob: 0.46 true: 0\n"
     ]
    },
    {
     "data": {
      "image/png": "[encoded data removed]",
      "text/plain": [
       "<Figure size 640x480 with 1 Axes>"
      ]
     },
     "metadata": {},
     "output_type": "display_data"
    },
    {
     "name": "stdout",
     "output_type": "stream",
     "text": [
      "pred: 0, prob: 0.69 true: 0\n"
     ]
    },
    {
     "data": {
      "image/png": "[encoded data removed]",
      "text/plain": [
       "<Figure size 640x480 with 1 Axes>"
      ]
     },
     "metadata": {},
     "output_type": "display_data"
    },
    {
     "name": "stdout",
     "output_type": "stream",
     "text": [
      "pred: 1, prob: 0.66 true: 1\n"
     ]
    },
    {
     "data": {
      "image/png": "[encoded data removed]",
      "text/plain": [
       "<Figure size 640x480 with 1 Axes>"
      ]
     },
     "metadata": {},
     "output_type": "display_data"
    },
    {
     "name": "stdout",
     "output_type": "stream",
     "text": [
      "pred: 0, prob: 0.63 true: 0\n"
     ]
    },
    {
     "data": {
      "image/png": "[encoded data removed]",
      "text/plain": [
       "<Figure size 640x480 with 1 Axes>"
      ]
     },
     "metadata": {},
     "output_type": "display_data"
    },
    {
     "name": "stdout",
     "output_type": "stream",
     "text": [
      "pred: 1, prob: 0.82 true: 1\n"
     ]
    },
    {
     "data": {
      "image/png": "[encoded data removed]",
      "text/plain": [
       "<Figure size 640x480 with 1 Axes>"
      ]
     },
     "metadata": {},
     "output_type": "display_data"
    },
    {
     "name": "stdout",
     "output_type": "stream",
     "text": [
      "pred: 1, prob: 0.67 true: 1\n"
     ]
    },
    {
     "data": {
      "image/png": "[encoded data removed]",
      "text/plain": [
       "<Figure size 640x480 with 1 Axes>"
      ]
     },
     "metadata": {},
     "output_type": "display_data"
    },
    {
     "name": "stdout",
     "output_type": "stream",
     "text": [
      "pred: 1, prob: 0.8 true: 1\n"
     ]
    },
    {
     "data": {
      "image/png": "[encoded data removed]",
      "text/plain": [
       "<Figure size 640x480 with 1 Axes>"
      ]
     },
     "metadata": {},
     "output_type": "display_data"
    },
    {
     "name": "stdout",
     "output_type": "stream",
     "text": [
      "pred: 0, prob: 0.66 true: 0\n"
     ]
    },
    {
     "data": {
      "image/png": "[encoded data removed]",
      "text/plain": [
       "<Figure size 640x480 with 1 Axes>"
      ]
     },
     "metadata": {},
     "output_type": "display_data"
    },
    {
     "name": "stdout",
     "output_type": "stream",
     "text": [
      "pred: 0, prob: 0.7 true: 0\n"
     ]
    },
    {
     "data": {
      "image/png": "[encoded data removed]",
      "text/plain": [
       "<Figure size 640x480 with 1 Axes>"
      ]
     },
     "metadata": {},
     "output_type": "display_data"
    },
    {
     "name": "stdout",
     "output_type": "stream",
     "text": [
      "pred: 1, prob: 0.57 true: 1\n"
     ]
    },
    {
     "data": {
      "image/png": "[encoded data removed]",
      "text/plain": [
       "<Figure size 640x480 with 1 Axes>"
      ]
     },
     "metadata": {},
     "output_type": "display_data"
    }
   ],
   "source": [
    "# Display some Images for checking\n",
    "for image_test in test_rdd.map(lambda x: (x[0], predict(x[0], W1, B1, W2, B2), np.argmax(x[1]))).takeSample(False, 15):\n",
    "    \n",
    "    pred = np.argmax(image_test[1])\n",
    "    print(f'pred: {pred}, prob: {round(image_test[1][0][pred], 2)} true: {image_test[2]}')\n",
    "    image = np.reshape(image_test[0], (28, 28))\n",
    "    plt.imshow(image, cmap='binary')\n",
    "    plt.show()"
   ]
  },
  {
   "cell_type": "markdown",
   "id": "7ec94f57",
   "metadata": {
    "papermill": {
     "duration": 0.045671,
     "end_time": "2025-07-25T20:32:38.652055",
     "exception": false,
     "start_time": "2025-07-25T20:32:38.606384",
     "status": "completed"
    },
    "tags": []
   },
   "source": [
    "# Multi Class Classification\n",
    "\n",
    "Now we will see the multi-class classification approach."
   ]
  },
  {
   "cell_type": "markdown",
   "id": "444aae03",
   "metadata": {
    "papermill": {
     "duration": 0.048635,
     "end_time": "2025-07-25T20:32:38.745240",
     "exception": false,
     "start_time": "2025-07-25T20:32:38.696605",
     "status": "completed"
    },
    "tags": []
   },
   "source": [
    "## Unfiltered (Complete) Dataset"
   ]
  },
  {
   "cell_type": "code",
   "execution_count": 15,
   "id": "ca5ff6b8",
   "metadata": {
    "execution": {
     "iopub.execute_input": "2025-07-25T20:32:38.836364Z",
     "iopub.status.busy": "2025-07-25T20:32:38.835965Z",
     "iopub.status.idle": "2025-07-25T20:33:05.636484Z",
     "shell.execute_reply": "2025-07-25T20:33:05.635262Z"
    },
    "papermill": {
     "duration": 26.849781,
     "end_time": "2025-07-25T20:33:05.638606",
     "exception": false,
     "start_time": "2025-07-25T20:32:38.788825",
     "status": "completed"
    },
    "tags": []
   },
   "outputs": [
    {
     "name": "stderr",
     "output_type": "stream",
     "text": [
      "                                                                                \r"
     ]
    },
    {
     "name": "stdout",
     "output_type": "stream",
     "text": [
      "Trainset size: 60000\n"
     ]
    },
    {
     "name": "stderr",
     "output_type": "stream",
     "text": [
      "[Stage 117:================================>                        (4 + 3) / 7]\r"
     ]
    },
    {
     "name": "stdout",
     "output_type": "stream",
     "text": [
      "Testset size: 10000\n"
     ]
    },
    {
     "name": "stderr",
     "output_type": "stream",
     "text": [
      "                                                                                \r"
     ]
    }
   ],
   "source": [
    "train_ds_rdd = x_train.join(y_train).map(lambda x: x[1])\n",
    "test_ds_rdd = x_test.join(y_test).map(lambda x: x[1])\n",
    "\n",
    "train_rdd = train_ds_rdd\n",
    "test_rdd = test_ds_rdd\n",
    "\n",
    "train_rdd.cache()\n",
    "test_rdd.cache()\n",
    "# print(train_rdd.take(1))\n",
    "print(\"Trainset size:\", train_rdd.count())\n",
    "print(\"Testset size:\", test_ds_rdd.count())"
   ]
  },
  {
   "cell_type": "markdown",
   "id": "3413618f",
   "metadata": {
    "papermill": {
     "duration": 0.045226,
     "end_time": "2025-07-25T20:33:05.735448",
     "exception": false,
     "start_time": "2025-07-25T20:33:05.690222",
     "status": "completed"
    },
    "tags": []
   },
   "source": [
    "## Activation Functions"
   ]
  },
  {
   "cell_type": "code",
   "execution_count": 16,
   "id": "affc7d01",
   "metadata": {
    "execution": {
     "iopub.execute_input": "2025-07-25T20:33:05.827710Z",
     "iopub.status.busy": "2025-07-25T20:33:05.827362Z",
     "iopub.status.idle": "2025-07-25T20:33:05.834548Z",
     "shell.execute_reply": "2025-07-25T20:33:05.833406Z"
    },
    "papermill": {
     "duration": 0.055448,
     "end_time": "2025-07-25T20:33:05.836249",
     "exception": false,
     "start_time": "2025-07-25T20:33:05.780801",
     "status": "completed"
    },
    "tags": []
   },
   "outputs": [],
   "source": [
    "# # General function to apply any activation function\n",
    "def activation(x, f):\n",
    "    return f(x)\n",
    "\n",
    "def softmax(z):\n",
    "    e_z = np.exp(z - np.max(z))\n",
    "    return e_z / np.sum(e_z, axis=1, keepdims=True)\n",
    "\n",
    "def cross_entropy(y_pred, y_true, eps=1e-8):\n",
    "    y_pred = np.clip(y_pred, eps, 1 - eps)\n",
    "    return -np.sum(y_true * np.log(y_pred))\n",
    "    # / y_true.shape[0]\n",
    "\n",
    "def relu(x):\n",
    "    return np.maximum(0, x)\n",
    "\n",
    "def relu_prime(x):\n",
    "    return (x > 0).astype(float)"
   ]
  },
  {
   "cell_type": "markdown",
   "id": "499a93a1",
   "metadata": {
    "papermill": {
     "duration": 0.044736,
     "end_time": "2025-07-25T20:33:05.928081",
     "exception": false,
     "start_time": "2025-07-25T20:33:05.883345",
     "status": "completed"
    },
    "tags": []
   },
   "source": [
    "## Forward Propagation"
   ]
  },
  {
   "cell_type": "code",
   "execution_count": 17,
   "id": "e262ac3d",
   "metadata": {
    "execution": {
     "iopub.execute_input": "2025-07-25T20:33:06.020815Z",
     "iopub.status.busy": "2025-07-25T20:33:06.020414Z",
     "iopub.status.idle": "2025-07-25T20:33:06.026779Z",
     "shell.execute_reply": "2025-07-25T20:33:06.025679Z"
    },
    "papermill": {
     "duration": 0.054981,
     "end_time": "2025-07-25T20:33:06.028641",
     "exception": false,
     "start_time": "2025-07-25T20:33:05.973660",
     "status": "completed"
    },
    "tags": []
   },
   "outputs": [],
   "source": [
    "# Compute the layer propagation before activation\n",
    "def preforward(x, w, b):\n",
    "    return np.dot(x, w) + b\n",
    "\n",
    "def predict(x, W1, B1, W2, B2):\n",
    "    h1 = relu(preforward(x, W1, B1))\n",
    "    out = softmax(preforward(h1, W2, B2))\n",
    "    return out"
   ]
  },
  {
   "cell_type": "markdown",
   "id": "4abbb1e8",
   "metadata": {
    "papermill": {
     "duration": 0.049344,
     "end_time": "2025-07-25T20:33:06.123600",
     "exception": false,
     "start_time": "2025-07-25T20:33:06.074256",
     "status": "completed"
    },
    "tags": []
   },
   "source": [
    "## Backward Propagation"
   ]
  },
  {
   "cell_type": "code",
   "execution_count": 18,
   "id": "085a6861",
   "metadata": {
    "execution": {
     "iopub.execute_input": "2025-07-25T20:33:06.215737Z",
     "iopub.status.busy": "2025-07-25T20:33:06.214980Z",
     "iopub.status.idle": "2025-07-25T20:33:06.221699Z",
     "shell.execute_reply": "2025-07-25T20:33:06.220326Z"
    },
    "papermill": {
     "duration": 0.055152,
     "end_time": "2025-07-25T20:33:06.223813",
     "exception": false,
     "start_time": "2025-07-25T20:33:06.168661",
     "status": "completed"
    },
    "tags": []
   },
   "outputs": [],
   "source": [
    "# Compute the derivative of the error regarding B2\n",
    "def derivativeB2(y_pred, y_true):\n",
    "    # dL/dB2 = y_pred - y_true\n",
    "    return y_pred - y_true  # shape: (1, 10)\n",
    "    \n",
    "# Compute the derivative of the error regarding W2\n",
    "def derivativeW2(h, dB2):\n",
    "    # dL/dW2 = h.T @ (y_pred - y_true)\n",
    "    return np.dot(h.T, dB2)  # shapes: (64, 1)T @ (1, 10) => (64, 10)\n",
    "    \n",
    "# Compute the derivative of the error regarding B1\n",
    "def derivativeB1(dB2, W2, h_h):\n",
    "    # dL/dB1 = (y_pred - y_true) @ W2.T * relu'(h_h)\n",
    "    return np.dot(dB2, W2.T) * relu_prime(h_h)\n",
    "    \n",
    "# Compute the derivative of the error regarding W1\n",
    "def derivativeW1(x, dB1):\n",
    "    # dL/dW1 = x.T @ dB1\n",
    "    return np.dot(x.T, dB1)"
   ]
  },
  {
   "cell_type": "markdown",
   "id": "fb048515",
   "metadata": {
    "papermill": {
     "duration": 0.045934,
     "end_time": "2025-07-25T20:33:06.317277",
     "exception": false,
     "start_time": "2025-07-25T20:33:06.271343",
     "status": "completed"
    },
    "tags": []
   },
   "source": [
    "## Evaluation Metrics"
   ]
  },
  {
   "cell_type": "code",
   "execution_count": 19,
   "id": "4049f07c",
   "metadata": {
    "execution": {
     "iopub.execute_input": "2025-07-25T20:33:06.414083Z",
     "iopub.status.busy": "2025-07-25T20:33:06.413670Z",
     "iopub.status.idle": "2025-07-25T20:33:06.419660Z",
     "shell.execute_reply": "2025-07-25T20:33:06.418460Z"
    },
    "papermill": {
     "duration": 0.058413,
     "end_time": "2025-07-25T20:33:06.421504",
     "exception": false,
     "start_time": "2025-07-25T20:33:06.363091",
     "status": "completed"
    },
    "tags": []
   },
   "outputs": [],
   "source": [
    "from sklearn.metrics import confusion_matrix\n",
    "\n",
    "def get_metrics(pred, true):\n",
    "    pred_labels = np.argmax(pred, axis=1)\n",
    "    true_labels = np.argmax(true, axis=1)\n",
    "    cm = confusion_matrix(true_labels, pred_labels)\n",
    "    return cm"
   ]
  },
  {
   "cell_type": "markdown",
   "id": "79cb08e9",
   "metadata": {
    "papermill": {
     "duration": 0.045425,
     "end_time": "2025-07-25T20:33:06.514899",
     "exception": false,
     "start_time": "2025-07-25T20:33:06.469474",
     "status": "completed"
    },
    "tags": []
   },
   "source": [
    "## Training"
   ]
  },
  {
   "cell_type": "code",
   "execution_count": 20,
   "id": "dd48218e",
   "metadata": {
    "execution": {
     "iopub.execute_input": "2025-07-25T20:33:06.610166Z",
     "iopub.status.busy": "2025-07-25T20:33:06.609815Z",
     "iopub.status.idle": "2025-07-25T20:36:05.947369Z",
     "shell.execute_reply": "2025-07-25T20:36:05.946056Z"
    },
    "papermill": {
     "duration": 179.387305,
     "end_time": "2025-07-25T20:36:05.949485",
     "exception": false,
     "start_time": "2025-07-25T20:33:06.562180",
     "status": "completed"
    },
    "tags": []
   },
   "outputs": [
    {
     "name": "stdout",
     "output_type": "stream",
     "text": [
      "Start Training Loop:\n"
     ]
    },
    {
     "name": "stderr",
     "output_type": "stream",
     "text": [
      "                                                                                \r"
     ]
    },
    {
     "name": "stdout",
     "output_type": "stream",
     "text": [
      "   Epoch 1/50 | Cost: 6.720524886446208 | Acc: 9.540755804101 | Batchsize:5901\n"
     ]
    },
    {
     "name": "stderr",
     "output_type": "stream",
     "text": [
      "                                                                                \r"
     ]
    },
    {
     "name": "stdout",
     "output_type": "stream",
     "text": [
      "   Epoch 2/50 | Cost: 4.931911733893893 | Acc: 9.62800875273523 | Batchsize:5941\n"
     ]
    },
    {
     "name": "stderr",
     "output_type": "stream",
     "text": [
      "                                                                                \r"
     ]
    },
    {
     "name": "stdout",
     "output_type": "stream",
     "text": [
      "   Epoch 3/50 | Cost: 4.027141016094603 | Acc: 12.690776376907763 | Batchsize:6028\n"
     ]
    },
    {
     "name": "stderr",
     "output_type": "stream",
     "text": [
      "                                                                                \r"
     ]
    },
    {
     "name": "stdout",
     "output_type": "stream",
     "text": [
      "   Epoch 4/50 | Cost: 3.545579360267676 | Acc: 16.614420062695924 | Batchsize:6061\n"
     ]
    },
    {
     "name": "stderr",
     "output_type": "stream",
     "text": [
      "                                                                                \r"
     ]
    },
    {
     "name": "stdout",
     "output_type": "stream",
     "text": [
      "   Epoch 5/50 | Cost: 3.3040651240161543 | Acc: 19.358710562414267 | Batchsize:5832\n"
     ]
    },
    {
     "name": "stderr",
     "output_type": "stream",
     "text": [
      "                                                                                \r"
     ]
    },
    {
     "name": "stdout",
     "output_type": "stream",
     "text": [
      "   Epoch 6/50 | Cost: 3.011344378446719 | Acc: 23.2419547079857 | Batchsize:5873\n"
     ]
    },
    {
     "name": "stderr",
     "output_type": "stream",
     "text": [
      "                                                                                \r"
     ]
    },
    {
     "name": "stdout",
     "output_type": "stream",
     "text": [
      "   Epoch 7/50 | Cost: 2.787648826066202 | Acc: 27.00183119693691 | Batchsize:6007\n"
     ]
    },
    {
     "name": "stderr",
     "output_type": "stream",
     "text": [
      "                                                                                \r"
     ]
    },
    {
     "name": "stdout",
     "output_type": "stream",
     "text": [
      "   Epoch 8/50 | Cost: 2.580903467111988 | Acc: 30.811531411431424 | Batchsize:6001\n"
     ]
    },
    {
     "name": "stderr",
     "output_type": "stream",
     "text": [
      "                                                                                \r"
     ]
    },
    {
     "name": "stdout",
     "output_type": "stream",
     "text": [
      "   Epoch 9/50 | Cost: 2.365643126637429 | Acc: 34.36326391259816 | Batchsize:5858\n"
     ]
    },
    {
     "name": "stderr",
     "output_type": "stream",
     "text": [
      "                                                                                \r"
     ]
    },
    {
     "name": "stdout",
     "output_type": "stream",
     "text": [
      "   Epoch 10/50 | Cost: 2.268678295743296 | Acc: 36.86559761944123 | Batchsize:6049\n"
     ]
    },
    {
     "name": "stderr",
     "output_type": "stream",
     "text": [
      "                                                                                \r"
     ]
    },
    {
     "name": "stdout",
     "output_type": "stream",
     "text": [
      "   Epoch 11/50 | Cost: 2.105306792646007 | Acc: 40.702341137123746 | Batchsize:5980\n"
     ]
    },
    {
     "name": "stderr",
     "output_type": "stream",
     "text": [
      "                                                                                \r"
     ]
    },
    {
     "name": "stdout",
     "output_type": "stream",
     "text": [
      "   Epoch 12/50 | Cost: 2.0090130608110233 | Acc: 42.764945652173914 | Batchsize:5888\n"
     ]
    },
    {
     "name": "stderr",
     "output_type": "stream",
     "text": [
      "                                                                                \r"
     ]
    },
    {
     "name": "stdout",
     "output_type": "stream",
     "text": [
      "   Epoch 13/50 | Cost: 1.9487379604739403 | Acc: 43.33870967741936 | Batchsize:6200\n"
     ]
    },
    {
     "name": "stderr",
     "output_type": "stream",
     "text": [
      "                                                                                \r"
     ]
    },
    {
     "name": "stdout",
     "output_type": "stream",
     "text": [
      "   Epoch 14/50 | Cost: 1.8624873263107298 | Acc: 45.204803421615395 | Batchsize:6079\n"
     ]
    },
    {
     "name": "stderr",
     "output_type": "stream",
     "text": [
      "                                                                                \r"
     ]
    },
    {
     "name": "stdout",
     "output_type": "stream",
     "text": [
      "   Epoch 15/50 | Cost: 1.771933092789019 | Acc: 47.81271360218729 | Batchsize:5852\n"
     ]
    },
    {
     "name": "stderr",
     "output_type": "stream",
     "text": [
      "                                                                                \r"
     ]
    },
    {
     "name": "stdout",
     "output_type": "stream",
     "text": [
      "   Epoch 16/50 | Cost: 1.699332093402251 | Acc: 49.33576884755895 | Batchsize:6022\n"
     ]
    },
    {
     "name": "stderr",
     "output_type": "stream",
     "text": [
      "                                                                                \r"
     ]
    },
    {
     "name": "stdout",
     "output_type": "stream",
     "text": [
      "   Epoch 17/50 | Cost: 1.662641937002243 | Acc: 50.45628007300481 | Batchsize:6027\n"
     ]
    },
    {
     "name": "stderr",
     "output_type": "stream",
     "text": [
      "                                                                                \r"
     ]
    },
    {
     "name": "stdout",
     "output_type": "stream",
     "text": [
      "   Epoch 18/50 | Cost: 1.6264341487970202 | Acc: 52.290969899665555 | Batchsize:5980\n"
     ]
    },
    {
     "name": "stderr",
     "output_type": "stream",
     "text": [
      "                                                                                \r"
     ]
    },
    {
     "name": "stdout",
     "output_type": "stream",
     "text": [
      "   Epoch 19/50 | Cost: 1.5364590007833383 | Acc: 53.70680979537068 | Batchsize:5962\n"
     ]
    },
    {
     "name": "stderr",
     "output_type": "stream",
     "text": [
      "                                                                                \r"
     ]
    },
    {
     "name": "stdout",
     "output_type": "stream",
     "text": [
      "   Epoch 20/50 | Cost: 1.5017487377661218 | Acc: 55.00674308833445 | Batchsize:5932\n"
     ]
    },
    {
     "name": "stderr",
     "output_type": "stream",
     "text": [
      "                                                                                \r"
     ]
    },
    {
     "name": "stdout",
     "output_type": "stream",
     "text": [
      "   Epoch 21/50 | Cost: 1.4681788427119862 | Acc: 56.68949390345749 | Batchsize:5987\n"
     ]
    },
    {
     "name": "stderr",
     "output_type": "stream",
     "text": [
      "                                                                                \r"
     ]
    },
    {
     "name": "stdout",
     "output_type": "stream",
     "text": [
      "   Epoch 22/50 | Cost: 1.435078192675704 | Acc: 56.72197764984761 | Batchsize:5906\n"
     ]
    },
    {
     "name": "stderr",
     "output_type": "stream",
     "text": [
      "                                                                                \r"
     ]
    },
    {
     "name": "stdout",
     "output_type": "stream",
     "text": [
      "   Epoch 23/50 | Cost: 1.3863821944358838 | Acc: 57.94829024186823 | Batchsize:5995\n"
     ]
    },
    {
     "name": "stderr",
     "output_type": "stream",
     "text": [
      "                                                                                \r"
     ]
    },
    {
     "name": "stdout",
     "output_type": "stream",
     "text": [
      "   Epoch 24/50 | Cost: 1.348482197032822 | Acc: 59.2887383573243 | Batchsize:5905\n"
     ]
    },
    {
     "name": "stderr",
     "output_type": "stream",
     "text": [
      "                                                                                \r"
     ]
    },
    {
     "name": "stdout",
     "output_type": "stream",
     "text": [
      "   Epoch 25/50 | Cost: 1.2886332944975822 | Acc: 60.650887573964496 | Batchsize:6084\n"
     ]
    },
    {
     "name": "stderr",
     "output_type": "stream",
     "text": [
      "                                                                                \r"
     ]
    },
    {
     "name": "stdout",
     "output_type": "stream",
     "text": [
      "   Epoch 26/50 | Cost: 1.2877858265991324 | Acc: 60.974401321222125 | Batchsize:6055\n"
     ]
    },
    {
     "name": "stderr",
     "output_type": "stream",
     "text": [
      "                                                                                \r"
     ]
    },
    {
     "name": "stdout",
     "output_type": "stream",
     "text": [
      "   Epoch 27/50 | Cost: 1.2843041507994486 | Acc: 60.83347169184792 | Batchsize:6023\n"
     ]
    },
    {
     "name": "stderr",
     "output_type": "stream",
     "text": [
      "                                                                                \r"
     ]
    },
    {
     "name": "stdout",
     "output_type": "stream",
     "text": [
      "   Epoch 28/50 | Cost: 1.1995378493990472 | Acc: 63.6238374095763 | Batchsize:5806\n"
     ]
    },
    {
     "name": "stderr",
     "output_type": "stream",
     "text": [
      "                                                                                \r"
     ]
    },
    {
     "name": "stdout",
     "output_type": "stream",
     "text": [
      "   Epoch 29/50 | Cost: 1.2231596499731803 | Acc: 62.02489068281197 | Batchsize:5946\n"
     ]
    },
    {
     "name": "stderr",
     "output_type": "stream",
     "text": [
      "                                                                                \r"
     ]
    },
    {
     "name": "stdout",
     "output_type": "stream",
     "text": [
      "   Epoch 30/50 | Cost: 1.1856243363616992 | Acc: 64.40480160053352 | Batchsize:5998\n"
     ]
    },
    {
     "name": "stderr",
     "output_type": "stream",
     "text": [
      "                                                                                \r"
     ]
    },
    {
     "name": "stdout",
     "output_type": "stream",
     "text": [
      "   Epoch 31/50 | Cost: 1.1645191583881396 | Acc: 63.89442231075697 | Batchsize:6024\n"
     ]
    },
    {
     "name": "stderr",
     "output_type": "stream",
     "text": [
      "                                                                                \r"
     ]
    },
    {
     "name": "stdout",
     "output_type": "stream",
     "text": [
      "   Epoch 32/50 | Cost: 1.163103729840387 | Acc: 64.09440910612655 | Batchsize:5974\n"
     ]
    },
    {
     "name": "stderr",
     "output_type": "stream",
     "text": [
      "                                                                                \r"
     ]
    },
    {
     "name": "stdout",
     "output_type": "stream",
     "text": [
      "   Epoch 33/50 | Cost: 1.1559849046567428 | Acc: 65.47457627118644 | Batchsize:5900\n"
     ]
    },
    {
     "name": "stderr",
     "output_type": "stream",
     "text": [
      "                                                                                \r"
     ]
    },
    {
     "name": "stdout",
     "output_type": "stream",
     "text": [
      "   Epoch 34/50 | Cost: 1.0918424828508635 | Acc: 66.61671661671662 | Batchsize:6006\n"
     ]
    },
    {
     "name": "stderr",
     "output_type": "stream",
     "text": [
      "                                                                                \r"
     ]
    },
    {
     "name": "stdout",
     "output_type": "stream",
     "text": [
      "   Epoch 35/50 | Cost: 1.0695699269175427 | Acc: 66.61613609567122 | Batchsize:5937\n"
     ]
    },
    {
     "name": "stderr",
     "output_type": "stream",
     "text": [
      "                                                                                \r"
     ]
    },
    {
     "name": "stdout",
     "output_type": "stream",
     "text": [
      "   Epoch 36/50 | Cost: 1.0556441221993704 | Acc: 67.90060851926978 | Batchsize:5916\n"
     ]
    },
    {
     "name": "stderr",
     "output_type": "stream",
     "text": [
      "                                                                                \r"
     ]
    },
    {
     "name": "stdout",
     "output_type": "stream",
     "text": [
      "   Epoch 37/50 | Cost: 1.087892617889408 | Acc: 67.2950681703417 | Batchsize:5941\n"
     ]
    },
    {
     "name": "stderr",
     "output_type": "stream",
     "text": [
      "                                                                                \r"
     ]
    },
    {
     "name": "stdout",
     "output_type": "stream",
     "text": [
      "   Epoch 38/50 | Cost: 1.0363458853694711 | Acc: 68.69025658225726 | Batchsize:5963\n"
     ]
    },
    {
     "name": "stderr",
     "output_type": "stream",
     "text": [
      "                                                                                \r"
     ]
    },
    {
     "name": "stdout",
     "output_type": "stream",
     "text": [
      "   Epoch 39/50 | Cost: 1.0767273115536833 | Acc: 67.75818639798489 | Batchsize:5955\n"
     ]
    },
    {
     "name": "stderr",
     "output_type": "stream",
     "text": [
      "                                                                                \r"
     ]
    },
    {
     "name": "stdout",
     "output_type": "stream",
     "text": [
      "   Epoch 40/50 | Cost: 1.0470518478873898 | Acc: 67.95020746887967 | Batchsize:6025\n"
     ]
    },
    {
     "name": "stderr",
     "output_type": "stream",
     "text": [
      "                                                                                \r"
     ]
    },
    {
     "name": "stdout",
     "output_type": "stream",
     "text": [
      "   Epoch 41/50 | Cost: 0.9945188659164071 | Acc: 69.70040485829959 | Batchsize:6175\n"
     ]
    },
    {
     "name": "stderr",
     "output_type": "stream",
     "text": [
      "                                                                                \r"
     ]
    },
    {
     "name": "stdout",
     "output_type": "stream",
     "text": [
      "   Epoch 42/50 | Cost: 0.9995248102040553 | Acc: 69.90710019907101 | Batchsize:6028\n"
     ]
    },
    {
     "name": "stderr",
     "output_type": "stream",
     "text": [
      "                                                                                \r"
     ]
    },
    {
     "name": "stdout",
     "output_type": "stream",
     "text": [
      "   Epoch 43/50 | Cost: 0.9631067635476592 | Acc: 70.12578616352201 | Batchsize:6042\n"
     ]
    },
    {
     "name": "stderr",
     "output_type": "stream",
     "text": [
      "                                                                                \r"
     ]
    },
    {
     "name": "stdout",
     "output_type": "stream",
     "text": [
      "   Epoch 44/50 | Cost: 0.9776143704350556 | Acc: 70.40747028862478 | Batchsize:5890\n"
     ]
    },
    {
     "name": "stderr",
     "output_type": "stream",
     "text": [
      "                                                                                \r"
     ]
    },
    {
     "name": "stdout",
     "output_type": "stream",
     "text": [
      "   Epoch 45/50 | Cost: 0.9615247451335376 | Acc: 70.49840577278067 | Batchsize:5959\n"
     ]
    },
    {
     "name": "stderr",
     "output_type": "stream",
     "text": [
      "                                                                                \r"
     ]
    },
    {
     "name": "stdout",
     "output_type": "stream",
     "text": [
      "   Epoch 46/50 | Cost: 0.9648620043881804 | Acc: 70.16277898976338 | Batchsize:5959\n"
     ]
    },
    {
     "name": "stderr",
     "output_type": "stream",
     "text": [
      "                                                                                \r"
     ]
    },
    {
     "name": "stdout",
     "output_type": "stream",
     "text": [
      "   Epoch 47/50 | Cost: 0.9460012585897576 | Acc: 70.58236272878536 | Batchsize:6010\n"
     ]
    },
    {
     "name": "stderr",
     "output_type": "stream",
     "text": [
      "                                                                                \r"
     ]
    },
    {
     "name": "stdout",
     "output_type": "stream",
     "text": [
      "   Epoch 48/50 | Cost: 0.9086687178300671 | Acc: 71.12481739977277 | Batchsize:6161\n"
     ]
    },
    {
     "name": "stderr",
     "output_type": "stream",
     "text": [
      "                                                                                \r"
     ]
    },
    {
     "name": "stdout",
     "output_type": "stream",
     "text": [
      "   Epoch 49/50 | Cost: 0.9179217987609367 | Acc: 71.30895420369104 | Batchsize:5852\n"
     ]
    },
    {
     "name": "stderr",
     "output_type": "stream",
     "text": [
      "                                                                                \r"
     ]
    },
    {
     "name": "stdout",
     "output_type": "stream",
     "text": [
      "   Epoch 50/50 | Cost: 0.9130932337727273 | Acc: 72.05218263923733 | Batchsize:5979\n",
      "Training end..\n"
     ]
    },
    {
     "data": {
      "image/png": "[encoded data removed]",
      "text/plain": [
       "<Figure size 640x480 with 1 Axes>"
      ]
     },
     "metadata": {},
     "output_type": "display_data"
    },
    {
     "data": {
      "image/png": "[encoded data removed]",
      "text/plain": [
       "<Figure size 640x480 with 1 Axes>"
      ]
     },
     "metadata": {},
     "output_type": "display_data"
    }
   ],
   "source": [
    "# Hyperparameters\n",
    "num_iteration = 50\n",
    "learningRate = 0.1\n",
    "\n",
    "input_layer = 784 # number of neurones in the input layer (equal to image size)\n",
    "hidden_layer = 64 # number of neurones in the hidden layer (Custom)\n",
    "output_layer = 10 # number of neurones in the output layer (equal to the number of possible labels)\n",
    "\n",
    "# Paramater Initialization\n",
    "W1 = np.random.rand(input_layer, hidden_layer) - 0.5 # Shape (784, 64)\n",
    "B1 = np.zeros((1, hidden_layer)) # Shape (1, 64)\n",
    "W2 = np.random.rand(hidden_layer, output_layer) - 0.5 # Shape (64, 10)\n",
    "B2 = np.zeros((1, output_layer)) # Shape (1, 10)\n",
    "\n",
    "# History over epochs\n",
    "cost_history = []\n",
    "acc_history = []\n",
    "\n",
    "\n",
    "# Epoch Loop (mini batch implementation)\n",
    "print(\"Start Training Loop:\")\n",
    "\n",
    "for i in range(num_iteration):\n",
    "\n",
    "    # Compute gradients, cost and accuracy over mini batch\n",
    "\n",
    "    ################## Notations ######################\n",
    "    # x -> Input Image flatten of shape (1, 784)\n",
    "    # y* -> One hot label of shape (1, 2)\n",
    "    # h^ -> Forward prop from Input layer to hidden layer before activation (1, 64) using W1, B1 parm\n",
    "    # h -> Forward prop from Input layer to hidden layer after tanh activation (1, 64)\n",
    "    # y^ -> Forward prop from hidden layer to output layer before activation (1, 2) using W2, B2 parm\n",
    "    # y -> Forward prop from hidden layer to output layer after sigmoid activation (1, 2)\n",
    "    # E -> Error between y and y* using SSE\n",
    "    # Acc -> 1 is right prediction 0 otherwise\n",
    "    # DE/D? -> Partial derivative of the Error regarding parmaters (B2, W2, B1, W1)\n",
    "\n",
    "\n",
    "    ################# Forward Prop ######################\n",
    "    # map batch ([x], [y*]) to ([x], [h^],[y*])\n",
    "    # map batch ([x], [h^],[y*]) to ([x], [h^], [h], [y*])\n",
    "    # map batch ([x], [h^], [h], [y*]) to ([x], [h^], [h], [y^], [y*])\n",
    "    # map batch ([x], [h^], [h], [y^], [y*]) to ([x], [h^], [h], [y^], [y], [y*])\n",
    "    ################# Backward Prop #####################\n",
    "    # map batch ([x], [h^], [h], [y^], [y], [y*]) to ([x], [h^], [h], [E], [DE/DB2], [Acc])\n",
    "    # map batch ([x], [h^], [h], [E], [DE/DB2], [Acc]) to ([x], [h^], [E], [DE/DB2], [DE/DW2], [Acc])\n",
    "    # map batch ([x], [h^], [E], [DE/DB2], [DE/DW2], [Acc]) to ([x], [E], [DE/DB2], [DE/DW2], [DE/DB1], [Acc])\n",
    "    # map batch ([x], [E], [DE/DB2], [DE/DW2], [DE/DB1], [Acc]) to ([E], [DE/DB2], [DE/DW2], [DE/DB1], [DE/DW1],[Acc])\n",
    "    ############### Reduce over the mini batch #########\n",
    "\n",
    "\n",
    "    gradientCostAcc = train_rdd\\\n",
    "                        .sample(False,0.1)\\\n",
    "                        .map(lambda x: (x[0], preforward(x[0], W1, B1), x[1]))\\\n",
    "                        .map(lambda x: (x[0], x[1], activation(x[1], relu), x[2]))\\\n",
    "                        .map(lambda x: (x[0], x[1], x[2], preforward(x[2], W2, B2), x[3]))\\\n",
    "                        .map(lambda x: (x[0], x[1], x[2], x[3], activation(x[3], softmax), x[4]))\\\n",
    "                        .map(lambda x: (x[0], x[1], x[2], x[3], x[4], x[5], cross_entropy(x[4], x[5]), derivativeB2(x[4], x[5]), int(np.argmax(x[4]) == np.argmax(x[5]))))\\\n",
    "                        .map(lambda x: (x[0], x[1], x[2], x[3], x[4], x[5], x[6], x[7], x[8], derivativeW2(x[2], x[7])))\\\n",
    "                        .map(lambda x: (x[0], x[1], x[2], x[3], x[4], x[5], x[6], x[7], x[8], x[9], derivativeB1(x[7], W2, x[1])))\\\n",
    "                        .map(lambda x: (x[0], x[1], x[2], x[3], x[4], x[5], x[6], x[7], x[8], x[9], x[10], derivativeW1(x[0], x[10]), 1)) \\\n",
    "                        .reduce(lambda x, y: tuple(a + b if isinstance(a, np.ndarray) else a + b for a, b in zip(x, y)))\n",
    "\n",
    "    # print(gradientCostAcc)\n",
    "\n",
    "    #\n",
    "    # Cost and Accuarcy of the mini batch\n",
    "    n = gradientCostAcc[-1] # number of images in the mini batch\n",
    "    cost = gradientCostAcc[6]/n # Cost over the mini batch\n",
    "    acc = gradientCostAcc[8]/n # Accuarcy over the mini batch\n",
    "\n",
    "     # Add to history\n",
    "    cost_history.append(cost)\n",
    "    acc_history.append(acc)\n",
    "\n",
    "\n",
    "    # Extract gradiends\n",
    "    DB2 = gradientCostAcc[7]/n\n",
    "    DW2 = gradientCostAcc[9]/n\n",
    "    DB1 = gradientCostAcc[10]/n\n",
    "    DW1 = gradientCostAcc[11]/n\n",
    "\n",
    "    # Update parameter with new learning rate and gradients using Gradient Descent\n",
    "    B2 -= learningRate * DB2\n",
    "    W2 -= learningRate * DW2\n",
    "    B1 -= learningRate * DB1\n",
    "    W1 -= learningRate * DW1\n",
    "\n",
    "    # Display performances\n",
    "    print(f\"   Epoch {i+1}/{num_iteration} | Cost: {cost_history[i]} | Acc: {acc_history[i]*100} | Batchsize:{n}\")\n",
    "\n",
    "print(\"Training end..\")\n",
    "\n",
    "# Plot of cost over epochs\n",
    "plt.subplot(2, 1, 1)\n",
    "plt.plot(cost_history)\n",
    "plt.show()\n",
    "\n",
    "# Plot of accuracy over epochs\n",
    "plt.subplot(2, 1, 2)\n",
    "plt.plot(acc_history)\n",
    "plt.show()"
   ]
  },
  {
   "cell_type": "markdown",
   "id": "d5f3c37d",
   "metadata": {
    "papermill": {
     "duration": 0.083013,
     "end_time": "2025-07-25T20:36:06.112720",
     "exception": false,
     "start_time": "2025-07-25T20:36:06.029707",
     "status": "completed"
    },
    "tags": []
   },
   "source": [
    "## Evaluation/Testing"
   ]
  },
  {
   "cell_type": "code",
   "execution_count": 21,
   "id": "0de1b969",
   "metadata": {
    "execution": {
     "iopub.execute_input": "2025-07-25T20:36:06.268706Z",
     "iopub.status.busy": "2025-07-25T20:36:06.268323Z",
     "iopub.status.idle": "2025-07-25T20:36:09.011863Z",
     "shell.execute_reply": "2025-07-25T20:36:09.010824Z"
    },
    "papermill": {
     "duration": 2.823359,
     "end_time": "2025-07-25T20:36:09.014042",
     "exception": false,
     "start_time": "2025-07-25T20:36:06.190683",
     "status": "completed"
    },
    "tags": []
   },
   "outputs": [
    {
     "name": "stderr",
     "output_type": "stream",
     "text": [
      "                                                                                \r"
     ]
    },
    {
     "name": "stdout",
     "output_type": "stream",
     "text": [
      "Test Accuracy: 72.42%\n"
     ]
    },
    {
     "name": "stderr",
     "output_type": "stream",
     "text": [
      "                                                                                \r"
     ]
    },
    {
     "name": "stdout",
     "output_type": "stream",
     "text": [
      "Number of misclassifications: 2758\n",
      "Classification Report:\n",
      "               precision    recall  f1-score   support\n",
      "\n",
      "           0     0.8008    0.8367    0.8184       980\n",
      "           1     0.8657    0.9145    0.8895      1135\n",
      "           2     0.7273    0.6899    0.7081      1032\n",
      "           3     0.7136    0.7129    0.7132      1010\n",
      "           4     0.7450    0.7138    0.7291       982\n",
      "           5     0.5820    0.5448    0.5628       892\n",
      "           6     0.7667    0.8027    0.7843       958\n",
      "           7     0.7706    0.7383    0.7541      1028\n",
      "           8     0.5635    0.5832    0.5732       974\n",
      "           9     0.6578    0.6630    0.6604      1009\n",
      "\n",
      "    accuracy                         0.7242     10000\n",
      "   macro avg     0.7193    0.7200    0.7193     10000\n",
      "weighted avg     0.7229    0.7242    0.7232     10000\n",
      "\n"
     ]
    },
    {
     "data": {
      "image/png": "[encoded data removed]",
      "text/plain": [
       "<Figure size 800x600 with 2 Axes>"
      ]
     },
     "metadata": {},
     "output_type": "display_data"
    }
   ],
   "source": [
    "# Function for evaluating accuracy on the test set\n",
    "def evaluate_model(test_rdd, *params):\n",
    "    # Each element is (image, label)\n",
    "    preds_and_trues = test_rdd.map(lambda x: (\n",
    "        np.argmax(predict(x[0], *params)),   # predicted label\n",
    "        np.argmax(x[1])                      # true label\n",
    "    ))\n",
    "    preds_and_trues_collected = preds_and_trues.collect()\n",
    "    preds, trues = zip(*preds_and_trues_collected)\n",
    "    accuracy = np.mean(np.array(preds) == np.array(trues))\n",
    "    print(f\"Test Accuracy: {accuracy*100:.2f}%\")\n",
    "\n",
    "    mistakes = test_rdd.map(lambda x: (\n",
    "            x[0], np.argmax(predict(x[0], *params)), np.argmax(x[1])\n",
    "        )).filter(lambda x: x[1] != x[2]).collect()\n",
    "\n",
    "    print(f\"Number of misclassifications: {len(mistakes)}\")\n",
    "    \n",
    "    # Confusion Matrix\n",
    "    cm = confusion_matrix(trues, preds)\n",
    "    print(\"Classification Report:\\n\", classification_report(trues, preds, digits=4))\n",
    "\n",
    "    plt.figure(figsize=(8, 6))\n",
    "    sns.heatmap(cm, annot=True, fmt='d', cmap='Blues', \n",
    "                xticklabels=[str(i) for i in range(cm.shape[0])],\n",
    "                yticklabels=[str(i) for i in range(cm.shape[0])])\n",
    "    plt.xlabel('Predicted Label')\n",
    "    plt.ylabel('True Label')\n",
    "    plt.title('Confusion Matrix - PySpark NN (Multiclass)')\n",
    "    plt.show()\n",
    "\n",
    "# For one hidden layer\n",
    "evaluate_model(test_rdd, W1, B1, W2, B2)\n",
    "\n",
    "# For two hidden layers\n",
    "# evaluate_model(test_rdd, W1, B1, W2, B2, W3, B3)"
   ]
  },
  {
   "cell_type": "markdown",
   "id": "1ad6f45a",
   "metadata": {
    "papermill": {
     "duration": 0.0749,
     "end_time": "2025-07-25T20:36:09.170122",
     "exception": false,
     "start_time": "2025-07-25T20:36:09.095222",
     "status": "completed"
    },
    "tags": []
   },
   "source": [
    "## Inferencing"
   ]
  },
  {
   "cell_type": "code",
   "execution_count": 22,
   "id": "e6343c70",
   "metadata": {
    "execution": {
     "iopub.execute_input": "2025-07-25T20:36:09.328377Z",
     "iopub.status.busy": "2025-07-25T20:36:09.328032Z",
     "iopub.status.idle": "2025-07-25T20:36:13.350485Z",
     "shell.execute_reply": "2025-07-25T20:36:13.349452Z"
    },
    "papermill": {
     "duration": 4.108328,
     "end_time": "2025-07-25T20:36:13.352510",
     "exception": false,
     "start_time": "2025-07-25T20:36:09.244182",
     "status": "completed"
    },
    "tags": []
   },
   "outputs": [
    {
     "name": "stderr",
     "output_type": "stream",
     "text": [
      "[Stage 225:========================================>                (5 + 2) / 7]\r"
     ]
    },
    {
     "name": "stdout",
     "output_type": "stream",
     "text": [
      "pred: 2, prob: 0.94 true: 2\n"
     ]
    },
    {
     "name": "stderr",
     "output_type": "stream",
     "text": [
      "                                                                                \r"
     ]
    },
    {
     "data": {
      "image/png": "[encoded data removed]",
      "text/plain": [
       "<Figure size 640x480 with 1 Axes>"
      ]
     },
     "metadata": {},
     "output_type": "display_data"
    },
    {
     "name": "stdout",
     "output_type": "stream",
     "text": [
      "pred: 3, prob: 0.89 true: 3\n"
     ]
    },
    {
     "data": {
      "image/png": "[encoded data removed]",
      "text/plain": [
       "<Figure size 640x480 with 1 Axes>"
      ]
     },
     "metadata": {},
     "output_type": "display_data"
    },
    {
     "name": "stdout",
     "output_type": "stream",
     "text": [
      "pred: 4, prob: 0.34 true: 9\n"
     ]
    },
    {
     "data": {
      "image/png": "[encoded data removed]",
      "text/plain": [
       "<Figure size 640x480 with 1 Axes>"
      ]
     },
     "metadata": {},
     "output_type": "display_data"
    },
    {
     "name": "stdout",
     "output_type": "stream",
     "text": [
      "pred: 9, prob: 0.94 true: 9\n"
     ]
    },
    {
     "data": {
      "image/png": "[encoded data removed]",
      "text/plain": [
       "<Figure size 640x480 with 1 Axes>"
      ]
     },
     "metadata": {},
     "output_type": "display_data"
    },
    {
     "name": "stdout",
     "output_type": "stream",
     "text": [
      "pred: 8, prob: 0.48 true: 9\n"
     ]
    },
    {
     "data": {
      "image/png": "[encoded data removed]",
      "text/plain": [
       "<Figure size 640x480 with 1 Axes>"
      ]
     },
     "metadata": {},
     "output_type": "display_data"
    },
    {
     "name": "stdout",
     "output_type": "stream",
     "text": [
      "pred: 8, prob: 0.52 true: 2\n"
     ]
    },
    {
     "data": {
      "image/png": "[encoded data removed]",
      "text/plain": [
       "<Figure size 640x480 with 1 Axes>"
      ]
     },
     "metadata": {},
     "output_type": "display_data"
    },
    {
     "name": "stdout",
     "output_type": "stream",
     "text": [
      "pred: 1, prob: 0.52 true: 1\n"
     ]
    },
    {
     "data": {
      "image/png": "[encoded data removed]",
      "text/plain": [
       "<Figure size 640x480 with 1 Axes>"
      ]
     },
     "metadata": {},
     "output_type": "display_data"
    },
    {
     "name": "stdout",
     "output_type": "stream",
     "text": [
      "pred: 3, prob: 0.67 true: 3\n"
     ]
    },
    {
     "data": {
      "image/png": "[encoded data removed]",
      "text/plain": [
       "<Figure size 640x480 with 1 Axes>"
      ]
     },
     "metadata": {},
     "output_type": "display_data"
    },
    {
     "name": "stdout",
     "output_type": "stream",
     "text": [
      "pred: 2, prob: 0.51 true: 3\n"
     ]
    },
    {
     "data": {
      "image/png": "[encoded data removed]",
      "text/plain": [
       "<Figure size 640x480 with 1 Axes>"
      ]
     },
     "metadata": {},
     "output_type": "display_data"
    },
    {
     "name": "stdout",
     "output_type": "stream",
     "text": [
      "pred: 0, prob: 0.61 true: 0\n"
     ]
    },
    {
     "data": {
      "image/png": "[encoded data removed]",
      "text/plain": [
       "<Figure size 640x480 with 1 Axes>"
      ]
     },
     "metadata": {},
     "output_type": "display_data"
    },
    {
     "name": "stdout",
     "output_type": "stream",
     "text": [
      "pred: 8, prob: 0.59 true: 8\n"
     ]
    },
    {
     "data": {
      "image/png": "[encoded data removed]",
      "text/plain": [
       "<Figure size 640x480 with 1 Axes>"
      ]
     },
     "metadata": {},
     "output_type": "display_data"
    },
    {
     "name": "stdout",
     "output_type": "stream",
     "text": [
      "pred: 7, prob: 0.59 true: 3\n"
     ]
    },
    {
     "data": {
      "image/png": "[encoded data removed]",
      "text/plain": [
       "<Figure size 640x480 with 1 Axes>"
      ]
     },
     "metadata": {},
     "output_type": "display_data"
    },
    {
     "name": "stdout",
     "output_type": "stream",
     "text": [
      "pred: 6, prob: 0.56 true: 6\n"
     ]
    },
    {
     "data": {
      "image/png": "[encoded data removed]",
      "text/plain": [
       "<Figure size 640x480 with 1 Axes>"
      ]
     },
     "metadata": {},
     "output_type": "display_data"
    },
    {
     "name": "stdout",
     "output_type": "stream",
     "text": [
      "pred: 7, prob: 0.99 true: 7\n"
     ]
    },
    {
     "data": {
      "image/png": "[encoded data removed]",
      "text/plain": [
       "<Figure size 640x480 with 1 Axes>"
      ]
     },
     "metadata": {},
     "output_type": "display_data"
    },
    {
     "name": "stdout",
     "output_type": "stream",
     "text": [
      "pred: 3, prob: 0.96 true: 3\n"
     ]
    },
    {
     "data": {
      "image/png": "[encoded data removed]",
      "text/plain": [
       "<Figure size 640x480 with 1 Axes>"
      ]
     },
     "metadata": {},
     "output_type": "display_data"
    }
   ],
   "source": [
    "# Display some Images for checking\n",
    "for image_test in test_rdd.map(lambda x: (x[0], predict(x[0], W1, B1, W2, B2), np.argmax(x[1]))).takeSample(False, 15):\n",
    "\n",
    "    pred = np.argmax(image_test[1])\n",
    "    print(f'pred: {pred}, prob: {round(image_test[1][0][pred], 2)} true: {image_test[2]}')\n",
    "    image = np.reshape(image_test[0], (28, 28))\n",
    "    plt.imshow(image, cmap='binary')\n",
    "    plt.show()"
   ]
  },
  {
   "cell_type": "code",
   "execution_count": null,
   "id": "786e0410",
   "metadata": {
    "papermill": {
     "duration": 0.088087,
     "end_time": "2025-07-25T20:36:13.525531",
     "exception": false,
     "start_time": "2025-07-25T20:36:13.437444",
     "status": "completed"
    },
    "tags": []
   },
   "outputs": [],
   "source": []
  }
 ],
 "metadata": {
  "kaggle": {
   "accelerator": "none",
   "dataSources": [],
   "dockerImageVersionId": 31089,
   "isGpuEnabled": false,
   "isInternetEnabled": true,
   "language": "python",
   "sourceType": "notebook"
  },
  "kernelspec": {
   "display_name": "Python 3",
   "language": "python",
   "name": "python3"
  },
  "language_info": {
   "codemirror_mode": {
    "name": "ipython",
    "version": 3
   },
   "file_extension": ".py",
   "mimetype": "text/x-python",
   "name": "python",
   "nbconvert_exporter": "python",
   "pygments_lexer": "ipython3",
   "version": "3.11.13"
  },
  "papermill": {
   "default_parameters": {},
   "duration": 541.966406,
   "end_time": "2025-07-25T20:36:16.236222",
   "environment_variables": {},
   "exception": null,
   "input_path": "__notebook__.ipynb",
   "output_path": "__notebook__.ipynb",
   "parameters": {},
   "start_time": "2025-07-25T20:27:14.269816",
   "version": "2.6.0"
  }
 },
 "nbformat": 4,
 "nbformat_minor": 5
}
